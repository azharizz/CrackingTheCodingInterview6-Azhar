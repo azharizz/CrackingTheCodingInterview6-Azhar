{
 "metadata": {
  "language_info": {
   "codemirror_mode": {
    "name": "ipython",
    "version": 3
   },
   "file_extension": ".py",
   "mimetype": "text/x-python",
   "name": "python",
   "nbconvert_exporter": "python",
   "pygments_lexer": "ipython3",
   "version": "3.8.8-final"
  },
  "orig_nbformat": 2,
  "kernelspec": {
   "name": "python388jvsc74a57bd0b02821161fbb83fc6a6b46d4a58e013eb1e8cbf4389161cf74382c4da59844a1",
   "display_name": "Python 3.8.8 64-bit ('myenv': conda)"
  }
 },
 "nbformat": 4,
 "nbformat_minor": 2,
 "cells": [
  {
   "source": [
    "# **Arrays and Strings**"
   ],
   "cell_type": "markdown",
   "metadata": {}
  },
  {
   "source": [
    "## **Is Unique**"
   ],
   "cell_type": "markdown",
   "metadata": {}
  },
  {
   "cell_type": "code",
   "execution_count": 6,
   "metadata": {},
   "outputs": [
    {
     "output_type": "stream",
     "name": "stdout",
     "text": [
      "\n",
      "Note: you may need to restart the kernel to use updated packages.\n",
      "usage: conda-script.py [-h] [-V] command ...\n",
      "conda-script.py: error: unrecognized arguments: mkl-service\n"
     ]
    }
   ],
   "source": [
    "conda install -c conda-forge mkl-service"
   ]
  },
  {
   "cell_type": "code",
   "execution_count": 135,
   "metadata": {},
   "outputs": [
    {
     "output_type": "stream",
     "name": "stdout",
     "text": [
      "abcdd\n"
     ]
    },
    {
     "output_type": "execute_result",
     "data": {
      "text/plain": [
       "False"
      ]
     },
     "metadata": {},
     "execution_count": 135
    }
   ],
   "source": [
    "def isUniqueChars(st):\n",
    " \n",
    "    # String length cannot be more than\n",
    "    # 256.\n",
    "    print(st)\n",
    "    if len(st) > 256:\n",
    "        return False\n",
    " \n",
    "    # Initialize occurrences of all characters\n",
    "    char_set = [False] * 128\n",
    " \n",
    "    # For every character, check if it exists\n",
    "    # in char_set\n",
    "    for i in range(0, len(st)):\n",
    " \n",
    "        # Find ASCII value and check if it\n",
    "        # exists in set.\n",
    "        val = ord(st[i])\n",
    "        if char_set[val]:\n",
    "            return False\n",
    " \n",
    "        char_set[val] = True\n",
    " \n",
    "    return True\n",
    "\n",
    "isUniqueChars('abcdd')"
   ]
  },
  {
   "cell_type": "code",
   "execution_count": 145,
   "metadata": {},
   "outputs": [],
   "source": [
    "def isUnique(st):\n",
    "    checker=0\n",
    "    for i in list(st):\n",
    "        val = ord(i) - ord('a')\n",
    "        print([checker, val, (checker & (1 << val))])\n",
    "        if (checker & (1 << val) > 0):\n",
    "            return False\n",
    "        \n",
    "        checker |= (1<< val)\n",
    "    return True"
   ]
  },
  {
   "cell_type": "code",
   "execution_count": 150,
   "metadata": {},
   "outputs": [
    {
     "output_type": "stream",
     "name": "stdout",
     "text": [
      "[0, 0, 0]\n[1, 2, 0]\n[5, 3, 0]\n[13, 1, 0]\n[15, 25, 0]\nTrue\n"
     ]
    }
   ],
   "source": [
    "print(isUnique(\"acdbz\"))"
   ]
  },
  {
   "source": [
    "## **Check Permutation**"
   ],
   "cell_type": "markdown",
   "metadata": {}
  },
  {
   "cell_type": "code",
   "execution_count": 51,
   "metadata": {},
   "outputs": [
    {
     "output_type": "stream",
     "name": "stdout",
     "text": [
      "Yes\n"
     ]
    }
   ],
   "source": [
    "# Python 3 program to check whether two\n",
    "# strings are Permutations of each other\n",
    " \n",
    "# function to check whether two strings\n",
    "# are Permutation of each other */\n",
    "def arePermutation(str1, str2):\n",
    "     \n",
    "    # Get lenghts of both strings\n",
    "    n1 = len(str1)\n",
    "    n2 = len(str2)\n",
    " \n",
    "    # If length of both strings is not same,\n",
    "    # then they cannot be Permutation\n",
    "    if (n1 != n2):\n",
    "        return False\n",
    " \n",
    "    # Sort both strings\n",
    "    a = sorted(str1)\n",
    "    str1 = \" \".join(a)\n",
    "    b = sorted(str2)\n",
    "    str2 = \" \".join(b)\n",
    " \n",
    "    # Compare sorted strings\n",
    "    for i in range(0, n1, 1):\n",
    "        if (str1[i] != str2[i]):\n",
    "            return False\n",
    " \n",
    "    return True\n",
    " \n",
    "# Driver Code\n",
    "if __name__ == '__main__':\n",
    "    str1 = \"geeksforgeeks\"\n",
    "    str2 = \"forgeeksgeeks\"\n",
    "    if (arePermutation(str1, str2)):\n",
    "        print(\"Yes\")\n",
    "    else:\n",
    "        print(\"No\")\n",
    " \n",
    "# This code is contributed by\n",
    "# Sahil_Shelangia"
   ]
  },
  {
   "cell_type": "code",
   "execution_count": 152,
   "metadata": {},
   "outputs": [],
   "source": [
    "def sort(s):\n",
    "    content = list(s)\n",
    "    content.sort()\n",
    "    return ''.join(content)\n",
    "\n",
    "def permutation(s, t):\n",
    "    if len(s) != len(t):\n",
    "        return False\n",
    "    return sort(s) == sort(t)"
   ]
  },
  {
   "cell_type": "code",
   "execution_count": 156,
   "metadata": {},
   "outputs": [
    {
     "output_type": "execute_result",
     "data": {
      "text/plain": [
       "True"
      ]
     },
     "metadata": {},
     "execution_count": 156
    }
   ],
   "source": [
    "permutation(\"geeksforgeeks\", \"forgeeksgeeks\")"
   ]
  },
  {
   "cell_type": "code",
   "execution_count": 65,
   "metadata": {},
   "outputs": [],
   "source": [
    "def is_permutation(a, b):\n",
    "    if len(a) != len(b):\n",
    "        return False\n",
    "\n",
    "    char_count = [0] * 256\n",
    "    for c in a:\n",
    "        char_count[ord(c)] += 1\n",
    "\n",
    "    for c in b:\n",
    "        char_count[ord(c)] -= 1\n",
    "        if char_count[ord(c)] < 0:\n",
    "            return False\n",
    "\n",
    "    return True"
   ]
  },
  {
   "cell_type": "code",
   "execution_count": 66,
   "metadata": {},
   "outputs": [
    {
     "output_type": "execute_result",
     "data": {
      "text/plain": [
       "True"
      ]
     },
     "metadata": {},
     "execution_count": 66
    }
   ],
   "source": [
    "is_permutation(\"geeksforgeeks\", \"forgeeksgeeks\")\n"
   ]
  },
  {
   "source": [
    "## **URLify**"
   ],
   "cell_type": "markdown",
   "metadata": {}
  },
  {
   "cell_type": "code",
   "execution_count": 67,
   "metadata": {},
   "outputs": [
    {
     "output_type": "stream",
     "name": "stdout",
     "text": [
      "Mr%20John%20Smith\n"
     ]
    }
   ],
   "source": [
    "# Maximum length of string after modifications.\n",
    "MAX = 1000;\n",
    " \n",
    "# Replaces spaces with %20 in-place and returns\n",
    "# new length of modified string. It returns -1\n",
    "# if modified string cannot be stored in str[]\n",
    "def replaceSpaces(string):\n",
    "     \n",
    "    # Remove remove leading and trailing spaces\n",
    "    string = string.strip()\n",
    " \n",
    "    i = len(string)\n",
    " \n",
    "    # count spaces and find current length\n",
    "    space_count = string.count(' ')\n",
    " \n",
    "    # Find new length.\n",
    "    new_length = i + space_count * 2\n",
    " \n",
    "    # New length must be smaller than length\n",
    "    # of string provided.\n",
    "    if new_length > MAX:\n",
    "        return -1\n",
    " \n",
    "    # Start filling character from end\n",
    "    index = new_length - 1\n",
    " \n",
    "    string = list(string)\n",
    " \n",
    "    # Fill string array\n",
    "    for f in range(i - 2, new_length - 2):\n",
    "        string.append('0')\n",
    " \n",
    "    # Fill rest of the string from end\n",
    "    for j in range(i - 1, 0, -1):\n",
    " \n",
    "        # inserts %20 in place of space\n",
    "        if string[j] == ' ':\n",
    "            string[index] = '0'\n",
    "            string[index - 1] = '2'\n",
    "            string[index - 2] = '%'\n",
    "            index = index - 3\n",
    "        else:\n",
    "            string[index] = string[j]\n",
    "            index -= 1\n",
    " \n",
    "    return ''.join(string)\n",
    " \n",
    "# Driver Code\n",
    "if __name__ == '__main__':\n",
    "    s = \"Mr John Smith \"\n",
    "    s = replaceSpaces(s)\n",
    "    print(s)\n",
    " \n",
    "# This code is contributed by Vinayak"
   ]
  },
  {
   "cell_type": "code",
   "execution_count": 68,
   "metadata": {},
   "outputs": [
    {
     "output_type": "stream",
     "name": "stdout",
     "text": [
      "Mr%20John%20Smith\n"
     ]
    }
   ],
   "source": [
    "# Python3 implementation of above approach\n",
    " \n",
    "# Instantiate the string\n",
    "s = \"Mr John Smith \"\n",
    " \n",
    "# Trim the given string\n",
    "s = s.strip()\n",
    " \n",
    "# Replace All space (unicode is \\\\s) to %20\n",
    "s = s.replace(' ', \"%20\")\n",
    " \n",
    "# Display the result\n",
    "print(s)\n",
    " \n",
    "# This code is contributed by vinayak"
   ]
  },
  {
   "source": [
    "## **Palindrome Permutation**\n",
    "    "
   ],
   "cell_type": "markdown",
   "metadata": {}
  },
  {
   "cell_type": "code",
   "execution_count": 158,
   "metadata": {},
   "outputs": [],
   "source": [
    "from collections import Counter\n",
    "\n",
    "\n",
    "def is_palindrome_permutation(data: str) -> bool:\n",
    "    \"\"\"Given a string, check if it is a permutation of a palindrome.\"\"\"\n",
    "    data = data.lower().replace(' ', '')\n",
    "    num_odd = sum(1 for char, freq in Counter(data).items() if char != ' ' and freq % 2 == 1)\n",
    "# Check for two types of palindromes , 1) Odd Length (e.g. abc cba) 2) Even Length (e.g. abc d cba)\n",
    "    if num_odd == 1 and len(data) % 2 == 1 or num_odd == 0 and len(data) % 2 == 0:\n",
    "        return True\n",
    "    else:\n",
    "        return False"
   ]
  },
  {
   "cell_type": "code",
   "execution_count": 165,
   "metadata": {},
   "outputs": [
    {
     "output_type": "execute_result",
     "data": {
      "text/plain": [
       "True"
      ]
     },
     "metadata": {},
     "execution_count": 165
    }
   ],
   "source": [
    "is_palindrome_permutation(\"Tact Coa\")"
   ]
  },
  {
   "cell_type": "code",
   "execution_count": 167,
   "metadata": {},
   "outputs": [
    {
     "output_type": "execute_result",
     "data": {
      "text/plain": [
       "dict_items([('T', 1), ('a', 2), ('c', 2), ('t', 1), ('o', 1)])"
      ]
     },
     "metadata": {},
     "execution_count": 167
    }
   ],
   "source": [
    "x = \"Tactcoa\"\n",
    "Counter(x).items()"
   ]
  },
  {
   "cell_type": "code",
   "execution_count": 168,
   "metadata": {},
   "outputs": [
    {
     "output_type": "stream",
     "name": "stdout",
     "text": [
      "No\nNo\n"
     ]
    }
   ],
   "source": [
    "# Python3 implementation to check if\n",
    "# characters of a given string can\n",
    "# be rearranged to form a palindrome\n",
    " \n",
    "NO_OF_CHARS = 256\n",
    " \n",
    "# function to check whether characters\n",
    "# of a string can form a palindrome\n",
    " \n",
    " \n",
    "def canFormPalindrome(st):\n",
    " \n",
    "    # Create a count array and initialize\n",
    "    # all values as 0\n",
    "    count = [0] * (NO_OF_CHARS)\n",
    " \n",
    "    # For each character in input strings,\n",
    "    # increment count in the corresponding\n",
    "    # count array\n",
    "    for i in range(0, len(st)):\n",
    "        count[ord(st[i])] = count[ord(st[i])] + 1\n",
    " \n",
    "    # Count odd occurring characters\n",
    "    odd = 0\n",
    " \n",
    "    for i in range(0, NO_OF_CHARS):\n",
    "        if (count[i] & 1):\n",
    "            odd = odd + 1\n",
    " \n",
    "        if (odd > 1):\n",
    "            return False\n",
    " \n",
    "    # Return true if odd count is 0 or 1,\n",
    "    return True\n",
    " \n",
    " \n",
    "# Driver code\n",
    "if(canFormPalindrome(\"geeksforgeeks\")):\n",
    "    print(\"Yes\")\n",
    "else:\n",
    "    print(\"No\")\n",
    " \n",
    "if(canFormPalindrome(\"Geeksogeeks\")):\n",
    "    print(\"Yes\")\n",
    "else:\n",
    "    print(\"No\")\n",
    " \n",
    "# This code is contributed by Nikita Tiwari."
   ]
  },
  {
   "cell_type": "code",
   "execution_count": 170,
   "metadata": {},
   "outputs": [
    {
     "output_type": "stream",
     "name": "stdout",
     "text": [
      "No\nYes\n"
     ]
    }
   ],
   "source": [
    "'''\n",
    "* function to check whether characters of\n",
    "a strring can form a palindrome\n",
    "'''\n",
    " \n",
    " \n",
    "def canFormPalindrome(strr):\n",
    " \n",
    "    # Create a listt\n",
    "    listt = []\n",
    " \n",
    "    # For each character in input strings,\n",
    "    # remove character if listt contains\n",
    "    # else add character to listt\n",
    "    for i in range(len(strr)):\n",
    "        if (strr[i] in listt):\n",
    "            listt.remove(strr[i])\n",
    "        else:\n",
    "            listt.append(strr[i])\n",
    " \n",
    "    # if character length is even\n",
    "    # list is expected to be empty\n",
    "    # or if character length is odd\n",
    "    # listt size is expected to be 1\n",
    "    if (len(strr) % 2 == 0 and len(listt) == 0 or\n",
    "            (len(strr) % 2 == 1 and len(listt) == 1)):\n",
    "        return True\n",
    "    else:\n",
    "        return False\n",
    " \n",
    " \n",
    "# Driver code\n",
    "if (canFormPalindrome(\"geeksforgeeks\")):\n",
    "    print(\"Yes\")\n",
    "else:\n",
    "    print(\"No\")\n",
    " \n",
    "if (canFormPalindrome(\"geeksogeeks\")):\n",
    "    print(\"Yes\")\n",
    "else:\n",
    "    print(\"No\")\n",
    " \n",
    "# This code is contributed by SHUBHAMSINGH10"
   ]
  },
  {
   "cell_type": "code",
   "execution_count": 172,
   "metadata": {},
   "outputs": [
    {
     "output_type": "stream",
     "name": "stdout",
     "text": [
      "No\n"
     ]
    }
   ],
   "source": [
    "# Python implementation of above approach.\n",
    "def canFormPalindrome(s):\n",
    "    bitvector = 0\n",
    "    for c in s:\n",
    "        bitvector ^= 1 << ord(c)\n",
    "    return bitvector == 0 or bitvector & (bitvector - 1) == 0\n",
    " \n",
    " \n",
    "#s = input() \n",
    "if canFormPalindrome(\"Geeksogeeks\"):\n",
    "    print('Yes')\n",
    "else:\n",
    "    print('No')\n",
    " \n",
    "    # This code is contributed by sahilmahale0"
   ]
  },
  {
   "source": [
    "## **One Away**"
   ],
   "cell_type": "markdown",
   "metadata": {}
  },
  {
   "cell_type": "code",
   "execution_count": 144,
   "metadata": {},
   "outputs": [
    {
     "output_type": "stream",
     "name": "stdout",
     "text": [
      "Yes\n"
     ]
    }
   ],
   "source": [
    "# Python program to check if given two strings are\n",
    "# at distance one\n",
    "  \n",
    "# Returns true if edit distance between s1 and s2 is\n",
    "# one, else false\n",
    "def isEditDistanceOne(s1, s2):\n",
    "  \n",
    "    # Find lengths of given strings\n",
    "    m = len(s1)\n",
    "    n = len(s2)\n",
    "  \n",
    "    # If difference between lengths is more than 1,\n",
    "    # then strings can't be at one distance\n",
    "    if abs(m - n) > 1:\n",
    "        return False\n",
    "  \n",
    "    count = 0    # Count of isEditDistanceOne\n",
    "  \n",
    "    i = 0\n",
    "    j = 0\n",
    "    while i < m and j < n:\n",
    "        # If current characters dont match\n",
    "        if s1[i] != s2[j]:\n",
    "            if count == 1:\n",
    "                return False\n",
    "  \n",
    "            # If length of one string is\n",
    "            # more, then only possible edit\n",
    "            # is to remove a character\n",
    "            if m > n:\n",
    "                i+=1\n",
    "            elif m < n:\n",
    "                j+=1\n",
    "            else:    # If lengths of both strings is same\n",
    "                i+=1\n",
    "                j+=1\n",
    "  \n",
    "            # Increment count of edits\n",
    "            count+=1\n",
    "  \n",
    "        else:    # if current characters match\n",
    "            i+=1\n",
    "            j+=1\n",
    "        \n",
    "  \n",
    "    # if last character is extra in any string\n",
    "    if i < m or j < n:\n",
    "        count+=1\n",
    "  \n",
    "    return count == 1\n",
    "  \n",
    "# Driver program\n",
    "s1 = \"geeksforgeek\"\n",
    "s2 = \"geeksforgek\"\n",
    "if isEditDistanceOne(s1, s2):\n",
    "    print(\"Yes\")\n",
    "else:\n",
    "    print(\"No\")\n",
    "  \n",
    "# This code is contributed by Bhavya Jain"
   ]
  },
  {
   "cell_type": "code",
   "execution_count": 181,
   "metadata": {},
   "outputs": [
    {
     "output_type": "stream",
     "name": "stdout",
     "text": [
      "[[], []]\n"
     ]
    },
    {
     "output_type": "execute_result",
     "data": {
      "text/plain": [
       "True"
      ]
     },
     "metadata": {},
     "execution_count": 181
    }
   ],
   "source": [
    "#SALAH\n",
    "def one_away(s1, s2):\n",
    "    diff1 = [el for el in s1 if el not in s2]\n",
    "    diff2 = [el for el in s2 if el not in s1]\n",
    "    print([diff1, diff2])\n",
    "    if len(diff1) < 2 and len(diff2) < 2:\n",
    "        return True\n",
    "    return False\n",
    "\n",
    "s1 = \"geeksforgeek\"\n",
    "s2 = \"geeksforgee\"\n",
    "one_away(s1,s2)"
   ]
  },
  {
   "source": [
    "## **String Compression**"
   ],
   "cell_type": "markdown",
   "metadata": {}
  },
  {
   "cell_type": "code",
   "execution_count": 187,
   "metadata": {},
   "outputs": [
    {
     "output_type": "execute_result",
     "data": {
      "text/plain": [
       "'mis2is2ip2i'"
      ]
     },
     "metadata": {},
     "execution_count": 187
    }
   ],
   "source": [
    "def compress(string):\n",
    "\n",
    "    res = \"\"\n",
    "\n",
    "    count = 1\n",
    "\n",
    "    #Add in first character\n",
    "    res += string[0]\n",
    "\n",
    "    #Iterate through loop, skipping last one\n",
    "    for i in range(len(string)-1):\n",
    "        if(string[i] == string[i+1]):\n",
    "            count+=1\n",
    "        else:\n",
    "            if(count > 1):\n",
    "                #Ignore if no repeats\n",
    "                res += str(count)\n",
    "            res += string[i+1]\n",
    "            count = 1\n",
    "    #print last one\n",
    "    if(count > 1):\n",
    "        res += str(count)\n",
    "    return res\n",
    "\n",
    "\n",
    "compress(\"mississippi\")"
   ]
  },
  {
   "cell_type": "code",
   "execution_count": 188,
   "metadata": {},
   "outputs": [
    {
     "output_type": "stream",
     "name": "stdout",
     "text": [
      "mis2is2ip2i\n"
     ]
    }
   ],
   "source": [
    "def compress_second(str1):\n",
    "    output = ''\n",
    "    initial = str1[0]\n",
    "    output = output + initial\n",
    "    count = 1\n",
    "    for item in str1[1:]:\n",
    "        if item == initial:\n",
    "            count = count + 1\n",
    "        else:\n",
    "            if count == 1:\n",
    "                count = ''\n",
    "            output = output + str(count)\n",
    "            count = 1\n",
    "            initial = item\n",
    "            output = output + item\n",
    "    print (output)\n",
    "\n",
    "compress_second(\"mississippi\")"
   ]
  },
  {
   "source": [
    "## **Rotate Matrix**"
   ],
   "cell_type": "markdown",
   "metadata": {}
  },
  {
   "cell_type": "code",
   "execution_count": 189,
   "metadata": {},
   "outputs": [
    {
     "output_type": "stream",
     "name": "stdout",
     "text": [
      "4 8 12 16 \n3 7 11 15 \n2 6 10 14 \n1 5 9 13 \n"
     ]
    }
   ],
   "source": [
    "# Python3 program to rotate a matrix by 90 degrees\n",
    "\n",
    "  \n",
    "# An Inplace function to rotate \n",
    "# N x N matrix by 90 degrees in\n",
    "# anti-clockwise direction\n",
    "def rotateMatrix(mat):\n",
    "      \n",
    "    # Consider all squares one by one\n",
    "    for x in range(0, int(N / 2)):\n",
    "          \n",
    "        # Consider elements in group   \n",
    "        # of 4 in current square\n",
    "        for y in range(x, N-x-1):\n",
    "              \n",
    "            # store current cell in temp variable\n",
    "            temp = mat[x][y]\n",
    "  \n",
    "            # move values from right to top\n",
    "            mat[x][y] = mat[y][N-1-x]\n",
    "  \n",
    "            # move values from bottom to right\n",
    "            mat[y][N-1-x] = mat[N-1-x][N-1-y]\n",
    "  \n",
    "            # move values from left to bottom\n",
    "            mat[N-1-x][N-1-y] = mat[N-1-y][x]\n",
    "  \n",
    "            # assign temp to left\n",
    "            mat[N-1-y][x] = temp\n",
    "  \n",
    "  \n",
    "# Function to print the matrix\n",
    "def displayMatrix( mat ):\n",
    "      \n",
    "    for i in range(0, N):\n",
    "          \n",
    "        for j in range(0, N):\n",
    "              \n",
    "            print (mat[i][j], end = ' ')\n",
    "        print (\"\")\n",
    "      \n",
    "      \n",
    "  \n",
    "  \n",
    "# Driver Code\n",
    "  \n",
    "# Test case 1\n",
    "mat = [ [1, 2, 3, 4, ],\n",
    "        [5, 6, 7, 8 ],\n",
    "        [9, 10, 11, 12 ],\n",
    "        [13, 14, 15, 16 ] ]\n",
    "          \n",
    "'''\n",
    "# Test case 2\n",
    "mat = [ [1, 2, 3 ],\n",
    "        [4, 5, 6 ],\n",
    "        [7, 8, 9 ] ]\n",
    "  \n",
    "# Test case 3\n",
    "mat = [ [1, 2 ],\n",
    "        [4, 5 ] ]\n",
    "          \n",
    "'''\n",
    "\n",
    "N = len(mat)\n",
    "#mat = [[0 for x in range(N)] for y in range(N)]\n",
    "rotateMatrix(mat)\n",
    "  \n",
    "# Print rotated matrix\n",
    "displayMatrix(mat)\n",
    "  \n",
    "  \n",
    "# This code is contributed by saloni1297"
   ]
  },
  {
   "cell_type": "code",
   "execution_count": 190,
   "metadata": {},
   "outputs": [
    {
     "output_type": "stream",
     "name": "stdout",
     "text": [
      "[[7, 4, 1], [8, 5, 2], [9, 6, 3]]\n"
     ]
    }
   ],
   "source": [
    "original = [[1, 2, 3],\n",
    "            [4, 5, 6],\n",
    "            [7, 8, 9]\n",
    "            ]\n",
    "\n",
    "\n",
    "def rotated(array_2d):\n",
    "    list_of_tuples = zip(*array_2d[::-1])\n",
    "    return [list(elem) for elem in list_of_tuples]\n",
    "    # return map(list, list_of_tuples)\n",
    "\n",
    "print(list(rotated(original)))\n",
    "\n",
    "# [[7, 4, 1], [8, 5, 2], [9, 6, 3]]"
   ]
  },
  {
   "source": [
    "## **Zero Matrix**"
   ],
   "cell_type": "markdown",
   "metadata": {}
  },
  {
   "cell_type": "code",
   "execution_count": 181,
   "metadata": {},
   "outputs": [
    {
     "output_type": "stream",
     "name": "stdout",
     "text": [
      "\nMatrix c : \n [[0. 0. 0.]\n [0. 0. 0.]\n [0. 0. 0.]\n [0. 0. 0.]\n [0. 0. 0.]]\n\nMatrix d : \n [[0. 0.]\n [0. 0.]\n [0. 0.]\n [0. 0.]\n [0. 0.]]\n"
     ]
    }
   ],
   "source": [
    "\n",
    "# Python Program to create array with all zeros\n",
    "import numpy as np \n",
    "\n",
    "c = np.zeros([5, 3]) \n",
    "print(\"\\nMatrix c : \\n\", c) \n",
    "  \n",
    "d = np.zeros([5, 2], dtype = float) \n",
    "print(\"\\nMatrix d : \\n\", d) "
   ]
  },
  {
   "source": [
    "## **String Rotation**"
   ],
   "cell_type": "markdown",
   "metadata": {}
  },
  {
   "cell_type": "code",
   "execution_count": 191,
   "metadata": {},
   "outputs": [
    {
     "output_type": "stream",
     "name": "stdout",
     "text": [
      "Left Rotation :  erbottlewat\nRight Rotation :  tlewaterbot\n"
     ]
    }
   ],
   "source": [
    "# Function to rotate string left and right by d length \n",
    "  \n",
    "def rotate(input,d): \n",
    "  \n",
    "    # slice string in two parts for left and right \n",
    "    Lfirst = input[0 : d] \n",
    "    Lsecond = input[d :] \n",
    "    Rfirst = input[0 : len(input)-d] \n",
    "    Rsecond = input[len(input)-d : ] \n",
    "  \n",
    "    # now concatenate two parts together \n",
    "    print (\"Left Rotation : \", (Lsecond + Lfirst) )\n",
    "    print (\"Right Rotation : \", (Rsecond + Rfirst)) \n",
    "  \n",
    "# Driver program \n",
    "if __name__ == \"__main__\": \n",
    "    input = 'waterbottle'\n",
    "    d=3\n",
    "    rotate(input,d) "
   ]
  },
  {
   "source": [
    "# **Linked List**"
   ],
   "cell_type": "markdown",
   "metadata": {}
  },
  {
   "source": [
    "## **Class Linked List**"
   ],
   "cell_type": "markdown",
   "metadata": {}
  },
  {
   "cell_type": "code",
   "execution_count": 202,
   "metadata": {},
   "outputs": [],
   "source": [
    "\n",
    "class node:\n",
    "\tdef __init__(self,data=None):\n",
    "\t\tself.data=data\n",
    "\t\tself.next=None\n",
    "\n",
    "class linked_list:\n",
    "\tdef __init__(self):\n",
    "\t\tself.head=node()\n",
    "\n",
    "\t# Adds new node containing 'data' to the end of the linked list.\n",
    "\tdef append(self,data):\n",
    "\t\tnew_node=node(data)\n",
    "\t\tcur=self.head\n",
    "\t\twhile cur.next!=None:\n",
    "\t\t\tcur=cur.next\n",
    "\t\tcur.next=new_node\n",
    "\n",
    "\t# Returns the length (integer) of the linked list.\n",
    "\tdef length(self):\n",
    "\t\tcur=self.head\n",
    "\t\ttotal=0\n",
    "\t\twhile cur.next!=None:\n",
    "\t\t\ttotal+=1\n",
    "\t\t\tcur=cur.next\n",
    "\t\treturn total \n",
    "\n",
    "\t# Prints out the linked list in traditional Python list format. \n",
    "\tdef display(self):\n",
    "\t\telems=[]\n",
    "\t\tcur_node=self.head\n",
    "\t\twhile cur_node.next!=None:\n",
    "\t\t\tcur_node=cur_node.next\n",
    "\t\t\telems.append(cur_node.data)\n",
    "\t\tprint(elems)\n",
    "\n",
    "\t# Returns the value of the node at 'index'. \n",
    "\tdef get(self,index):\n",
    "\t\tif index>=self.length() or index<0: # added 'index<0' post-video\n",
    "\t\t\tprint(\"ERROR: 'Get' Index out of range!\")\n",
    "\t\t\treturn None\n",
    "\t\tcur_idx=0\n",
    "\t\tcur_node=self.head\n",
    "\t\twhile True:\n",
    "\t\t\tcur_node=cur_node.next\n",
    "\t\t\tif cur_idx==index: return cur_node.data\n",
    "\t\t\tcur_idx+=1\n",
    "\n",
    "\t# Deletes the node at index 'index'.\n",
    "\tdef erase(self,index):\n",
    "\t\tif index>=self.length() or index<0: # added 'index<0' post-video\n",
    "\t\t\tprint(\"ERROR: 'Erase' Index out of range!\")\n",
    "\t\t\treturn \n",
    "\t\tcur_idx=0\n",
    "\t\tcur_node=self.head\n",
    "\t\twhile True:\n",
    "\t\t\tlast_node=cur_node\n",
    "\t\t\tcur_node=cur_node.next\n",
    "\t\t\tif cur_idx==index:\n",
    "\t\t\t\tlast_node.next=cur_node.next\n",
    "\t\t\t\treturn\n",
    "\t\t\tcur_idx+=1\n",
    "\n",
    "\t# Allows for bracket operator syntax (i.e. a[0] to return first item).\n",
    "\tdef __getitem__(self,index):\n",
    "\t\treturn self.get(index)\n",
    "\n",
    "\n",
    "\t#######################################################\n",
    "\t# Functions added after video tutorial\n",
    "\n",
    "\t# Inserts a new node at index 'index' containing data 'data'.\n",
    "\t# Indices begin at 0. If the provided index is greater than or \n",
    "\t# equal to the length of the linked list the 'data' will be appended.\n",
    "\tdef insert(self,index,data):\n",
    "\t\tif index>=self.length() or index<0:\n",
    "\t\t\treturn self.append(data)\n",
    "\t\tcur_node=self.head\n",
    "\t\tprior_node=self.head\n",
    "\t\tcur_idx=0\n",
    "\t\twhile True:\n",
    "\t\t\tcur_node=cur_node.next\n",
    "\t\t\tif cur_idx==index: \n",
    "\t\t\t\tnew_node=node(data)\n",
    "\t\t\t\tprior_node.next=new_node\n",
    "\t\t\t\tnew_node.next=cur_node\n",
    "\t\t\t\treturn\n",
    "\t\t\tprior_node=cur_node\n",
    "\t\t\tcur_idx+=1\n",
    "\n",
    "\t# Inserts the node 'node' at index 'index'. Indices begin at 0.\n",
    "\t# If the 'index' is greater than or equal to the length of the linked \n",
    "\t# list the 'node' will be appended.\n",
    "\tdef insert_node(self,index,node):\n",
    "\t\tif index<0:\n",
    "\t\t\tprint(\"ERROR: 'Erase' Index cannot be negative!\")\n",
    "\t\t\treturn\n",
    "\t\tif index>=self.length(): # append the node\n",
    "\t\t\tcur_node=self.head\n",
    "\t\t\twhile cur_node.next!=None:\n",
    "\t\t\t\tcur_node=cur_node.next\n",
    "\t\t\tcur_node.next=node\n",
    "\t\t\treturn\n",
    "\t\tcur_node=self.head\n",
    "\t\tprior_node=self.head\n",
    "\t\tcur_idx=0\n",
    "\t\twhile True:\n",
    "\t\t\tcur_node=cur_node.next\n",
    "\t\t\tif cur_idx==index: \n",
    "\t\t\t\tprior_node.next=node\n",
    "\t\t\t\treturn\n",
    "\t\t\tprior_node=cur_node\n",
    "\t\t\tcur_idx+=1\n",
    "\n",
    "\t# Sets the data at index 'index' equal to 'data'.\n",
    "\t# Indices begin at 0. If the 'index' is greater than or equal \n",
    "\t# to the length of the linked list a warning will be printed \n",
    "\t# to the user.\n",
    "\tdef set(self,index,data):\n",
    "\t\tif index>=self.length() or index<0:\n",
    "\t\t\tprint(\"ERROR: 'Set' Index out of range!\")\n",
    "\t\t\treturn\n",
    "\t\tcur_node=self.head\n",
    "\t\tcur_idx=0\n",
    "\t\twhile True:\n",
    "\t\t\tcur_node=cur_node.next\n",
    "\t\t\tif cur_idx==index: \n",
    "\t\t\t\tcur_node.data=data\n",
    "\t\t\t\treturn\n",
    "\t\t\tcur_idx+=1"
   ]
  },
  {
   "source": [
    "## **Remove Dups**"
   ],
   "cell_type": "markdown",
   "metadata": {}
  },
  {
   "cell_type": "code",
   "execution_count": 213,
   "metadata": {},
   "outputs": [
    {
     "output_type": "stream",
     "name": "stdout",
     "text": [
      "Linked List before removing Duplicates.\n10 12 11 11 12 11 10 \nLinked List after removing duplicates.\n10 12 11 "
     ]
    }
   ],
   "source": [
    "# Python3 program to remove duplicates\n",
    "# from unsorted linkedlist\n",
    "class Node:\n",
    "     \n",
    "    def __init__(self, data):\n",
    "         \n",
    "        self.data = data\n",
    "        self.next = None\n",
    " \n",
    "class LinkedList:\n",
    "    \n",
    "     \n",
    "    def __init__(self):\n",
    "         \n",
    "        self.head = None\n",
    "    \n",
    "    def append(self, data):\n",
    "        new_node = Node(data)\n",
    "        cur=self.head\n",
    "        while(cur.next!= None):\n",
    "            cur=cur.next\n",
    "\n",
    "        cur.next=new_node\n",
    "\n",
    "    # Function to print nodes in a \n",
    "    # given linked list\n",
    "    def printlist(self):\n",
    "         \n",
    "        temp = self.head\n",
    "         \n",
    "        while (temp):\n",
    "            print(temp.data, end = \" \")\n",
    "            temp = temp.next\n",
    "             \n",
    "    # Function to remove duplicates from a\n",
    "    # unsorted linked list\n",
    "    def removeDuplicates(self, head):\n",
    "         \n",
    "        # Base case of empty list or\n",
    "        # list with only one element\n",
    "        if self.head is None or self.head.next is None:\n",
    "            return head\n",
    "             \n",
    "        # Hash to store seen values\n",
    "        hash = set() \n",
    " \n",
    "        current = head\n",
    "        hash.add(self.head.data)\n",
    " \n",
    "        while current.next is not None:\n",
    " \n",
    "            if current.next.data in hash:\n",
    "                current.next = current.next.next\n",
    "            else:\n",
    "                hash.add(current.next.data)\n",
    "                current = current.next\n",
    " \n",
    "        return head\n",
    "    \n",
    "    def deleteDupsNoBuffer(self, head):\n",
    "        current = head\n",
    "        while(current != None):\n",
    "            runner = current\n",
    "            while(runner.next != None):\n",
    "                if(runner.next.data == current.data):\n",
    "                    runner.next = runner.next.next\n",
    "                else :\n",
    "                    runner = runner.next\n",
    "            current = current.next\n",
    "\n",
    " \n",
    "# Driver code\n",
    "if __name__ == \"__main__\":\n",
    "     \n",
    "    # Creating Empty list\n",
    "    llist = LinkedList()\n",
    "    llist.head = Node(10)\n",
    "    #llist.append(10)\n",
    "    llist.append(12)\n",
    "    llist.append(11)\n",
    "    llist.append(11)\n",
    "    llist.append(12)\n",
    "    llist.append(11)\n",
    "    llist.append(10)\n",
    "    \n",
    " \n",
    "    # Printing data\n",
    "    print(\"Linked List before removing Duplicates.\")\n",
    "    llist.printlist()\n",
    "    #llist.removeDuplicates(llist.head)\n",
    "    llist.deleteDupsNoBuffer(llist.head)\n",
    "\n",
    "    print(\"\\nLinked List after removing duplicates.\")\n",
    "    llist.printlist()\n",
    " \n",
    "# This code is contributed by rajataro0"
   ]
  },
  {
   "source": [
    "## **Return Kth to Last**"
   ],
   "cell_type": "markdown",
   "metadata": {}
  },
  {
   "cell_type": "code",
   "execution_count": 236,
   "metadata": {},
   "outputs": [
    {
     "output_type": "stream",
     "name": "stdout",
     "text": [
      "10 15 20 25 \n\n25\n"
     ]
    }
   ],
   "source": [
    "# Simple Python3 program to find\n",
    "# n'th node from end\n",
    "class Node:\n",
    "    def __init__(self, new_data):\n",
    "        self.data = new_data\n",
    "        self.next = None\n",
    "     \n",
    "class LinkedList:\n",
    "    def __init__(self):\n",
    "        self.head = None\n",
    " \n",
    "    # createNode and and make linked list\n",
    "    def push(self, new_data):\n",
    "        new_node = Node(new_data)\n",
    "        new_node.next = self.head\n",
    "        self.head = new_node\n",
    " \n",
    "    # Function to get the nth node from\n",
    "    # the last of a linked list\n",
    "    def printNthFromLast(self, n):\n",
    "        temp = self.head # used temp variable\n",
    "         \n",
    "        length = 0\n",
    "        while temp is not None:\n",
    "            temp = temp.next\n",
    "            length += 1\n",
    "         \n",
    "        # print count\n",
    "        if n > length: # if entered location is greater\n",
    "                       # than length of linked list\n",
    "            print('Location is greater than the' +\n",
    "                         ' length of LinkedList')\n",
    "            return\n",
    "        temp = self.head\n",
    "        for i in range(0, length - n):\n",
    "            temp = temp.next\n",
    "        print(temp.data)\n",
    "    \n",
    "    def printlist(self):\n",
    "         \n",
    "        temp = self.head\n",
    "         \n",
    "        while (temp):\n",
    "            print(temp.data, end = \" \")\n",
    "            temp = temp.next\n",
    "    \n",
    "    def append(self, data):\n",
    "        new_node = Node(data)\n",
    "        cur=self.head\n",
    "        while(cur.next!= None):\n",
    "            cur=cur.next\n",
    "\n",
    "        cur.next=new_node\n",
    " \n",
    "# Driver Code       \n",
    "llist = LinkedList()\n",
    "'''\n",
    "llist.push(20)\n",
    "llist.push(4)\n",
    "llist.push(15)\n",
    "llist.push(35)\n",
    "'''\n",
    "llist.head = Node(10)\n",
    "llist.append(15)\n",
    "llist.append(20)\n",
    "llist.append(25)\n",
    "llist.printlist()\n",
    "print(\"\\n\")\n",
    "llist.printNthFromLast(1)\n",
    " \n",
    "# This code is contributed by Yogesh Joshi"
   ]
  },
  {
   "source": [
    "## **Delete Middle Node**"
   ],
   "cell_type": "markdown",
   "metadata": {}
  },
  {
   "cell_type": "code",
   "execution_count": 252,
   "metadata": {},
   "outputs": [
    {
     "output_type": "stream",
     "name": "stdout",
     "text": [
      "Given Linked List\n1->2->3->4->5->6->7->8->NULL\nLinked List after deletion of middle\n1->2->3->5->6->7->8->NULL\n"
     ]
    }
   ],
   "source": [
    "# Python3 program to delete the\n",
    "# middle of a linked list\n",
    " \n",
    "# Linked List Node\n",
    "class Node:\n",
    "     \n",
    "    def __init__(self, data):\n",
    "         \n",
    "        self.data = data\n",
    "        self.next = None\n",
    " \n",
    "# Create and handle list operations\n",
    "class LinkedList:\n",
    "     \n",
    "    def __init__(self):\n",
    "         \n",
    "        # Head of the list\n",
    "        self.head = None\n",
    " \n",
    "    # Add new node to the list end\n",
    "    def addToList(self, data):\n",
    "         \n",
    "        newNode = Node(data)\n",
    "        if self.head is None:\n",
    "            self.head = newNode\n",
    "            return\n",
    "             \n",
    "        last = self.head\n",
    "         \n",
    "        while last.next:\n",
    "            last = last.next\n",
    "             \n",
    "        last.next = newNode\n",
    " \n",
    "    # Returns the list in string format\n",
    "    def __str__(self):\n",
    "         \n",
    "        linkedListStr = \"\"\n",
    "        temp = self.head\n",
    "         \n",
    "        while temp:\n",
    "            linkedListStr += str(temp.data) + \"->\"\n",
    "            temp = temp.next\n",
    "             \n",
    "        return linkedListStr + \"NULL\"\n",
    " \n",
    "    # Method deletes middle node\n",
    "    def deleteMid(self):\n",
    " \n",
    "        # Base cases\n",
    "        if (self.head is None or\n",
    "            self.head.next is None):\n",
    "            return\n",
    " \n",
    "        # Initialize slow and fast pointers\n",
    "        # to reach middle of linked list\n",
    "        slow_Ptr = self.head\n",
    "        fast_Ptr = self.head\n",
    " \n",
    "        # Find the middle and previous of middle\n",
    "        prev = None\n",
    " \n",
    "        # To store previous of slow pointer\n",
    "        while (fast_Ptr is not None and\n",
    "               fast_Ptr.next is not None):\n",
    "              \n",
    "            fast_Ptr = fast_Ptr.next.next\n",
    "            if(fast_Ptr is None):\n",
    "                midEven = prev\n",
    "            prev = slow_Ptr\n",
    "            slow_Ptr = slow_Ptr.next\n",
    " \n",
    "        # Delete the middle node\n",
    "        \n",
    "        if(fast_Ptr is None):\n",
    "            midEven.next = prev.next\n",
    "        else:\n",
    "            prev.next = slow_Ptr.next\n",
    "\n",
    " \n",
    "# Driver code\n",
    "linkedList = LinkedList()\n",
    " \n",
    "linkedList.addToList(1)\n",
    "linkedList.addToList(2)\n",
    "linkedList.addToList(3)\n",
    "linkedList.addToList(4)\n",
    "linkedList.addToList(5)\n",
    "linkedList.addToList(6)\n",
    "linkedList.addToList(7)\n",
    "linkedList.addToList(8)\n",
    " \n",
    "print(\"Given Linked List\")\n",
    "print(linkedList)\n",
    " \n",
    "linkedList.deleteMid()\n",
    " \n",
    "print(\"Linked List after deletion of middle\")\n",
    "print(linkedList)\n",
    " \n",
    "# This code is contributed by Debidutta Rath"
   ]
  },
  {
   "source": [
    "## **Partition**"
   ],
   "cell_type": "markdown",
   "metadata": {}
  },
  {
   "cell_type": "code",
   "execution_count": 267,
   "metadata": {},
   "outputs": [
    {
     "output_type": "stream",
     "name": "stdout",
     "text": [
      "3 5 8 5 10 2 1 \n\n1 2 3 5 8 5 10 "
     ]
    }
   ],
   "source": [
    "class Node:\n",
    "    def __init__(self, new_data):\n",
    "        self.data = new_data\n",
    "        self.next = None\n",
    "     \n",
    "class LinkedList:\n",
    "    def __init__(self):\n",
    "        self.head = None\n",
    " \n",
    "    \n",
    "    def printlist(self):\n",
    "         \n",
    "        temp = self.head\n",
    "         \n",
    "        while (temp):\n",
    "            print(temp.data, end = \" \")\n",
    "            temp = temp.next\n",
    "    \n",
    "    def append(self, data):\n",
    "        new_node = Node(data)\n",
    "        cur=self.head\n",
    "        while(cur.next!= None):\n",
    "            cur=cur.next\n",
    "\n",
    "        cur.next=new_node\n",
    "\n",
    "def partition(ll, x):\n",
    "    current = ll.tail = ll.head\n",
    "\n",
    "    while current:\n",
    "        next_node = current.next\n",
    "        current.next = None\n",
    "        if current.data < x:\n",
    "            current.next = ll.head\n",
    "            ll.head = current\n",
    "        else:\n",
    "            ll.tail.next = current\n",
    "            ll.tail = current\n",
    "        current = next_node\n",
    "\n",
    "    # Error check in case all nodes are less than x\n",
    "    if ll.tail.next is not None:\n",
    "        ll.tail.next = None\n",
    "\n",
    "\n",
    "\n",
    "if __name__ == \"__main__\":\n",
    "\n",
    "    llist = LinkedList()\n",
    "    llist.head = Node(3)\n",
    "    llist.append(5)\n",
    "    llist.append(8)\n",
    "    llist.append(5)\n",
    "    llist.append(10)\n",
    "    llist.append(2)\n",
    "    llist.append(1)\n",
    "    llist.printlist()\n",
    "    partition(llist,5)\n",
    "    print('\\n')\n",
    "    llist.printlist()"
   ]
  },
  {
   "cell_type": "code",
   "execution_count": 262,
   "metadata": {},
   "outputs": [
    {
     "output_type": "stream",
     "name": "stdout",
     "text": [
      "42 -> 52 -> 97 -> 38 -> 94 -> 59 -> 85 -> 28 -> 55 -> 75\n28 -> 38 -> 42 -> 52 -> 97 -> 94 -> 59 -> 85 -> 55 -> 75\n"
     ]
    }
   ],
   "source": []
  },
  {
   "source": [
    "## **Sum Lists**"
   ],
   "cell_type": "markdown",
   "metadata": {}
  },
  {
   "cell_type": "code",
   "execution_count": 272,
   "metadata": {},
   "outputs": [
    {
     "output_type": "stream",
     "name": "stdout",
     "text": [
      "First List is \n6\n1\n7\n\nSecond List is \n2\n9\n5\n\nResultant list is \n8\n0\n3\n1\n"
     ]
    }
   ],
   "source": [
    "# Python program to add two numbers represented by linked list\n",
    " \n",
    "# Node class\n",
    " \n",
    " \n",
    "class Node:\n",
    " \n",
    "    # Constructor to initialize the node object\n",
    "    def __init__(self, data):\n",
    "        self.data = data\n",
    "        self.next = None\n",
    " \n",
    " \n",
    "class LinkedList:\n",
    " \n",
    "    # Function to initialize head\n",
    "    def __init__(self):\n",
    "        self.head = None\n",
    " \n",
    "    # Function to insert a new node at the beginning\n",
    "    def push(self, new_data):\n",
    "        new_node = Node(new_data)\n",
    "        new_node.next = self.head\n",
    "        self.head = new_node\n",
    " \n",
    "    # Add contents of two linked lists and return the head\n",
    "    # node of resultant list\n",
    "    def addTwoLists(self, first, second):\n",
    "        prev = None\n",
    "        temp = None\n",
    "        carry = 0\n",
    " \n",
    "        # While both list exists\n",
    "        while(first is not None or second is not None):\n",
    " \n",
    "            # Calculate the value of next digit in\n",
    "            # resultant list\n",
    "            # The next digit is sum of following things\n",
    "            # (i) Carry\n",
    "            # (ii) Next digit of first list (if ther is a\n",
    "            # next digit)\n",
    "            # (iii) Next digit of second list ( if there\n",
    "            # is a next digit)\n",
    "            fdata = 0 if first is None else first.data\n",
    "            sdata = 0 if second is None else second.data\n",
    "            Sum = carry + fdata + sdata\n",
    " \n",
    "            # update carry for next calculation\n",
    "            carry = 1 if Sum >= 10 else 0\n",
    " \n",
    "            # update sum if it is greater than 10\n",
    "            Sum = Sum if Sum < 10 else Sum % 10\n",
    " \n",
    "            # Create a new node with sum as data\n",
    "            temp = Node(Sum)\n",
    " \n",
    "            # if this is the first node then set it as head\n",
    "            # of resultant list\n",
    "            if self.head is None:\n",
    "                self.head = temp\n",
    "            else:\n",
    "                prev.next = temp\n",
    " \n",
    "            # Set prev for next insertion\n",
    "            prev = temp\n",
    " \n",
    "            # Move first and second pointers to next nodes\n",
    "            if first is not None:\n",
    "                first = first.next\n",
    "            if second is not None:\n",
    "                second = second.next\n",
    " \n",
    "        if carry > 0:\n",
    "            temp.next = Node(carry)\n",
    " \n",
    "    # Utility function to print the linked LinkedList\n",
    "    def printList(self):\n",
    "        temp = self.head\n",
    "        while(temp):\n",
    "            print (temp.data)\n",
    "            temp = temp.next\n",
    " \n",
    " \n",
    "# Driver code\n",
    "first = LinkedList()\n",
    "second = LinkedList()\n",
    " \n",
    "# Create first list\n",
    "first.push(7)\n",
    "first.push(1)\n",
    "first.push(6)\n",
    "print (\"First List is \")\n",
    "first.printList()\n",
    " \n",
    "# Create second list\n",
    "second.push(5)\n",
    "second.push(9)\n",
    "second.push(2)\n",
    "print (\"\\nSecond List is \")\n",
    "second.printList()\n",
    " \n",
    "# Add the two lists and see result\n",
    "res = LinkedList()\n",
    "res.addTwoLists(first.head, second.head)\n",
    "print (\"\\nResultant list is \")\n",
    "res.printList()\n",
    "\n",
    "# This code is contributed by Nikhil Kumar Singh(nickzuck_007)"
   ]
  },
  {
   "source": [
    "## **Palindrome**"
   ],
   "cell_type": "markdown",
   "metadata": {}
  },
  {
   "cell_type": "code",
   "execution_count": 273,
   "metadata": {},
   "outputs": [
    {
     "output_type": "stream",
     "name": "stdout",
     "text": [
      "isPalindrome: True\n"
     ]
    }
   ],
   "source": [
    "# Python3 program to check if linked\n",
    "# list is palindrome using stack\n",
    "class Node:\n",
    "    def __init__(self,data):\n",
    "         \n",
    "        self.data = data\n",
    "        self.ptr = None\n",
    "         \n",
    "# Function to check if the linked list\n",
    "# is palindrome or not\n",
    "def ispalindrome(head):\n",
    "     \n",
    "    # Temp pointer\n",
    "    slow = head\n",
    " \n",
    "    # Declare a stack\n",
    "    stack = []\n",
    "     \n",
    "    ispalin = True\n",
    " \n",
    "    # Push all elements of the list\n",
    "    # to the stack\n",
    "    while slow != None:\n",
    "        stack.append(slow.data)\n",
    "         \n",
    "        # Move ahead\n",
    "        slow = slow.ptr\n",
    " \n",
    "    # Iterate in the list again and\n",
    "    # check by popping from the stack\n",
    "    while head != None:\n",
    " \n",
    "        # Get the top most element\n",
    "        i = stack.pop()\n",
    "         \n",
    "        # Check if data is not\n",
    "        # same as popped element\n",
    "        if head.data == i:\n",
    "            ispalin = True\n",
    "        else:\n",
    "            ispalin = False\n",
    "            break\n",
    " \n",
    "        # Move ahead\n",
    "        head = head.ptr\n",
    "         \n",
    "    return ispalin\n",
    " \n",
    "# Driver Code\n",
    " \n",
    "# Addition of linked list\n",
    "one = Node(1)\n",
    "two = Node(2)\n",
    "three = Node(3)\n",
    "four = Node(4)\n",
    "five = Node(3)\n",
    "six = Node(2)\n",
    "seven = Node(1)\n",
    " \n",
    "# Initialize the next pointer\n",
    "# of every current pointer\n",
    "one.ptr = two\n",
    "two.ptr = three\n",
    "three.ptr = four\n",
    "four.ptr = five\n",
    "five.ptr = six\n",
    "six.ptr = seven\n",
    "seven.ptr = None\n",
    " \n",
    "# Call function to check palindrome or not\n",
    "result = ispalindrome(one)\n",
    " \n",
    "print(\"isPalindrome:\", result)\n",
    " \n",
    "# This code is contributed by Nishtha Goel"
   ]
  },
  {
   "source": [
    "## **Intersection**"
   ],
   "cell_type": "markdown",
   "metadata": {}
  },
  {
   "cell_type": "code",
   "execution_count": 275,
   "metadata": {},
   "outputs": [
    {
     "output_type": "stream",
     "name": "stdout",
     "text": [
      "Intersection: 8\n"
     ]
    }
   ],
   "source": [
    "class ListNode:\n",
    "   def __init__(self, data, next = None):\n",
    "      self.data = data\n",
    "      self.next = next\n",
    "class Solution(object):\n",
    "   def getIntersectionNode(self, headA, headB):\n",
    "      \"\"\"\n",
    "      :type head1, head1: ListNode\n",
    "      :rtype: ListNode\n",
    "      \"\"\"\n",
    "      dict = {}\n",
    "      while headA:\n",
    "         dict[headA]=1\n",
    "         headA = headA.next\n",
    "      while headB:\n",
    "         if headB in dict:\n",
    "            return headB\n",
    "         headB = headB.next\n",
    "      return None\n",
    "headA = ListNode(4)\n",
    "headB = ListNode(5)\n",
    "Intersect = ListNode(8, ListNode(4, ListNode(5)))\n",
    "headA.next = ListNode(1, Intersect)\n",
    "headB.next = ListNode(0, ListNode(1, Intersect))\n",
    "ob1 = Solution()\n",
    "op = ob1.getIntersectionNode(headA, headB)\n",
    "print(\"Intersection:\",op.data)"
   ]
  },
  {
   "cell_type": "code",
   "execution_count": 276,
   "metadata": {},
   "outputs": [
    {
     "output_type": "stream",
     "name": "stdout",
     "text": [
      "15\n"
     ]
    }
   ],
   "source": [
    "# Python3 implementation of the approach\n",
    "  \n",
    "# Link list node\n",
    "class Node:\n",
    "    def __init__(self):\n",
    "        self.data = 0\n",
    "        self.next = None\n",
    "  \n",
    "# Function to get the intersection point\n",
    "# of the given linked lists\n",
    "def getIntersectionNode( head1, head2):\n",
    "  \n",
    "    curr1 = head1\n",
    "    curr2 = head2\n",
    "  \n",
    "    # While both the pointers are not equal\n",
    "    while (curr1 != curr2): \n",
    "  \n",
    "        # If the first pointer is None then\n",
    "        # set it to point to the head of\n",
    "        # the second linked list\n",
    "        if (curr1 == None) :\n",
    "            curr1 = head2\n",
    "          \n",
    "        # Else point it to the next node\n",
    "        else: \n",
    "            curr1 = curr1.next\n",
    "          \n",
    "        # If the second pointer is None then\n",
    "        # set it to point to the head of\n",
    "        # the first linked list\n",
    "        if (curr2 == None): \n",
    "            curr2 = head1\n",
    "          \n",
    "        # Else point it to the next node\n",
    "        else: \n",
    "            curr2 = curr2.next\n",
    "          \n",
    "    # Return the intersection node\n",
    "    return curr1.data\n",
    "  \n",
    "# Driver code\n",
    "  \n",
    "# Create two linked lists\n",
    "  \n",
    "# 1st Linked list is 3.6.9.15.30\n",
    "# 2nd Linked list is 10.15.30\n",
    "      \n",
    "# 15 is the intersection point\n",
    "  \n",
    "newNode = None\n",
    "head1 = Node()\n",
    "head1.data = 10\n",
    "head2 = Node()\n",
    "head2.data = 3\n",
    "newNode = Node()\n",
    "newNode.data = 6\n",
    "head2.next = newNode\n",
    "newNode = Node()\n",
    "newNode.data = 9\n",
    "head2.next.next = newNode\n",
    "newNode = Node()\n",
    "newNode.data = 15\n",
    "head1.next = newNode\n",
    "head2.next.next.next = newNode\n",
    "newNode = Node()\n",
    "newNode.data = 30\n",
    "head1.next.next = newNode\n",
    "head1.next.next.next = None\n",
    "  \n",
    "# Print the intersection node\n",
    "print( getIntersectionNode(head1, head2))\n",
    "  \n",
    "# This code is contributed by Arnab Kundu"
   ]
  },
  {
   "source": [
    "## **Loop Detection**"
   ],
   "cell_type": "markdown",
   "metadata": {}
  },
  {
   "cell_type": "code",
   "execution_count": 277,
   "metadata": {},
   "outputs": [
    {
     "output_type": "stream",
     "name": "stdout",
     "text": [
      "Loop found\n"
     ]
    }
   ],
   "source": [
    "# Python3 program to detect loop\n",
    "# in the linked list\n",
    " \n",
    "# Node class\n",
    " \n",
    " \n",
    "class Node:\n",
    " \n",
    "    # Constructor to initialize\n",
    "    # the node object\n",
    "    def __init__(self, data):\n",
    "        self.data = data\n",
    "        self.next = None\n",
    " \n",
    " \n",
    "class LinkedList:\n",
    " \n",
    "    # Function to initialize head\n",
    "    def __init__(self):\n",
    "        self.head = None\n",
    " \n",
    "    # Function to insert a new\n",
    "    # node at the beginning\n",
    "    def push(self, new_data):\n",
    "        new_node = Node(new_data)\n",
    "        new_node.next = self.head\n",
    "        self.head = new_node\n",
    " \n",
    "    # Utility function to print it\n",
    "    # the linked LinkedList\n",
    "    def printList(self):\n",
    "        temp = self.head\n",
    "        while(temp):\n",
    "            print(temp.data, end=\" \")\n",
    "            temp = temp.next\n",
    " \n",
    "    def detectLoop(self):\n",
    "        s = set()\n",
    "        temp = self.head\n",
    "        while (temp):\n",
    " \n",
    "            # If we have already has\n",
    "            # this node in hashmap it\n",
    "            # means their is a cycle\n",
    "            # (Because you we encountering\n",
    "            # the node second time).\n",
    "            if (temp in s):\n",
    "                return True\n",
    " \n",
    "            # If we are seeing the node for\n",
    "            # the first time, insert it in hash\n",
    "            s.add(temp)\n",
    " \n",
    "            temp = temp.next\n",
    " \n",
    "        return False\n",
    " \n",
    " \n",
    "# Driver program for testing\n",
    "llist = LinkedList()\n",
    "llist.push(20)\n",
    "llist.push(4)\n",
    "llist.push(15)\n",
    "llist.push(10)\n",
    " \n",
    "# Create a loop for testing\n",
    "llist.head.next.next.next.next = llist.head\n",
    " \n",
    "if(llist.detectLoop()):\n",
    "    print(\"Loop found\")\n",
    "else:\n",
    "    print(\"No Loop \")\n",
    " \n",
    "# This code is contributed by Gitanjali."
   ]
  },
  {
   "source": [
    "# **Stacks and Queues**"
   ],
   "cell_type": "markdown",
   "metadata": {}
  },
  {
   "source": [
    "## **Stacks**"
   ],
   "cell_type": "markdown",
   "metadata": {}
  },
  {
   "cell_type": "code",
   "execution_count": 281,
   "metadata": {},
   "outputs": [],
   "source": [
    "class Stack:\n",
    "    def __init__(self):\n",
    "        self.items = []\n",
    "\n",
    "    def is_empty(self):\n",
    "        return len(self.items) == 0\n",
    "\n",
    "    def push(self, item):\n",
    "        self.items.append(item)\n",
    "\n",
    "    def pop(self):\n",
    "        return self.items.pop()\n",
    "\n",
    "    def peek(self):\n",
    "        if self.items:\n",
    "            return self.items[len(self.items) - 1]\n",
    "        return None\n",
    "\n",
    "    def __len__(self):\n",
    "        # in python the `len` function is preferred to `size` methods\n",
    "        return len(self.items)\n",
    "\n",
    "    def __bool__(self):\n",
    "        # lets us use the stack as a conditional\n",
    "        return bool(self.items)\n"
   ]
  },
  {
   "source": [
    "## **Three in One**"
   ],
   "cell_type": "markdown",
   "metadata": {}
  },
  {
   "cell_type": "code",
   "execution_count": 17,
   "metadata": {},
   "outputs": [
    {
     "output_type": "stream",
     "name": "stdout",
     "text": [
      "Popped element from stack 2 is 45\nPopped element from stack 1 is 77\nPopped element from stack 0 is 7\n66\n39\n49\n17\n"
     ]
    }
   ],
   "source": [
    "# Python 3 program to demonstrate implementation\n",
    "# of k stacks in a single array in time and space\n",
    "# efficient way\n",
    "class KStacks:\n",
    "\t\n",
    "\tdef __init__(self, n):\n",
    "\t\tself.k = 3 # Number of stacks.\n",
    "\t\tself.n = n # Total size of array holding\n",
    "\t\t\t\t# all the 'k' stacks.\n",
    "\n",
    "\t\t# Array which holds 'k' stacks.\n",
    "\t\tself.arr = [0] * self.n\n",
    "\n",
    "\t\t# All stacks are empty to begin with\n",
    "\t\t# (-1 denotes stack is empty).\n",
    "\t\tself.top = [-1] * self.k\n",
    "\n",
    "\t\t# Top of the free stack.\n",
    "\t\tself.free = 0\n",
    "\n",
    "\t\t# Points to the next element in either\n",
    "\t\t# 1. One of the 'k' stacks or,\n",
    "\t\t# 2. The 'free' stack.\n",
    "\t\tself.next = [i + 1 for i in range(self.n)]\n",
    "\t\tself.next[self.n - 1] = -1\n",
    "\n",
    "\t# Check whether given stack is empty.\n",
    "\tdef isEmpty(self, sn):\n",
    "\t\treturn self.top[sn] == -1\n",
    "\n",
    "\t# Check whether there is space left for\n",
    "\t# pushing new elements or not.\n",
    "\tdef isFull(self):\n",
    "\t\treturn self.free == -1\n",
    "\n",
    "\t# Push 'item' onto given stack number 'sn'.\n",
    "\tdef push(self, item, sn):\n",
    "\t\tif self.isFull():\n",
    "\t\t\tprint(\"Stack Overflow\")\n",
    "\t\t\treturn\n",
    "\n",
    "\t\t# Get the first free position\n",
    "\t\t# to insert at.\n",
    "\t\tinsert_at = self.free\n",
    "\n",
    "\t\t# Adjust the free position.\n",
    "\t\tself.free = self.next[self.free]\n",
    "\n",
    "\t\t# Insert the item at the free\n",
    "\t\t# position we obtained above.\n",
    "\t\tself.arr[insert_at] = item\n",
    "\n",
    "\t\t# Adjust next to point to the old\n",
    "\t\t# top of stack element.\n",
    "\t\tself.next[insert_at] = self.top[sn]\n",
    "\n",
    "\t\t# Set the new top of the stack.\n",
    "\t\tself.top[sn] = insert_at\n",
    "\n",
    "\t# Pop item from given stack number 'sn'.\n",
    "\tdef pop(self, sn):\n",
    "\t\tif self.isEmpty(sn):\n",
    "\t\t\treturn None\n",
    "\n",
    "\t\t# Get the item at the top of the stack.\n",
    "\t\ttop_of_stack = self.top[sn]\n",
    "\n",
    "\t\t# Set new top of stack.\n",
    "\t\tself.top[sn] = self.next[self.top[sn]]\n",
    "\n",
    "\t\t# Push the old top_of_stack to\n",
    "\t\t# the 'free' stack.\n",
    "\t\tself.next[top_of_stack] = self.free\n",
    "\t\tself.free = top_of_stack\n",
    "\n",
    "\t\treturn self.arr[top_of_stack]\n",
    "\n",
    "\tdef printstack(self, sn):\n",
    "\t\ttop_index = self.top[sn]\n",
    "\t\twhile (top_index != -1):\n",
    "\t\t\tprint(self.arr[top_index])\n",
    "\t\t\ttop_index = self.next[top_index]\n",
    "\n",
    "# Driver Code\n",
    "if __name__ == \"__main__\":\n",
    "\t\n",
    "\t# Create 3 stacks using an\n",
    "\t# array of size 10.\n",
    "\tkstacks = KStacks(10)\n",
    "\n",
    "\t# Push some items onto stack number 2.\n",
    "\tkstacks.push(15, 2)\n",
    "\tkstacks.push(45, 2)\n",
    "\n",
    "\t# Push some items onto stack number 1.\n",
    "\tkstacks.push(17, 1)\n",
    "\tkstacks.push(49, 1)\n",
    "\tkstacks.push(39, 1)\n",
    "\tkstacks.push(66, 1)\n",
    "\tkstacks.push(77, 1)\n",
    "\n",
    "\t# Push some items onto stack number 0.\n",
    "\tkstacks.push(11, 0)\n",
    "\tkstacks.push(9, 0)\n",
    "\tkstacks.push(7, 0)\n",
    "\n",
    "\tprint(\"Popped element from stack 2 is \" +\n",
    "\t\t\t\t\t\tstr(kstacks.pop(2)))\n",
    "\tprint(\"Popped element from stack 1 is \" +\n",
    "\t\t\t\t\t\tstr(kstacks.pop(1)))\n",
    "\tprint(\"Popped element from stack 0 is \" +\n",
    "\t\t\t\t\t\tstr(kstacks.pop(0)))\n",
    "\n",
    "\tkstacks.printstack(1)\n",
    "\n",
    "# This code is contributed by Varun Patil\n"
   ]
  },
  {
   "cell_type": "code",
   "execution_count": 12,
   "metadata": {},
   "outputs": [
    {
     "output_type": "stream",
     "name": "stdout",
     "text": [
      "True\n3\nFalse\n2\n2\n3\n"
     ]
    }
   ],
   "source": [
    "#import pytest\n",
    "'''\n",
    "KURANG JADI\n",
    "'''\n",
    "\n",
    "class MultiStack:\n",
    "    def __init__(self, stack_size, number_of_stacks):\n",
    "        self.number_of_stacks = number_of_stacks\n",
    "        self.array = [0] * (stack_size * self.number_of_stacks)\n",
    "        self.sizes = [0] * self.number_of_stacks\n",
    "        self.stack_size = stack_size\n",
    "\n",
    "    def push(self, value, stack_num):\n",
    "        self._assert_valid_stack_num(stack_num)\n",
    "        if self.is_full(stack_num):\n",
    "            raise StackFullError(f\"Push failed: stack #{stack_num} is full\")\n",
    "        self.sizes[stack_num] += 1\n",
    "        self.array[self.index_of_top(stack_num)] = value\n",
    "\n",
    "    def pop(self, stack_num):\n",
    "        self._assert_valid_stack_num(stack_num)\n",
    "        if self.is_empty(stack_num):\n",
    "            raise StackEmptyError(f\"Cannot pop from empty stack #{stack_num}\")\n",
    "        value = self.array[self.index_of_top(stack_num)]\n",
    "        self.array[self.index_of_top(stack_num)] = 0\n",
    "        self.sizes[stack_num] -= 1\n",
    "        return value\n",
    "\n",
    "    def peek(self, stack_num):\n",
    "        self._assert_valid_stack_num(stack_num)\n",
    "        if self.is_empty(stack_num):\n",
    "            raise StackEmptyError(f\"Cannot peek at empty stack #{stack_num}\")\n",
    "        return self.array[self.index_of_top(stack_num)]\n",
    "\n",
    "    def is_empty(self, stack_num):\n",
    "        self._assert_valid_stack_num(stack_num)\n",
    "        return self.sizes[stack_num] == 0\n",
    "\n",
    "    def is_full(self, stack_num):\n",
    "        self._assert_valid_stack_num(stack_num)\n",
    "        return self.sizes[stack_num] == self.stack_size\n",
    "\n",
    "    def index_of_top(self, stack_num):\n",
    "        self._assert_valid_stack_num(stack_num)\n",
    "        offset = stack_num * self.stack_size\n",
    "        return offset + self.sizes[stack_num] - 1\n",
    "\n",
    "    def _assert_valid_stack_num(self, stack_num):\n",
    "        if stack_num >= self.number_of_stacks:\n",
    "            raise StackDoesNotExistError(f\"Stack #{stack_num} does not exist\")\n",
    "\n",
    "\n",
    "class MultiStackError(Exception):\n",
    "    \"\"\"multistack operation error\"\"\"\n",
    "\n",
    "\n",
    "class StackFullError(MultiStackError):\n",
    "    \"\"\"the stack is full\"\"\"\n",
    "\n",
    "\n",
    "class StackEmptyError(MultiStackError):\n",
    "    \"\"\"the stack is empty\"\"\"\n",
    "\n",
    "\n",
    "class StackDoesNotExistError(ValueError):\n",
    "    \"\"\"stack does not exist\"\"\"\n",
    "\n",
    "\n",
    "\n",
    "\n",
    "if __name__ == \"__main__\":\n",
    "    \n",
    "    newstack = MultiStack(3, 2)\n",
    "    print(newstack.is_empty(1))\n",
    "    newstack.push(3, 1)\n",
    "    print(newstack.peek(1))\n",
    "    print(newstack.is_empty(1))\n",
    "    newstack.push(2, 1)\n",
    "    print(newstack.peek(1))\n",
    "    print(newstack.pop(1))\n",
    "    print(newstack.peek(1))\n",
    "    newstack.push(3, 1)\n",
    "    '''\n",
    "    stack = MultiStack(3, 3)\n",
    "    print(stack.is_empty(0))\n",
    "    print(stack.is_empty(1))\n",
    "    print(stack.is_empty(2))\n",
    "    stack.push(9, 0)\n",
    "    stack.push(1, 0)\n",
    "    print(stack.peek(0))\n",
    "    '''\n"
   ]
  },
  {
   "source": [
    "## **Stack Min**"
   ],
   "cell_type": "markdown",
   "metadata": {}
  },
  {
   "cell_type": "code",
   "execution_count": 32,
   "metadata": {},
   "outputs": [
    {
     "output_type": "stream",
     "name": "stdout",
     "text": [
      "Number Inserted: 3\nNumber Inserted: 5\nMinimum Element in the stack is: 3\nNumber Inserted: 4\nNumber Inserted: 1\nNumber Inserted: 2\nMinimum Element in the stack is: 1\nTop Most Element is: 2\nTop Most Element Removed : 2\nMinimum Element in the stack is: 1\nTop Most Element Removed :1 \nTop Most Element is: 4\nMinimum Element in the stack is: 3\n"
     ]
    }
   ],
   "source": [
    "# Class to make a Node\n",
    "class Node:\n",
    "    # Constructor which assign argument to nade's value\n",
    "    def __init__(self, value):\n",
    "        self.value = value\n",
    "        self.next = None\n",
    " \n",
    "    # This method returns the string representation of the object.\n",
    "    def __str__(self):\n",
    "        return \"Node({})\".format(self.value)\n",
    "     \n",
    "    # __repr__ is same as __str__\n",
    "    __repr__ = __str__\n",
    " \n",
    " \n",
    "class Stack:\n",
    "    # Stack Constructor initialise top of stack and counter.\n",
    "    def __init__(self):\n",
    "        self.top = None\n",
    "        self.count = 0\n",
    "        self.minimum = None\n",
    "         \n",
    "    # This method returns the string representation of the object (stack).\n",
    "    def __str__(self):\n",
    "        temp = self.top\n",
    "        out = []\n",
    "        while temp:\n",
    "            out.append(str(temp.value))\n",
    "            temp = temp.next\n",
    "        out = '\\n'.join(out)\n",
    "        return ('Top {} \\n\\nStack :\\n{}'.format(self.top,out))\n",
    "         \n",
    "    # __repr__ is same as __str__\n",
    "    __repr__=__str__\n",
    "     \n",
    "    # This method is used to get minimum element of stack\n",
    "    def getMin(self):\n",
    "        if self.top is None:\n",
    "            return \"Stack is empty\"\n",
    "        else:\n",
    "            print(\"Minimum Element in the stack is: {}\" .format(self.minimum))\n",
    " \n",
    " \n",
    " \n",
    "    # Method to check if Stack is Empty or not\n",
    "    def isEmpty(self):\n",
    "        # If top equals to None then stack is empty\n",
    "        if self.top == None:\n",
    "            return True\n",
    "        else:\n",
    "        # If top not equal to None then stack is empty\n",
    "            return False\n",
    " \n",
    "    # This method returns length of stack    \n",
    "    def __len__(self):\n",
    "        self.count = 0\n",
    "        tempNode = self.top\n",
    "        while tempNode:\n",
    "            tempNode = tempNode.next\n",
    "            self.count+=1\n",
    "        return self.count\n",
    " \n",
    "    # This method returns top of stack    \n",
    "    def peek(self):\n",
    "        if self.top is None:\n",
    "            print (\"Stack is empty\")\n",
    "        else:\n",
    "            if self.top.value < self.minimum:\n",
    "                print(\"Top Most Element is: {}\" .format(self.minimum))\n",
    "            else:\n",
    "                print(\"Top Most Element is: {}\" .format(self.top.value))\n",
    " \n",
    "    # This method is used to add node to stack\n",
    "    def push(self,value):\n",
    "        if self.top is None:\n",
    "            self.top = Node(value)\n",
    "            self.minimum = value\n",
    "         \n",
    "        elif value < self.minimum:\n",
    "            temp = (2 * value) - self.minimum\n",
    "            new_node = Node(temp)\n",
    "            new_node.next = self.top\n",
    "            self.top = new_node\n",
    "            self.minimum = value\n",
    "        else:\n",
    "            new_node = Node(value)\n",
    "            new_node.next = self.top\n",
    "            self.top = new_node\n",
    "        print(\"Number Inserted: {}\" .format(value))\n",
    " \n",
    "    # This method is used to pop top of stack\n",
    "    def pop(self):\n",
    "        if self.top is None:\n",
    "            print( \"Stack is empty\")\n",
    "        else:\n",
    "            removedNode = self.top.value      \n",
    "            self.top = self.top.next\n",
    "            if removedNode < self.minimum:\n",
    "                print (\"Top Most Element Removed :{} \" .format(self.minimum))\n",
    "                self.minimum = ( ( 2 * self.minimum ) - removedNode )\n",
    "            else:\n",
    "                print (\"Top Most Element Removed : {}\" .format(removedNode))\n",
    " \n",
    "                 \n",
    "             \n",
    "     \n",
    "# Driver program to test above class\n",
    "stack = Stack()\n",
    " \n",
    "stack.push(3)\n",
    "stack.push(5)\n",
    "stack.getMin()\n",
    "stack.push(4)\n",
    "stack.push(1)\n",
    "stack.push(2)\n",
    "stack.getMin()  \n",
    "stack.peek()  \n",
    "stack.pop()\n",
    "stack.getMin()\n",
    "stack.pop()\n",
    "stack.peek()\n",
    "stack.getMin()\n",
    " \n",
    "# This code is contributed by Blinkii"
   ]
  },
  {
   "source": [
    "## **Stack of Plates**"
   ],
   "cell_type": "markdown",
   "metadata": {}
  },
  {
   "cell_type": "code",
   "execution_count": 53,
   "metadata": {},
   "outputs": [
    {
     "output_type": "stream",
     "name": "stdout",
     "text": [
      "[95]\n[95, 80]\n"
     ]
    }
   ],
   "source": [
    "\n",
    "\n",
    "\n",
    "class Node:\n",
    "    def __init__(self, value):\n",
    "        self.value = value\n",
    "        self.above = None\n",
    "        self.below = None\n",
    "\n",
    "\n",
    "class Stack:\n",
    "    def __init__(self, capacity):\n",
    "        self.capacity = capacity\n",
    "        self.size = 0\n",
    "        self.top = None\n",
    "        self.bottom = None\n",
    "\n",
    "    def is_full(self):\n",
    "        return self.size == self.capacity\n",
    "\n",
    "    def is_empty(self):\n",
    "        return self.size == 0\n",
    "\n",
    "    def join(self, above, below):\n",
    "        if below:\n",
    "            below.above = above\n",
    "        if above:\n",
    "            above.below = below\n",
    "\n",
    "    def push(self, v):\n",
    "        if self.size >= self.capacity:\n",
    "            return False\n",
    "        self.size += 1\n",
    "        n = Node(v)\n",
    "        if self.size == 1:\n",
    "            self.bottom = n\n",
    "        self.join(n, self.top)\n",
    "        self.top = n\n",
    "        return True\n",
    "\n",
    "    def pop(self):\n",
    "        if not self.top:\n",
    "            return None\n",
    "        t = self.top\n",
    "        self.top = self.top.below\n",
    "        self.size -= 1\n",
    "        return t.value\n",
    "\n",
    "    def remove_bottom(self):\n",
    "        b = self.bottom\n",
    "        self.bottom = self.bottom.above\n",
    "        if self.bottom:\n",
    "            self.bottom.below = None\n",
    "        self.size -= 1\n",
    "        return b.value\n",
    "\n",
    "\n",
    "class SetOfStacks:\n",
    "    def __init__(self, capacity):\n",
    "        self.capacity = capacity\n",
    "        self.stacks = []\n",
    "\n",
    "    def get_last_stack(self):\n",
    "        if not self.stacks:\n",
    "            return None\n",
    "        return self.stacks[-1]\n",
    "\n",
    "    def is_empty(self):\n",
    "        last = self.get_last_stack()\n",
    "        return not last or last.is_empty()\n",
    "\n",
    "    def push(self, v):\n",
    "        last = self.get_last_stack()\n",
    "        if last and not last.is_full():\n",
    "            last.push(v)\n",
    "        else:\n",
    "            stack = Stack(self.capacity)\n",
    "            stack.push(v)\n",
    "            self.stacks.append(stack)\n",
    "\n",
    "    def pop(self):\n",
    "        last = self.get_last_stack()\n",
    "        if not last:\n",
    "            return None\n",
    "        v = last.pop()\n",
    "        if last.size == 0:\n",
    "            del self.stacks[-1]\n",
    "        return v\n",
    "\n",
    "    def pop_at(self, index):\n",
    "        return self.left_shift(index, True)\n",
    "\n",
    "    def left_shift(self, index, remove_top):\n",
    "        stack = self.stacks[index]\n",
    "        removed_item = stack.pop() if remove_top else stack.remove_bottom()\n",
    "        if stack.is_empty():\n",
    "            del self.stacks[index]\n",
    "        elif len(self.stacks) > index + 1:\n",
    "            v = self.left_shift(index + 1, False)\n",
    "            stack.push(v)\n",
    "        return removed_item\n",
    "\n",
    "\n",
    "\n",
    "if __name__ == \"__main__\":\n",
    "    #unittest.main()\n",
    "    stacks = SetOfStacks(5)\n",
    "    stacks.push(20)\n",
    "    stacks.push(35)\n",
    "    stacks.push(50)\n",
    "    stacks.push(65)\n",
    "    stacks.push(80)\n",
    "    stacks.push(95)\n",
    "    \n",
    "    lst = []\n",
    "    lst.append(stacks.pop())\n",
    "    print(lst)\n",
    "\n",
    "    lst.append(stacks.pop_at(0))\n",
    "    print(lst)\n"
   ]
  },
  {
   "source": [
    "## **Queue via Stacks**"
   ],
   "cell_type": "markdown",
   "metadata": {}
  },
  {
   "cell_type": "code",
   "execution_count": 54,
   "metadata": {},
   "outputs": [
    {
     "output_type": "stream",
     "name": "stdout",
     "text": [
      "1\n2\n3\n"
     ]
    }
   ],
   "source": [
    "# Python3 program to implement Queue using \n",
    "# two stacks with costly enQueue() \n",
    "  \n",
    "class Queue: \n",
    "    def __init__(self):\n",
    "        self.s1 = []\n",
    "        self.s2 = []\n",
    "  \n",
    "    def enQueue(self, x):\n",
    "          \n",
    "        # Move all elements from s1 to s2 \n",
    "        while len(self.s1) != 0: \n",
    "            self.s2.append(self.s1[-1]) \n",
    "            self.s1.pop()\n",
    "  \n",
    "        # Push item into self.s1 \n",
    "        self.s1.append(x) \n",
    "  \n",
    "        # Push everything back to s1 \n",
    "        while len(self.s2) != 0: \n",
    "            self.s1.append(self.s2[-1]) \n",
    "            self.s2.pop()\n",
    "  \n",
    "    # Dequeue an item from the queue \n",
    "    def deQueue(self):\n",
    "          \n",
    "            # if first stack is empty \n",
    "        if len(self.s1) == 0: \n",
    "            print(\"Q is Empty\")\n",
    "      \n",
    "        # Return top of self.s1 \n",
    "        x = self.s1[-1] \n",
    "        self.s1.pop() \n",
    "        return x\n",
    "  \n",
    "# Driver code \n",
    "if __name__ == '__main__':\n",
    "    q = Queue()\n",
    "    q.enQueue(1) \n",
    "    q.enQueue(2) \n",
    "    q.enQueue(3) \n",
    "  \n",
    "    print(q.deQueue())\n",
    "    print(q.deQueue())\n",
    "    print(q.deQueue())\n",
    "  \n",
    "# This code is contributed by PranchalK "
   ]
  },
  {
   "source": [
    "## **Sort Stack**"
   ],
   "cell_type": "markdown",
   "metadata": {}
  },
  {
   "cell_type": "code",
   "execution_count": 55,
   "metadata": {},
   "outputs": [
    {
     "output_type": "stream",
     "name": "stdout",
     "text": [
      "Sorted numbers are: \n98 92 34 31 23 3 \n"
     ]
    }
   ],
   "source": [
    "# Python program to sort a\n",
    "# stack using auxiliary stack.\n",
    "\n",
    "# This function return the sorted stack\n",
    "def sortStack ( stack ):\n",
    "\ttmpStack = createStack()\n",
    "\twhile(isEmpty(stack) == False):\n",
    "\t\t\n",
    "\t\t# pop out the first element\n",
    "\t\ttmp = top(stack)\n",
    "\t\tpop(stack)\n",
    "\n",
    "\t\t# while temporary stack is not\n",
    "\t\t# empty and top of stack is\n",
    "\t\t# greater than temp\n",
    "\t\twhile(isEmpty(tmpStack) == False and\n",
    "\t\t\tint(top(tmpStack)) > int(tmp)):\n",
    "\t\t\t\n",
    "\t\t\t# pop from temporary stack and\n",
    "\t\t\t# push it to the input stack\n",
    "\t\t\tpush(stack,top(tmpStack))\n",
    "\t\t\tpop(tmpStack)\n",
    "\n",
    "\t\t# push temp in tempory of stack\n",
    "\t\tpush(tmpStack,tmp)\n",
    "\t\n",
    "\treturn tmpStack\n",
    "\n",
    "# Below is a complete running\n",
    "# program for testing above\n",
    "# function.\n",
    "\n",
    "# Function to create a stack.\n",
    "# It initializes size of stack\n",
    "# as 0\n",
    "def createStack():\n",
    "\tstack = []\n",
    "\treturn stack\n",
    "\n",
    "# Function to check if\n",
    "# the stack is empty\n",
    "def isEmpty( stack ):\n",
    "\treturn len(stack) == 0\n",
    "\n",
    "# Function to push an\n",
    "# item to stack\n",
    "def push( stack, item ):\n",
    "\tstack.append( item )\n",
    "\n",
    "# Function to get top\n",
    "# item of stack\n",
    "def top( stack ):\n",
    "\tp = len(stack)\n",
    "\treturn stack[p-1]\n",
    "\n",
    "# Function to pop an\n",
    "# item from stack\n",
    "def pop( stack ):\n",
    "\n",
    "\t# If stack is empty\n",
    "\t# then error\n",
    "\tif(isEmpty( stack )):\n",
    "\t\tprint(\"Stack Underflow \")\n",
    "\t\texit(1)\n",
    "\n",
    "\treturn stack.pop()\n",
    "\n",
    "# Function to print the stack\n",
    "def prints(stack):\n",
    "\tfor i in range(len(stack)-1, -1, -1):\n",
    "\t\tprint(stack[i], end = ' ')\n",
    "\tprint()\n",
    "\n",
    "# Driver Code\n",
    "stack = createStack()\n",
    "push( stack, str(34) )\n",
    "push( stack, str(3) )\n",
    "push( stack, str(31) )\n",
    "push( stack, str(98) )\n",
    "push( stack, str(92) )\n",
    "push( stack, str(23) )\n",
    "\n",
    "print(\"Sorted numbers are: \")\n",
    "sortedst = sortStack ( stack )\n",
    "prints(sortedst)\n",
    "\n",
    "# This code is contributed by\n",
    "# Prasad Kshirsagar\n"
   ]
  },
  {
   "source": [
    "## **Animal Shelter**"
   ],
   "cell_type": "markdown",
   "metadata": {}
  },
  {
   "cell_type": "code",
   "execution_count": 58,
   "metadata": {},
   "outputs": [
    {
     "output_type": "stream",
     "name": "stdout",
     "text": [
      "[{'name': 'Pizzapie', 'type': 'cat', 'order': 1}, {'name': 'Sushi', 'type': 'cat', 'order': 3}] [{'name': 'Emmy', 'type': 'dog', 'order': 2}, {'name': 'Charmander', 'type': 'dog', 'order': 4}]\n"
     ]
    }
   ],
   "source": [
    "class AnimalShelter:\n",
    "  def __init__(self):\n",
    "    self.dogs = []\n",
    "    self.cats = []\n",
    "    self.order = 0\n",
    "\n",
    "  def add_animal(self, name, kind):\n",
    "    kind = kind.lower()\n",
    "    self.order += 1;\n",
    "    animal = {\n",
    "      \"name\": name,\n",
    "      \"type\": kind,\n",
    "      \"order\": self.order\n",
    "    }\n",
    "    if kind == \"cat\":\n",
    "      self.cats.append(animal)\n",
    "    elif kind == \"dog\":\n",
    "      self.dogs.append(animal)\n",
    "    else:\n",
    "      print(\"Invalid animal type entered. Animals must be cat or dog.\")\n",
    "\n",
    "  def __adopt_animal(self, animal_list):\n",
    "    if len(animal_list) == 0:\n",
    "      return None\n",
    "    else:\n",
    "      return animal_list.pop(0)\n",
    "\n",
    "  def adopt_dog(self):\n",
    "    return self.__adopt_animal(self.dogs)\n",
    "\n",
    "  def adopt_cat(self):\n",
    "    return self.__adopt_animal(self.cats)\n",
    "\n",
    "  def adopt_any(self):\n",
    "    if len(self.cats) == 0:\n",
    "      return self.adopt_dog()\n",
    "    elif len(self.dogs) > 0 and self.cats[0][\"order\"] > self.dogs[0][\"order\"]:\n",
    "      return self.adopt_dog()\n",
    "    else:\n",
    "      return self.adopt_cat()\n",
    "\n",
    "\n",
    "a = AnimalShelter()\n",
    "a.add_animal(\"Pizzapie\", \"cat\")\n",
    "a.add_animal(\"Emmy\", \"Dog\")\n",
    "a.add_animal(\"Sushi\", \"Cat\")\n",
    "a.add_animal(\"Charmander\", \"Dog\")\n",
    "print(a.cats, a.dogs)"
   ]
  },
  {
   "cell_type": "code",
   "execution_count": 59,
   "metadata": {},
   "outputs": [],
   "source": [
    "import time\n",
    "\n",
    "\n",
    "class Node:\n",
    "    def __init__(self, data, next_node=None):\n",
    "        self.data = data\n",
    "        self.next_node = next_node\n",
    "\n",
    "    def __str__(self):\n",
    "        return str(self.data)\n",
    "\n",
    "\n",
    "class LinkedList:\n",
    "    def __init__(self, head=None):\n",
    "        self.head = head\n",
    "\n",
    "    def insert(self, node):\n",
    "        if self.head is None:\n",
    "            self.head = node\n",
    "            return\n",
    "        current_node = self.head\n",
    "        while current_node.next_node is not None:\n",
    "            current_node = current_node.next_node\n",
    "        current_node.next_node = node\n",
    "\n",
    "    def pop_head(self):\n",
    "        if self.head is not None:\n",
    "            head_to_pop = self.head\n",
    "            self.head = self.head.next_node\n",
    "            return head_to_pop\n",
    "\n",
    "        return None\n",
    "\n",
    "    def size(self):\n",
    "        current_node = self.head\n",
    "        size = 0\n",
    "        while current_node is not None:\n",
    "            size += 1\n",
    "            current_node = current_node.next_node\n",
    "        return size\n",
    "\n",
    "\n",
    "# Animal Definitions\n",
    "\n",
    "\n",
    "class Animal:\n",
    "    def __init__(self, name):\n",
    "        self.time_admitted = time.time()\n",
    "        self.name = name\n",
    "\n",
    "\n",
    "class Cat(Animal):\n",
    "    pass\n",
    "\n",
    "\n",
    "class Dog(Animal):\n",
    "    pass\n",
    "\n",
    "\n",
    "class AnimalShelter(LinkedList):\n",
    "    def enqueue(self, animal):\n",
    "        animal_node = Node(animal)\n",
    "        self.insert(animal_node)\n",
    "\n",
    "    def dequeue_any(self):\n",
    "        return super().pop_head()\n",
    "\n",
    "    def dequeue_cat(self):\n",
    "        previous_node = None\n",
    "        current_node = self.head\n",
    "        while current_node is not None:\n",
    "            if isinstance(current_node.data, Cat):\n",
    "                previous_node.next_node = current_node.next_node\n",
    "                return current_node.data\n",
    "            previous_node = current_node\n",
    "            current_node = current_node.next_node\n",
    "        return None\n",
    "\n",
    "    def dequeue_dog(self):\n",
    "        previous_node = None\n",
    "        current_node = self.head\n",
    "        while current_node is not None:\n",
    "            if isinstance(current_node.data, Dog):\n",
    "                previous_node.next_node = current_node.next_node\n",
    "                return current_node.data\n",
    "            previous_node = current_node\n",
    "            current_node = current_node.next_node\n",
    "        return None\n",
    "\n",
    "\n",
    "def test_enqueue():\n",
    "    animal_shelter = AnimalShelter()\n",
    "    animal_shelter.enqueue(Cat(\"Fluffy\"))\n",
    "    animal_shelter.enqueue(Dog(\"Sparky\"))\n",
    "    animal_shelter.enqueue(Cat(\"Sneezy\"))\n",
    "    assert animal_shelter.size() == 3"
   ]
  },
  {
   "source": [
    "# **Trees and Graphs**"
   ],
   "cell_type": "markdown",
   "metadata": {}
  },
  {
   "source": [
    "## **Route Between Nodes**"
   ],
   "cell_type": "markdown",
   "metadata": {}
  },
  {
   "cell_type": "code",
   "execution_count": 67,
   "metadata": {},
   "outputs": [
    {
     "output_type": "stream",
     "name": "stdout",
     "text": [
      "There is a path from 1 to 3\nThere is no path from 3 to 1\n"
     ]
    }
   ],
   "source": [
    "# program to check if there is exist a path between two vertices\n",
    "# of a graph\n",
    "\n",
    "from collections import defaultdict\n",
    "\n",
    "#This class represents a directed graph using adjacency list representation\n",
    "class Graph:\n",
    "\n",
    "\tdef __init__(self,vertices):\n",
    "\t\tself.V= vertices #No. of vertices\n",
    "\t\tself.graph = defaultdict(list) # default dictionary to store graph\n",
    "\n",
    "\t# function to add an edge to graph\n",
    "\tdef addEdge(self,u,v):\n",
    "\t\tself.graph[u].append(v)\n",
    "\t\n",
    "\t# Use BFS to check path between s and d\n",
    "\tdef isReachable(self, s, d):\n",
    "\t\t# Mark all the vertices as not visited\n",
    "\t\tvisited =[False]*(self.V)\n",
    "\n",
    "\t\t# Create a queue for BFS\n",
    "\t\tqueue=[]\n",
    "\n",
    "\t\t# Mark the source node as visited and enqueue it\n",
    "\t\tqueue.append(s)\n",
    "\t\tvisited[s] = True\n",
    "\n",
    "\t\twhile queue:\n",
    "\n",
    "\t\t\t#Dequeue a vertex from queue\n",
    "\t\t\tn = queue.pop(0)\n",
    "\t\t\t\n",
    "\t\t\t# If this adjacent node is the destination node,\n",
    "\t\t\t# then return true\n",
    "\t\t\tif n == d:\n",
    "\t\t\t\treturn True\n",
    "\n",
    "\t\t\t# Else, continue to do BFS\n",
    "\t\t\tfor i in self.graph[n]:\n",
    "\t\t\t\tif visited[i] == False:\n",
    "\t\t\t\t\tqueue.append(i)\n",
    "\t\t\t\t\tvisited[i] = True\n",
    "\t\t# If BFS is complete without visited d\n",
    "\t\treturn False\n",
    "\n",
    "# Create a graph given in the above diagram\n",
    "g = Graph(4)\n",
    "g.addEdge(0, 1)\n",
    "g.addEdge(0, 2)\n",
    "g.addEdge(1, 2)\n",
    "g.addEdge(2, 0)\n",
    "g.addEdge(2, 3)\n",
    "g.addEdge(3, 3)\n",
    "\n",
    "u =1; v = 3\n",
    "\n",
    "if g.isReachable(u, v):\n",
    "\tprint(\"There is a path from %d to %d\" % (u,v))\n",
    "else :\n",
    "\tprint(\"There is no path from %d to %d\" % (u,v))\n",
    "\n",
    "u = 3; v = 1\n",
    "if g.isReachable(u, v) :\n",
    "\tprint(\"There is a path from %d to %d\" % (u,v))\n",
    "else :\n",
    "\tprint(\"There is no path from %d to %d\" % (u,v))\n",
    "\n",
    "#This code is contributed by Neelam Yadav\n"
   ]
  },
  {
   "source": [
    "## **Minimal Tree**"
   ],
   "cell_type": "markdown",
   "metadata": {}
  },
  {
   "cell_type": "code",
   "execution_count": 71,
   "metadata": {},
   "outputs": [
    {
     "output_type": "stream",
     "name": "stdout",
     "text": [
      "7\nL:3\n  L:1\n    R:2\n  R:5\n    L:4\n    R:6\nR:12\n  L:9\n    L:8\n    R:10\n  R:18\n    L:15\n    R:22\n\n"
     ]
    }
   ],
   "source": [
    "class Node:\n",
    "    def __init__(self, item):\n",
    "        self.right = None\n",
    "        self.left = None\n",
    "        self.val = item\n",
    "\n",
    "    def disp(self, nesting=0):\n",
    "        indent = \" \" * nesting * 2\n",
    "        output = f\"{self.val}\\n\"\n",
    "        if self.left is not None:\n",
    "            output += f\"{indent}L:\"\n",
    "            output += self.left.disp(nesting + 1)\n",
    "        if self.right is not None:\n",
    "            output += f\"{indent}R:\"\n",
    "            output += self.right.disp(nesting + 1)\n",
    "        return output\n",
    "\n",
    "    def __str__(self):\n",
    "        return self.disp()\n",
    "\n",
    "\n",
    "def array_to_binary_tree(array, start, end):\n",
    "    if start > end:\n",
    "        return None\n",
    "    mid = (\n",
    "        start + end\n",
    "    ) // 2  # This must be floor division, otherwise you get a slice error\n",
    "    # TypeError: list indices must be integers or slices, not float\n",
    "    root = Node(array[mid])\n",
    "    root.left = array_to_binary_tree(array, start, mid - 1)\n",
    "    root.right = array_to_binary_tree(array, mid + 1, end)\n",
    "    return root\n",
    "\n",
    "\n",
    "if __name__ == \"__main__\":\n",
    "    test_array = [1, 2, 3, 4, 5, 6, 7, 8, 9, 10, 12, 15, 18, 22]\n",
    "    print(array_to_binary_tree(test_array, 0, len(test_array) - 1))\n"
   ]
  },
  {
   "source": [
    "## **List Of Depths**"
   ],
   "cell_type": "markdown",
   "metadata": {}
  },
  {
   "cell_type": "code",
   "execution_count": null,
   "metadata": {},
   "outputs": [],
   "source": []
  },
  {
   "source": [
    "## **Check Balanced**"
   ],
   "cell_type": "markdown",
   "metadata": {}
  },
  {
   "cell_type": "code",
   "execution_count": 106,
   "metadata": {},
   "outputs": [
    {
     "output_type": "stream",
     "name": "stdout",
     "text": [
      "Tree is balanced\n"
     ]
    }
   ],
   "source": [
    "\"\"\"\n",
    "Python3 program to check if a tree is height-balanced\n",
    "\"\"\"\n",
    "# A binary tree Node\n",
    "\n",
    "\n",
    "\n",
    "class Node:\n",
    "\t# Constructor to create a new Node\n",
    "\tdef __init__(self, data):\n",
    "\t\tself.data = data\n",
    "\t\tself.left = None\n",
    "\t\tself.right = None\n",
    "\n",
    "# function to find height of binary tree\n",
    "def height(root):\n",
    "\t\n",
    "\t# base condition when binary tree is empty\n",
    "\tif root is None:\n",
    "\t\treturn 0\n",
    "\treturn max(height(root.left), height(root.right)) + 1\n",
    "\n",
    "# function to check if tree is height-balanced or not\n",
    "def isBalanced(root):\n",
    "\t\n",
    "\t# Base condition\n",
    "\tif root is None:\n",
    "\t\treturn True\n",
    "\n",
    "\t# for left and right subtree height\n",
    "\tlh = height(root.left)\n",
    "\trh = height(root.right)\n",
    "\n",
    "\t# allowed values for (lh - rh) are 1, -1, 0\n",
    "\tif (abs(lh - rh) <= 1) and isBalanced(\n",
    "\troot.left) is True and isBalanced( root.right) is True:\n",
    "\t\treturn True\n",
    "\n",
    "\t# if we reach here means tree is not\n",
    "\t# height-balanced tree\n",
    "\treturn False\n",
    "\n",
    "# Driver function to test the above function\n",
    "root = Node(1)\n",
    "root.left = Node(2)\n",
    "root.right = Node(3)\n",
    "root.left.left = Node(4)\n",
    "root.left.right = Node(5)\n",
    "root.right.right = Node(6)\n",
    "root.left.left.left = Node(8)\n",
    "if isBalanced(root):\n",
    "\tprint(\"Tree is balanced\")\n",
    "else:\n",
    "\tprint(\"Tree is not balanced\")\n",
    "\n",
    "# This code is contributed by Shweta Singh\n"
   ]
  },
  {
   "cell_type": "code",
   "execution_count": 89,
   "metadata": {},
   "outputs": [
    {
     "output_type": "stream",
     "name": "stdout",
     "text": [
      "Tree is balanced\n"
     ]
    }
   ],
   "source": [
    "\"\"\"\n",
    "Python3 program to check if Binary tree is\n",
    "height-balanced\n",
    "\"\"\"\n",
    "\n",
    "# A binary tree node\n",
    "class Node:\n",
    "\t\n",
    "\t# constructor to create node of\n",
    "\t# binary tree\n",
    "\tdef __init__(self, data):\n",
    "\t\tself.data = data\n",
    "\t\tself.left = self.right = None\n",
    "\n",
    "# utility class to pass height object\n",
    "class Height:\n",
    "\tdef __init__(self):\n",
    "\t\tself.height = 0\n",
    "\n",
    "# helper function to check if binary\n",
    "# tree is height balanced\n",
    "def isBalanced(root):\n",
    "\t\n",
    "\t# lh and rh to store height of\n",
    "\t# left and right subtree\n",
    "\tlh = Height()\n",
    "\trh = Height()\n",
    "\n",
    "\t# Base condition when tree is\n",
    "\t# empty return true\n",
    "\tif root is None:\n",
    "\t\treturn True\n",
    "\n",
    "\t# l and r are used to check if left\n",
    "\t# and right subtree are balanced\n",
    "\tl = isBalanced(root.left)\n",
    "\tr = isBalanced(root.right)\n",
    "\n",
    "\t# height of tree is maximum of\n",
    "\t# left subtree height and\n",
    "\t# right subtree height plus 1\n",
    "\n",
    "\tif abs(lh.height - rh.height) <= 1:\n",
    "\t\treturn l and r\n",
    "\n",
    "\t# if we reach here then the tree\n",
    "\t# is not balanced\n",
    "\treturn False\n",
    "\n",
    "# Driver function to test the above function\n",
    "\"\"\"\n",
    "Constructed binary tree is\n",
    "\t\t\t1\n",
    "\t\t/ \\\n",
    "\t\t2\t 3\n",
    "\t/ \\ /\n",
    "\t4 5 6 / 7\n",
    "\"\"\"\n",
    "# to store the height of tree during traversal\n",
    "\n",
    "root = Node(1)\n",
    "root.left = Node(2)\n",
    "root.right = Node(3)\n",
    "root.left.left = Node(4)\n",
    "root.left.right = Node(5)\n",
    "root.right.left = Node(6)\n",
    "root.left.left.left = Node(7)\n",
    "\n",
    "if isBalanced(root):\n",
    "\tprint('Tree is balanced')\n",
    "else:\n",
    "\tprint('Tree is not balanced')\n",
    "\n",
    "# This code is contributed by Shweta Singh\n"
   ]
  },
  {
   "source": [
    "## **Validate BST**"
   ],
   "cell_type": "markdown",
   "metadata": {}
  },
  {
   "cell_type": "code",
   "execution_count": 108,
   "metadata": {},
   "outputs": [
    {
     "output_type": "stream",
     "name": "stdout",
     "text": [
      "Is BST\n"
     ]
    }
   ],
   "source": [
    "# Python program to check if a binary tree is bst or not\n",
    "\n",
    "INT_MAX = 4294967296\n",
    "INT_MIN = -4294967296\n",
    "\n",
    "# A binary tree node\n",
    "class Node:\n",
    "\n",
    "\t# Constructor to create a new node\n",
    "\tdef __init__(self, data):\n",
    "\t\tself.data = data\n",
    "\t\tself.left = None\n",
    "\t\tself.right = None\n",
    "\n",
    "\n",
    "# Returns true if the given tree is a binary search tree\n",
    "# (efficient version)\n",
    "def isBST(node):\n",
    "\treturn (isBSTUtil(node, INT_MIN, INT_MAX))\n",
    "\n",
    "# Retusn true if the given tree is a BST and its values\n",
    "# >= min and <= max\n",
    "def isBSTUtil(node, mini, maxi):\n",
    "\t\n",
    "\t# An empty tree is BST\n",
    "\tif node is None:\n",
    "\t\treturn True\n",
    "\n",
    "\t# False if this node violates min/max constraint\n",
    "\tif node.data < mini or node.data > maxi:\n",
    "\t\treturn False\n",
    "\n",
    "\t# Otherwise check the subtrees recursively\n",
    "\t# tightening the min or max constraint\n",
    "\treturn (isBSTUtil(node.left, mini, node.data -1) and\n",
    "\t\tisBSTUtil(node.right, node.data+1, maxi))\n",
    "\n",
    "# Driver program to test above function\n",
    "root = Node(4)\n",
    "root.left = Node(2)\n",
    "root.right = Node(5)\n",
    "root.left.left = Node(1)\n",
    "root.left.right = Node(3)\n",
    "\n",
    "if (isBST(root)):\n",
    "\tprint(\"Is BST\")\n",
    "else:\n",
    "\tprint(\"Not a BST\")\n",
    "\n",
    "# This code is contributed by Nikhil Kumar Singh(nickzuck_007)\n"
   ]
  },
  {
   "cell_type": "code",
   "execution_count": 109,
   "metadata": {},
   "outputs": [
    {
     "output_type": "stream",
     "name": "stdout",
     "text": [
      "Not a BST\n"
     ]
    }
   ],
   "source": [
    "\"\"\" Program to check if a given Binary\n",
    "Tree is balanced like a Red-Black Tree \"\"\"\n",
    "\n",
    "# Helper function that allocates a new\n",
    "# node with the given data and None\n",
    "# left and right poers.\t\t\t\t\t\t\t\t\n",
    "class newNode:\n",
    "\n",
    "\t# Construct to create a new node\n",
    "\tdef __init__(self, key):\n",
    "\t\tself.data = key\n",
    "\t\tself.left = None\n",
    "\t\tself.right = None\n",
    "\n",
    "# Returns true if given tree is BST.\n",
    "def isBST(root, l = None, r = None):\n",
    "\n",
    "\t# Base condition\n",
    "\tif (root == None) :\n",
    "\t\treturn True\n",
    "\n",
    "\t# if left node exist then check it has\n",
    "\t# correct data or not i.e. left node's data\n",
    "\t# should be less than root's data\n",
    "\tif (l != None and root.data <= l.data) :\n",
    "\t\treturn False\n",
    "\n",
    "\t# if right node exist then check it has\n",
    "\t# correct data or not i.e. right node's data\n",
    "\t# should be greater than root's data\n",
    "\tif (r != None and root.data >= r.data) :\n",
    "\t\treturn False\n",
    "\n",
    "\t# check recursively for every node.\n",
    "\treturn isBST(root.left, l, root) and \\\n",
    "\t\tisBST(root.right, root, r)\n",
    "\n",
    "\n",
    "# Driver Code\n",
    "if __name__ == '__main__':\n",
    "\troot = newNode(3)\n",
    "\troot.left = newNode(2)\n",
    "\troot.right = newNode(5)\n",
    "\troot.right.left = newNode(1)\n",
    "\troot.right.right = newNode(4)\n",
    "\t#root.right.left.left = newNode(40)\n",
    "\tif (isBST(root,None,None)):\n",
    "\t\tprint(\"Is BST\")\n",
    "\telse:\n",
    "\t\tprint(\"Not a BST\")\n",
    "\n",
    "# This code is contributed by\n",
    "# Shubham Singh(SHUBHAMSINGH10)\n"
   ]
  },
  {
   "cell_type": "code",
   "execution_count": 113,
   "metadata": {},
   "outputs": [
    {
     "output_type": "stream",
     "name": "stdout",
     "text": [
      "is BST\n"
     ]
    }
   ],
   "source": [
    "# Python implementation to check if\n",
    "# given Binary tree is a BST or not\n",
    "\n",
    "# A binary tree node containing data\n",
    "# field, left and right pointers\n",
    "class Node:\n",
    "\t# constructor to create new node\n",
    "\tdef __init__(self, val):\n",
    "\t\tself.data = val\n",
    "\t\tself.left = None\n",
    "\t\tself.right = None\n",
    "\n",
    "# global variable prev - to keep track\n",
    "# of previous node during Inorder\n",
    "# traversal\n",
    "prev = None\n",
    "\n",
    "# function to check if given binary\n",
    "# tree is BST\n",
    "def isbst(root):\n",
    "\t\n",
    "\t# prev is a global variable\n",
    "\tglobal prev\n",
    "\tprev = None\n",
    "\treturn isbst_rec(root)\n",
    "\n",
    "\n",
    "# Helper function to test if binary\n",
    "# tree is BST\n",
    "# Traverse the tree in inorder fashion\n",
    "# and keep track of previous node\n",
    "# return true if tree is Binary\n",
    "# search tree otherwise false\n",
    "def isbst_rec(root):\n",
    "\t\n",
    "\t# prev is a global variable\n",
    "\tglobal prev\n",
    "\n",
    "\t# if tree is empty return true\n",
    "\tif root is None:\n",
    "\t\treturn True\n",
    "\n",
    "\tif isbst_rec(root.left) is False:\n",
    "\t\treturn False\n",
    "\n",
    "\t# if previous node'data is found\n",
    "\t# greater than the current node's\n",
    "\t# data return fals\n",
    "\tif prev is not None and prev.data > root.data:\n",
    "\t\treturn False\n",
    "\n",
    "\t# store the current node in prev\n",
    "\tprev = root\n",
    "\treturn isbst_rec(root.right)\n",
    "\n",
    "\n",
    "# driver code to test above function\n",
    "root = Node(4)\n",
    "root.left = Node(2)\n",
    "root.right = Node(5)\n",
    "root.left.left = Node(1)\n",
    "root.left.right = Node(3)\n",
    "\n",
    "if isbst(root):\n",
    "\tprint(\"is BST\")\n",
    "else:\n",
    "\tprint(\"not a BST\")\n",
    "\n",
    "# This code is contributed by\n",
    "# Shweta Singh(shweta44)\n"
   ]
  },
  {
   "source": [
    "## **Successor**"
   ],
   "cell_type": "markdown",
   "metadata": {}
  },
  {
   "cell_type": "code",
   "execution_count": 121,
   "metadata": {},
   "outputs": [
    {
     "output_type": "stream",
     "name": "stdout",
     "text": [
      "Inorder Successor of 12 is 14\n"
     ]
    }
   ],
   "source": [
    "# Python program to find\n",
    "# the inroder successor in a BST\n",
    "\n",
    "# A binary tree node\n",
    "class Node:\n",
    "\n",
    "\t# Constructor to create a new node\n",
    "\tdef __init__(self, key):\n",
    "\t\tself.data = key\n",
    "\t\tself.left = None\n",
    "\t\tself.right = None\n",
    "\n",
    "def inOrderSuccessor(root, n):\n",
    "\t\n",
    "\t# Step 1 of the above algorithm\n",
    "\tif n.right is not None:\n",
    "\t\treturn minValue(n.right)\n",
    "\n",
    "\t# Step 2 of the above algorithm\n",
    "\tsucc=Node(None)\n",
    "\t\n",
    "\t\n",
    "\twhile( root):\n",
    "\t\tif(root.data<n.data):\n",
    "\t\t\troot=root.right\n",
    "\t\telif(root.data>n.data):\n",
    "\t\t\tsucc=root\n",
    "\t\t\troot=root.left\n",
    "\t\telse:\n",
    "\t\t\tbreak\n",
    "\treturn succ\n",
    "\n",
    "# Given a non-empty binary search tree,\n",
    "# return the minimum data value\n",
    "# found in that tree. Note that the\n",
    "# entire tree doesn't need to be searched\n",
    "def minValue(node):\n",
    "\tcurrent = node\n",
    "\n",
    "\t# loop down to find the leftmost leaf\n",
    "\twhile(current is not None):\n",
    "\t\tif current.left is None:\n",
    "\t\t\tbreak\n",
    "\t\tcurrent = current.left\n",
    "\n",
    "\treturn current\n",
    "\n",
    "\n",
    "# Given a binary search tree\n",
    "# and a number, inserts a\n",
    "# new node with the given\n",
    "# number in the correct place\n",
    "# in the tree. Returns the\n",
    "# new root pointer which the\n",
    "# caller should then use\n",
    "# (the standard trick to avoid\n",
    "# using reference parameters)\n",
    "def insert( node, data):\n",
    "\n",
    "\t# 1) If tree is empty\n",
    "\t# then return a new singly node\n",
    "\tif node is None:\n",
    "\t\treturn Node(data)\n",
    "\telse:\n",
    "\t\t\n",
    "\t\t# 2) Otherwise, recur down the tree\n",
    "\t\tif data <= node.data:\n",
    "\t\t\ttemp = insert(node.left, data)\n",
    "\t\t\tnode.left = temp\n",
    "\t\t\ttemp.parent = node\n",
    "\t\telse:\n",
    "\t\t\ttemp = insert(node.right, data)\n",
    "\t\t\tnode.right = temp\n",
    "\t\t\ttemp.parent = node\n",
    "\t\t\n",
    "\t\t# return the unchanged node pointer\n",
    "\t\treturn node\n",
    "\n",
    "\n",
    "# Driver progam to test above function\n",
    "if __name__ == \"__main__\":\n",
    "\troot = None\n",
    "\n",
    "# Creating the tree given in the above diagram\n",
    "root = insert(root, 20)\n",
    "root = insert(root, 8);\n",
    "root = insert(root, 22);\n",
    "root = insert(root, 4);\n",
    "root = insert(root, 12);\n",
    "root = insert(root, 10);\n",
    "root = insert(root, 14);\n",
    "temp = root.left.right\n",
    "\n",
    "succ = inOrderSuccessor( root, temp)\n",
    "if succ is not None:\n",
    "\tprint(\"Inorder Successor of\" ,\n",
    "\t\t\ttemp.data ,\"is\" ,succ.data)\n",
    "else:\n",
    "\tprint(\"InInorder Successor doesn't exist\")\n"
   ]
  },
  {
   "source": [
    "## **Build Order**"
   ],
   "cell_type": "markdown",
   "metadata": {}
  },
  {
   "cell_type": "code",
   "execution_count": 127,
   "metadata": {},
   "outputs": [
    {
     "output_type": "stream",
     "name": "stdout",
     "text": [
      "Following is a Topological Sort of the given graph\n[5, 4, 1, 0, 3, 2]\n"
     ]
    }
   ],
   "source": [
    "#Python program to print topological sorting of a DAG\n",
    "from collections import defaultdict\n",
    "\n",
    "#Class to represent a graph\n",
    "class Graph:\n",
    "\tdef __init__(self,vertices):\n",
    "\t\tself.graph = defaultdict(list) #dictionary containing adjacency List\n",
    "\t\tself.V = vertices #No. of vertices\n",
    "\n",
    "\t# function to add an edge to graph\n",
    "\tdef addEdge(self,u,v):\n",
    "\t\tself.graph[u].append(v)\n",
    "\n",
    "\t# A recursive function used by topologicalSort\n",
    "\tdef topologicalSortUtil(self,v,visited,stack):\n",
    "\n",
    "\t\t# Mark the current node as visited.\n",
    "\t\tvisited[v] = True\n",
    "\n",
    "\t\t# Recur for all the vertices adjacent to this vertex\n",
    "\t\tfor i in self.graph[v]:\n",
    "\t\t\tif visited[i] == False:\n",
    "\t\t\t\tself.topologicalSortUtil(i,visited,stack)\n",
    "\n",
    "\t\t# Push current vertex to stack which stores result\n",
    "\t\tstack.insert(0,v)\n",
    "\n",
    "\t# The function to do Topological Sort. It uses recursive\n",
    "\t# topologicalSortUtil()\n",
    "\tdef topologicalSort(self):\n",
    "\t\t# Mark all the vertices as not visited\n",
    "\t\tvisited = [False]*self.V\n",
    "\t\tstack =[]\n",
    "\n",
    "\t\t# Call the recursive helper function to store Topological\n",
    "\t\t# Sort starting from all vertices one by one\n",
    "\t\tfor i in range(self.V):\n",
    "\t\t\tif visited[i] == False:\n",
    "\t\t\t\tself.topologicalSortUtil(i,visited,stack)\n",
    "\n",
    "\t\t# Print contents of stack\n",
    "\t\tprint(stack)\n",
    "\n",
    "g= Graph(6)\n",
    "g.addEdge(0, 3);\n",
    "g.addEdge(5, 1);\n",
    "g.addEdge(1, 3);\n",
    "g.addEdge(5, 0);\n",
    "g.addEdge(3, 2);\n",
    "\n",
    "print(\"Following is a Topological Sort of the given graph\")\n",
    "g.topologicalSort()\n",
    "#This code is contributed by Neelam Yadav\n"
   ]
  },
  {
   "source": [
    "## **First Common Ancestor**"
   ],
   "cell_type": "markdown",
   "metadata": {}
  },
  {
   "cell_type": "code",
   "execution_count": 129,
   "metadata": {},
   "outputs": [
    {
     "output_type": "stream",
     "name": "stdout",
     "text": [
      "LCA(4, 5) = 2\nLCA(4, 6) = 1\nLCA(3, 4) = 1\nLCA(2, 4) = 2\n"
     ]
    }
   ],
   "source": [
    "# Python Program for Lowest Common Ancestor in a Binary Tree\n",
    "# O(n) solution to find LCS of two given values n1 and n2\n",
    "\n",
    "# A binary tree node\n",
    "class Node:\n",
    "\t# Constructor to create a new binary node\n",
    "\tdef __init__(self, key):\n",
    "\t\tself.key = key\n",
    "\t\tself.left = None\n",
    "\t\tself.right = None\n",
    "\n",
    "# Finds the path from root node to given root of the tree.\n",
    "# Stores the path in a list path[], returns true if path\n",
    "# exists otherwise false\n",
    "def findPath( root, path, k):\n",
    "\n",
    "\t# Baes Case\n",
    "\tif root is None:\n",
    "\t\treturn False\n",
    "\n",
    "\t# Store this node is path vector. The node will be\n",
    "\t# removed if not in path from root to k\n",
    "\tpath.append(root.key)\n",
    "\n",
    "\t# See if the k is same as root's key\n",
    "\tif root.key == k :\n",
    "\t\treturn True\n",
    "\n",
    "\t# Check if k is found in left or right sub-tree\n",
    "\tif ((root.left != None and findPath(root.left, path, k)) or\n",
    "\t\t\t(root.right!= None and findPath(root.right, path, k))):\n",
    "\t\treturn True\n",
    "\n",
    "\t# If not present in subtree rooted with root, remove\n",
    "\t# root from path and return False\n",
    "\t\n",
    "\tpath.pop()\n",
    "\treturn False\n",
    "\n",
    "# Returns LCA if node n1 , n2 are present in the given\n",
    "# binary tre otherwise return -1\n",
    "def findLCA(root, n1, n2):\n",
    "\n",
    "\t# To store paths to n1 and n2 fromthe root\n",
    "\tpath1 = []\n",
    "\tpath2 = []\n",
    "\n",
    "\t# Find paths from root to n1 and root to n2.\n",
    "\t# If either n1 or n2 is not present , return -1\n",
    "\tif (not findPath(root, path1, n1) or not findPath(root, path2, n2)):\n",
    "\t\treturn -1\n",
    "\n",
    "\t# Compare the paths to get the first different value\n",
    "\ti = 0\n",
    "\twhile(i < len(path1) and i < len(path2)):\n",
    "\t\tif path1[i] != path2[i]:\n",
    "\t\t\tbreak\n",
    "\t\ti += 1\n",
    "\treturn path1[i-1]\n",
    "\n",
    "\n",
    "# Driver program to test above function\n",
    "# Let's create the Binary Tree shown in above diagram\n",
    "root = Node(1)\n",
    "root.left = Node(2)\n",
    "root.right = Node(3)\n",
    "root.left.left = Node(4)\n",
    "root.left.right = Node(5)\n",
    "root.right.left = Node(6)\n",
    "root.right.right = Node(7)\n",
    "\n",
    "print (\"LCA(4, 5) = %d\" %(findLCA(root, 4, 5,)))\n",
    "print (\"LCA(4, 6) = %d\" %(findLCA(root, 4, 6)))\n",
    "print (\"LCA(3, 4) = %d\" %(findLCA(root,3,4)))\n",
    "print (\"LCA(2, 4) = %d\" %(findLCA(root,2, 4)))\n",
    "\n",
    "# This code is contributed by Nikhil Kumar Singh(nickzuck_007)\n"
   ]
  },
  {
   "cell_type": "code",
   "execution_count": 130,
   "metadata": {},
   "outputs": [
    {
     "output_type": "stream",
     "name": "stdout",
     "text": [
      "LCA(4,5) =  2\nLCA(4,6) =  1\nLCA(3,4) =  1\nLCA(2,4) =  2\n"
     ]
    }
   ],
   "source": [
    "# Python program to find LCA of n1 and n2 using one\n",
    "# traversal of Binary tree\n",
    "\n",
    "# A binary tree node\n",
    "class Node:\n",
    "\t\n",
    "\t# Constructor to create a new tree node\n",
    "\tdef __init__(self, key):\n",
    "\t\tself.key = key\n",
    "\t\tself.left = None\n",
    "\t\tself.right = None\n",
    "\t\n",
    "# This function returns pointer to LCA of two given\n",
    "# values n1 and n2\n",
    "# This function assumes that n1 and n2 are present in\n",
    "# Binary Tree\n",
    "def findLCA(root, n1, n2):\n",
    "\t\n",
    "\t# Base Case\n",
    "\tif root is None:\n",
    "\t\treturn None\n",
    "\n",
    "\t# If either n1 or n2 matches with root's key, report\n",
    "\t# the presence by returning root (Note that if a key is\n",
    "\t# ancestor of other, then the ancestor key becomes LCA\n",
    "\tif root.key == n1 or root.key == n2:\n",
    "\t\treturn root\n",
    "\n",
    "\t# Look for keys in left and right subtrees\n",
    "\tleft_lca = findLCA(root.left, n1, n2)\n",
    "\tright_lca = findLCA(root.right, n1, n2)\n",
    "\n",
    "\t# If both of the above calls return Non-NULL, then one key\n",
    "\t# is present in once subtree and other is present in other,\n",
    "\t# So this node is the LCA\n",
    "\tif left_lca and right_lca:\n",
    "\t\treturn root\n",
    "\n",
    "\t# Otherwise check if left subtree or right subtree is LCA\n",
    "\treturn left_lca if left_lca is not None else right_lca\n",
    "\n",
    "\n",
    "# Driver program to test above function\n",
    "\n",
    "# Let us create a binary tree given in the above example\n",
    "root = Node(1)\n",
    "root.left = Node(2)\n",
    "root.right = Node(3)\n",
    "root.left.left = Node(4)\n",
    "root.left.right = Node(5)\n",
    "root.right.left = Node(6)\n",
    "root.right.right = Node(7)\n",
    "print (\"LCA(4,5) = \", findLCA(root, 4, 5).key)\n",
    "print (\"LCA(4,6) = \", findLCA(root, 4, 6).key)\n",
    "print (\"LCA(3,4) = \", findLCA(root, 3, 4).key)\n",
    "print (\"LCA(2,4) = \", findLCA(root, 2, 4).key)\n",
    "\n",
    "# This code is contributed by Nikhil Kumar Singh(nickzuck_007)\n"
   ]
  },
  {
   "source": [
    "## **BST Sequences**"
   ],
   "cell_type": "markdown",
   "metadata": {}
  },
  {
   "cell_type": "code",
   "execution_count": 131,
   "metadata": {},
   "outputs": [
    {
     "output_type": "stream",
     "name": "stdout",
     "text": [
      "[[20, 9, 5, 12, 25], [20, 9, 5, 25, 12], [20, 9, 25, 5, 12], [20, 25, 9, 5, 12], [20, 9, 12, 5, 25], [20, 9, 12, 25, 5], [20, 9, 25, 12, 5], [20, 25, 9, 12, 5]]\n[[20, 9, 25, 5, 12], [20, 9, 25, 12, 5], [20, 9, 5, 25, 12], [20, 9, 5, 12, 25], [20, 9, 12, 25, 5], [20, 9, 12, 5, 25], [20, 25, 9, 5, 12], [20, 25, 9, 12, 5]]\n"
     ]
    }
   ],
   "source": [
    "from CtCI_Python.chapter_04.binary_search_tree import BinarySearchTree\n",
    "\n",
    "\n",
    "def find_bst_sequences(bst):\n",
    "    if not bst.root:\n",
    "        return []\n",
    "    return helper(bst.root)\n",
    "\n",
    "\n",
    "def helper(node):\n",
    "    if not node:\n",
    "        return [[]]\n",
    "\n",
    "    right_sequences = helper(node.right)\n",
    "    left_sequences = helper(node.left)\n",
    "    sequences = []\n",
    "    for right in right_sequences:\n",
    "        for left in left_sequences:\n",
    "            sequences = weave(left, right, [node.key], sequences)\n",
    "    return sequences\n",
    "\n",
    "\n",
    "def weave(first, second, prefix, results):\n",
    "    if len(first) == 0 or len(second) == 0:\n",
    "        result = prefix.copy()\n",
    "        result.extend(first)\n",
    "        result.extend(second)\n",
    "        results.append(result)\n",
    "        return results\n",
    "\n",
    "    head = first[0]\n",
    "    prefix.append(head)\n",
    "    results = weave(first[1:], second, prefix, results)\n",
    "    prefix.pop()\n",
    "    head = second[0]\n",
    "    prefix.append(head)\n",
    "    results = weave(first, second[1:], prefix, results)\n",
    "    prefix.pop()\n",
    "    return results\n",
    "\n",
    "\n",
    "def find_bst_sequences_backtracking(bst):\n",
    "    if not bst.root:\n",
    "        return []\n",
    "\n",
    "    ret_backtracking = []\n",
    "\n",
    "    def backtracking(choices, weave):\n",
    "        if not len(choices):\n",
    "            ret_backtracking.append(weave)\n",
    "            return\n",
    "\n",
    "        for i in range(len(choices)):\n",
    "            nextchoices = choices[:i] + choices[i + 1 :]\n",
    "            if choices[i].left:\n",
    "                nextchoices += [choices[i].left]\n",
    "            if choices[i].right:\n",
    "                nextchoices += [choices[i].right]\n",
    "            backtracking(nextchoices, weave + [choices[i].key])\n",
    "\n",
    "    backtracking([bst.root], [])\n",
    "    return ret_backtracking\n",
    "\n",
    "\n",
    "testable_functions = [find_bst_sequences, find_bst_sequences_backtracking]\n",
    "\n",
    "\n",
    "def test_find_bst_sequences():\n",
    "    for find_bst in testable_functions:\n",
    "        bst = BinarySearchTree()\n",
    "        bst.insert(2)\n",
    "        bst.insert(1)\n",
    "        bst.insert(3)\n",
    "        sequences = find_bst(bst)\n",
    "        assert [2, 1, 3] in sequences\n",
    "        assert [2, 3, 1] in sequences\n",
    "        assert len(sequences) == 2\n",
    "\n",
    "\n",
    "def example():\n",
    "    bst = BinarySearchTree()\n",
    "    bst.insert(20)\n",
    "    bst.insert(9)\n",
    "    bst.insert(25)\n",
    "    bst.insert(5)\n",
    "    bst.insert(12)\n",
    "    # bst.insert(11);\n",
    "    # bst.insert(14);\n",
    "\n",
    "    sequences = find_bst_sequences(bst)\n",
    "    print(sequences)\n",
    "\n",
    "    sequences = find_bst_sequences_backtracking(bst)\n",
    "    print(sequences)\n",
    "\n",
    "\n",
    "if __name__ == \"__main__\":\n",
    "    example()\n"
   ]
  },
  {
   "source": [
    "## **Check Subtree**"
   ],
   "cell_type": "markdown",
   "metadata": {}
  },
  {
   "cell_type": "code",
   "execution_count": 133,
   "metadata": {},
   "outputs": [
    {
     "output_type": "stream",
     "name": "stdout",
     "text": [
      "Tree 2 is subtree of Tree 1\n"
     ]
    }
   ],
   "source": [
    "# Python program to check binary tree is a subtree of\n",
    "# another tree\n",
    "\n",
    "# A binary tree node\n",
    "class Node:\n",
    "\n",
    "\t# Constructor to create a new node\n",
    "\tdef __init__(self, data):\n",
    "\t\tself.data = data\n",
    "\t\tself.left = None\n",
    "\t\tself.right = None\n",
    "\n",
    "# A utility function to check whether trees with roots\n",
    "# as root 1 and root2 are indetical or not\n",
    "def areIdentical(root1, root2):\n",
    "\t\n",
    "\t# Base Case\n",
    "\tif root1 is None and root2 is None:\n",
    "\t\treturn True\n",
    "\tif root1 is None or root2 is None:\n",
    "\t\treturn False\n",
    "\n",
    "\t# Check fi the data of both roots is same and data of\n",
    "\t# left and right subtrees are also same\n",
    "\treturn (root1.data == root2.data and\n",
    "\t\t\tareIdentical(root1.left , root2.left)and\n",
    "\t\t\tareIdentical(root1.right, root2.right)\n",
    "\t\t\t)\n",
    "\n",
    "# This function returns True if S is a subtree of T,\n",
    "# otherwise False\n",
    "def isSubtree(T, S):\n",
    "\t\n",
    "\t# Base Case\n",
    "\tif S is None:\n",
    "\t\treturn True\n",
    "\n",
    "\tif T is None:\n",
    "\t\treturn False\n",
    "\n",
    "\t# Check the tree with root as current node\n",
    "\tif (areIdentical(T, S)):\n",
    "\t\treturn True\n",
    "\n",
    "\t# IF the tree with root as current node doesn't match\n",
    "\t# then try left and right subtreee one by one\n",
    "\treturn isSubtree(T.left, S) or isSubtree(T.right, S)\n",
    "\n",
    "\n",
    "# Driver program to test above function\n",
    "\n",
    "\"\"\" TREE 1\n",
    "\tConstruct the following tree\n",
    "\t\t\t26\n",
    "\t\t\t/ \\\n",
    "\t\t10\t 3\n",
    "\t\t/ \\\t \\\n",
    "\t4\t 6\t 3\n",
    "\t\\\n",
    "\t\t30\n",
    "\t\"\"\"\n",
    "\n",
    "T = Node(26)\n",
    "T.right = Node(3)\n",
    "T.right.right = Node(3)\n",
    "T.left = Node(10)\n",
    "T.left.left = Node(4)\n",
    "T.left.left.right = Node(30)\n",
    "T.left.right = Node(6)\n",
    "\n",
    "\"\"\" TREE 2\n",
    "\tConstruct the following tree\n",
    "\t\t10\n",
    "\t\t/ \\\n",
    "\t4\t 6\n",
    "\t\\\n",
    "\t\t30\n",
    "\t\"\"\"\n",
    "S = Node(10)\n",
    "S.right = Node(6)\n",
    "S.left = Node(4)\n",
    "S.left.right = Node(30)\n",
    "\n",
    "if isSubtree(T, S):\n",
    "\tprint (\"Tree 2 is subtree of Tree 1\")\n",
    "else :\n",
    "\tprint (\"Tree 2 is not a subtree of Tree 1\")\n",
    "\n",
    "# This code is contributed by Nikhil Kumar Singh(nickzuck_007)\n"
   ]
  },
  {
   "source": [
    "## **Random Node**"
   ],
   "cell_type": "markdown",
   "metadata": {}
  },
  {
   "cell_type": "code",
   "execution_count": 135,
   "metadata": {},
   "outputs": [
    {
     "output_type": "stream",
     "name": "stdout",
     "text": [
      "A Random Node From Tree : 30\n"
     ]
    }
   ],
   "source": [
    "# Python3 program to Select a\n",
    "# Random Node from a tree\n",
    "from random import randint\n",
    "\n",
    "class Node:\n",
    "\t\n",
    "\tdef __init__(self, data):\n",
    "\t\tself.data = data\n",
    "\t\tself.children = 0\n",
    "\t\tself.left = None\n",
    "\t\tself.right = None\n",
    "\n",
    "# This is used to fill children counts.\n",
    "def getElements(root):\n",
    "\n",
    "\tif root == None:\n",
    "\t\treturn 0\n",
    "\t\t\n",
    "\treturn (getElements(root.left) +\n",
    "\t\t\tgetElements(root.right) + 1)\n",
    "\n",
    "# Inserts Children count for each node\n",
    "def insertChildrenCount(root):\n",
    "\n",
    "\tif root == None:\n",
    "\t\treturn\n",
    "\n",
    "\troot.children = getElements(root) - 1\n",
    "\tinsertChildrenCount(root.left)\n",
    "\tinsertChildrenCount(root.right)\n",
    "\n",
    "# Returns number of children for root\n",
    "def children(root):\n",
    "\n",
    "\tif root == None:\n",
    "\t\treturn 0\n",
    "\treturn root.children + 1\n",
    "\n",
    "# Helper Function to return a random node\n",
    "def randomNodeUtil(root, count):\n",
    "\n",
    "\tif root == None:\n",
    "\t\treturn 0\n",
    "\n",
    "\tif count == children(root.left):\n",
    "\t\treturn root.data\n",
    "\n",
    "\tif count < children(root.left):\n",
    "\t\treturn randomNodeUtil(root.left, count)\n",
    "\n",
    "\treturn randomNodeUtil(root.right,\n",
    "\t\t\tcount - children(root.left) - 1)\n",
    "\n",
    "# Returns Random node\n",
    "def randomNode(root):\n",
    "\n",
    "\tcount = randint(0, root.children)\n",
    "\treturn randomNodeUtil(root, count)\n",
    "\n",
    "# Driver Code\n",
    "if __name__ == \"__main__\":\n",
    "\n",
    "\t# Creating Above Tree\n",
    "\troot = Node(10)\n",
    "\troot.left = Node(20)\n",
    "\troot.right = Node(30)\n",
    "\troot.left.right = Node(40)\n",
    "\troot.left.right = Node(50)\n",
    "\troot.right.left = Node(60)\n",
    "\troot.right.right = Node(70)\n",
    "\n",
    "\tinsertChildrenCount(root)\n",
    "\n",
    "\tprint(\"A Random Node From Tree :\",\n",
    "\t\trandomNode(root))\n",
    "\n",
    "# This code is contributed by Rituraj Jain\n"
   ]
  },
  {
   "source": [
    "## **Path with Sum**"
   ],
   "cell_type": "markdown",
   "metadata": {}
  },
  {
   "cell_type": "code",
   "execution_count": 142,
   "metadata": {},
   "outputs": [
    {
     "output_type": "stream",
     "name": "stdout",
     "text": [
      "There is a root-to-leaf path with sum 23\n"
     ]
    }
   ],
   "source": [
    "# Python program to find if\n",
    "# there is a root to sum path\n",
    "\n",
    "# A binary tree node\n",
    "\n",
    "\n",
    "class Node:\n",
    "\n",
    "\t# Constructor to create a new node\n",
    "\tdef __init__(self, data):\n",
    "\t\tself.data = data\n",
    "\t\tself.left = None\n",
    "\t\tself.right = None\n",
    "\n",
    "\n",
    "\"\"\"\n",
    "Given a tree and a sum, return\n",
    "true if there is a path from the root\n",
    "down to a leaf, such that\n",
    "adding up all the values along the path\n",
    "equals the given sum.\n",
    "\n",
    "Strategy: subtract the node\n",
    "value from the sum when recurring down,\n",
    "and check to see if the sum\n",
    "is 0 when you run out of tree.\n",
    "\"\"\"\n",
    "# s is the sum\n",
    "\n",
    "\n",
    "def hasPathSum(node, s):\n",
    "\n",
    "\t# Return true if we run out of tree and s = 0\n",
    "\tif node is None:\n",
    "\t\treturn (s == 0)\n",
    "\n",
    "\telse:\n",
    "\t\tans = 0\n",
    "\n",
    "\t\tsubSum = s - node.data\n",
    "\n",
    "\t\t# If we reach a leaf node and sum becomes 0, then\n",
    "\t\t# return True\n",
    "\t\tif(subSum == 0 and node.left == None and node.right == None):\n",
    "\t\t\treturn True\n",
    "\n",
    "\t\t# Otherwise check both subtrees\n",
    "\t\tif node.left is not None:\n",
    "\t\t\tans = ans or hasPathSum(node.left, subSum)\n",
    "\t\tif node.right is not None:\n",
    "\t\t\tans = ans or hasPathSum(node.right, subSum)\n",
    "\n",
    "\t\treturn ans\n",
    "\n",
    "# Driver Code\n",
    "\n",
    "\n",
    "s = 23\n",
    "root = Node(10)\n",
    "root.left = Node(8)\n",
    "root.right = Node(2)\n",
    "root.left.right = Node(5)\n",
    "root.left.left = Node(3)\n",
    "root.right.left = Node(2)\n",
    "\n",
    "if hasPathSum(root, s):\n",
    "\tprint (\"There is a root-to-leaf path with sum %d\" % (s))\n",
    "else:\n",
    "\tprint (\"There is no root-to-leaf path with sum %d\" % (s))\n",
    "\n",
    "# This code is contributed by Nikhil Kumar Singh(nickzuck_007)\n"
   ]
  },
  {
   "source": [
    "# **Bit Manipulation**"
   ],
   "cell_type": "markdown",
   "metadata": {}
  },
  {
   "source": [
    "## **Insertion**"
   ],
   "cell_type": "markdown",
   "metadata": {}
  },
  {
   "cell_type": "code",
   "execution_count": 4,
   "metadata": {},
   "outputs": [
    {
     "output_type": "stream",
     "name": "stdout",
     "text": [
      "1100\n10000006252\n"
     ]
    }
   ],
   "source": [
    "# Python3 program for implementation\n",
    "# of updateBits()\n",
    "  \n",
    "# Function to updateBits M insert to N.\n",
    "def updateBits(n, m, i, j):\n",
    "  \n",
    "    # Create a mask to clear bits i through \n",
    "    # j in n. EXAMPLE: i = 2, j = 4. Result\n",
    "    # should be 11100011. For simplicity, \n",
    "    # we'll use just 8 bits for the example.\n",
    "  \n",
    "    # will equal sequence of all ls\n",
    "    allOnes = ~0 \n",
    "  \n",
    "    # ls before position j,\n",
    "    # then 0s. left = 11100000\n",
    "    left = allOnes << (j + 1)\n",
    "  \n",
    "    # l's after position i. right = 00000011\n",
    "    right = ((1 << i) - 1)\n",
    "  \n",
    "    # All ls, except for 0s between\n",
    "    # i and j. mask 11100011\n",
    "    mask = left | right\n",
    "  \n",
    "    # Clear bits j through i then put min there \n",
    "    n_cleared = n & mask\n",
    "      \n",
    "    # Move m into correct position.\n",
    "    m_shifted = m << i \n",
    "  \n",
    "    return (n_cleared | m_shifted)\n",
    "  \n",
    "  \n",
    "# Driver Code\n",
    "n = 1024 # in Binary N = 10000000000\n",
    "m = 19   # in Binary M = 10011\n",
    "i = 2; j = 6\n",
    "print(updateBits(n, m, i, j))\n",
    "n2 = 10000000000 # in Binary N = 10000000000\n",
    "m2 = 10011 \n",
    "print(updateBits(n2, m2, i, j))\n",
    "# This code is contributed by Anant Agarwal."
   ]
  },
  {
   "source": [
    "## **Binary to String**"
   ],
   "cell_type": "markdown",
   "metadata": {}
  },
  {
   "cell_type": "code",
   "execution_count": 50,
   "metadata": {},
   "outputs": [
    {
     "output_type": "stream",
     "name": "stdout",
     "text": [
      ".00000000010000011000100100110111\n.00000000000000000000000000000000\n.11111111111111111111111111111111\nERROR\n"
     ]
    }
   ],
   "source": [
    "def bin_to_string(number):\n",
    "    bit_str = \".\"\n",
    "    if number >= 1.0 or number <= 0.0:\n",
    "        return \"ERROR\"\n",
    "            \n",
    "    while number > 0:\n",
    "        if len(bit_str) > 32:\n",
    "            return bit_str\n",
    "        two = number * 2\n",
    "        # Testing if 1 after decimal point\n",
    "        if two >= 1:\n",
    "            bit_str += \"1\"\n",
    "            number = two - 1\n",
    "        else:\n",
    "            bit_str += \"0\"\n",
    "            number = two\n",
    "    return bit_str.ljust(33, \"0\")\n",
    "\n",
    "\n",
    "def bin_to_string_alt(number):\n",
    "    number_s31 = int(number * (2 ** 32))\n",
    "    if number_s31 > 2 ** 32:\n",
    "        return \"ERROR\"\n",
    "\n",
    "    if number_s31 == (2 ** 32):\n",
    "        number_s31 = 2 ** 32 - 1\n",
    "\n",
    "    ans = \"\"\n",
    "    for _ in range(32):\n",
    "        ans = str(number_s31 % 2) + ans\n",
    "        number_s31 = number_s31 // 2\n",
    "\n",
    "    return \".\" + ans\n",
    "\n",
    "if __name__ == \"__main__\":\n",
    "    print(bin_to_string_alt(0.001))\n",
    "    print(bin_to_string_alt(0.0))\n",
    "    print(bin_to_string_alt(1.0))\n",
    "    print(bin_to_string_alt(2.0))\n"
   ]
  },
  {
   "source": [
    "## **Flip Bit to Win**"
   ],
   "cell_type": "markdown",
   "metadata": {}
  },
  {
   "cell_type": "code",
   "execution_count": 66,
   "metadata": {},
   "outputs": [
    {
     "output_type": "execute_result",
     "data": {
      "text/plain": [
       "8"
      ]
     },
     "metadata": {},
     "execution_count": 66
    }
   ],
   "source": [
    "def flip_bit_to_win(number):\n",
    "    number_str = bin(number)[2:]\n",
    "    max_cnt, cnt, cnt0 = 0, 0, 0\n",
    "    i = len(number_str)  # start index\n",
    "    while i:\n",
    "        if int(number_str[i - 1]):\n",
    "            cnt += 1\n",
    "        else:\n",
    "            if cnt0 == 0:\n",
    "                temp_i = i\n",
    "                cnt0 = 1\n",
    "            else:  # second 0\n",
    "                max_cnt = cnt\n",
    "                i = temp_i  # rewind\n",
    "                cnt0 = 0\n",
    "                cnt = 0\n",
    "        i -= 1\n",
    "\n",
    "    max_cnt = max(cnt, max_cnt)\n",
    "\n",
    "    return max_cnt + 1\n",
    "\n",
    "flip_bit_to_win(1775)"
   ]
  },
  {
   "cell_type": "code",
   "execution_count": 68,
   "metadata": {},
   "outputs": [
    {
     "output_type": "execute_result",
     "data": {
      "text/plain": [
       "8"
      ]
     },
     "metadata": {},
     "execution_count": 68
    }
   ],
   "source": [
    "def flip_bit_to_win_alt(num):\n",
    "    longest, current_segment, past_segment = 1, 0, 0\n",
    "    while num != 0:\n",
    "        if num & 1:  # Current bit is 1\n",
    "            current_segment += 1\n",
    "        else:  # Current bit is 0\n",
    "            past_segment = 0 if (num & 2 is True) else current_segment\n",
    "            current_segment = 0\n",
    "        longest = max(current_segment + past_segment + 1, longest)\n",
    "        num >>= 1  # Move 1 bit to the right\n",
    "    return longest\n",
    "\n",
    "flip_bit_to_win_alt(1775)"
   ]
  },
  {
   "source": [
    "## **Next Number**"
   ],
   "cell_type": "markdown",
   "metadata": {}
  },
  {
   "cell_type": "code",
   "execution_count": 74,
   "metadata": {},
   "outputs": [
    {
     "output_type": "stream",
     "name": "stdout",
     "text": [
      "4\n16\n"
     ]
    }
   ],
   "source": [
    "# Python 3 implementation of getNext with\n",
    "# same number of bits 1's is below\n",
    "\n",
    "# Main Function to find next smallest\n",
    "# number bigger than n\n",
    "def getNext(n):\n",
    "\n",
    "\t# Compute c0 and c1\n",
    "\tc = n\n",
    "\tc0 = 0\n",
    "\tc1 = 0\n",
    "\n",
    "\twhile (((c & 1) == 0) and (c != 0)):\n",
    "\t\tc0 += 1\n",
    "\t\tc >>= 1\n",
    "\t\n",
    "\twhile ((c & 1) == 1):\n",
    "\t\tc1 += 1\n",
    "\t\tc >>= 1\n",
    "\n",
    "\t# If there is no bigger number with\n",
    "\t# the same no. of 1's\n",
    "\tif (c0 + c1 == 31 or c0 + c1== 0):\n",
    "\t\treturn -1\n",
    "\n",
    "\t# position of rightmost non-trailing zero\n",
    "\tp = c0 + c1\n",
    "\n",
    "\t# Flip rightmost non-trailing zero\n",
    "\tn |= (1 << p)\n",
    "\n",
    "\t# Clear all bits to the right of p\n",
    "\tn &= ~((1 << p) - 1)\n",
    "\n",
    "\t# Insert (c1-1) ones on the right.\n",
    "\tn |= (1 << (c1 - 1)) - 1\n",
    "\n",
    "\treturn n\n",
    "\n",
    "# Driver Code\n",
    "if __name__ == \"__main__\":\n",
    "\t\n",
    "\tn = 2 # input 1\n",
    "\tprint(getNext(n))\n",
    "\n",
    "\tn = 8\t # input 2\n",
    "\tprint(getNext(n))\n",
    "\n",
    "# This code is contributed by ita_c\n"
   ]
  },
  {
   "cell_type": "code",
   "execution_count": 71,
   "metadata": {},
   "outputs": [],
   "source": [
    "def _bit(x: int, i: int) -> int:\n",
    "    return x & (1 << i)\n",
    "\n",
    "\n",
    "def next_smaller(x: int) -> int:\n",
    "    if not x & (x + 1):\n",
    "        return None\n",
    "    zeros = ones = 0\n",
    "    while _bit(x, i=ones):\n",
    "        ones += 1\n",
    "    while not _bit(x, i=ones + zeros):\n",
    "        zeros += 1\n",
    "    return x - (1 << ones) - (1 << zeros - 1) + 1\n",
    "\n",
    "\n",
    "def next_larger(x: int) -> int:\n",
    "    zeros = ones = 0\n",
    "    while not _bit(x, i=zeros):\n",
    "        zeros += 1\n",
    "    while _bit(x, i=zeros + ones):\n",
    "        ones += 1\n",
    "    return x + (1 << zeros) + (1 << ones - 1) - 1"
   ]
  },
  {
   "cell_type": "code",
   "execution_count": 73,
   "metadata": {},
   "outputs": [
    {
     "output_type": "stream",
     "name": "stdout",
     "text": [
      "6\n3\n"
     ]
    }
   ],
   "source": [
    "print(next_larger(5))\n",
    "print(next_smaller(5))"
   ]
  },
  {
   "source": [
    "## **Debugger**"
   ],
   "cell_type": "markdown",
   "metadata": {}
  },
  {
   "cell_type": "code",
   "execution_count": 57,
   "metadata": {},
   "outputs": [
    {
     "output_type": "stream",
     "name": "stdout",
     "text": [
      "True\nFalse\n"
     ]
    }
   ],
   "source": [
    "# Python program for above approach\n",
    "\n",
    "# function which checks whether a\n",
    "# number is a power of 2\n",
    "def powerof2(n):\n",
    "\n",
    "\t# base cases\n",
    "\t# '1' is the only odd number\n",
    "\t# which is a power of 2(2^0)\n",
    "\tif n == 1:\n",
    "\t\treturn True\n",
    "\t\n",
    "\t# all other odd numbers are not powers of 2\n",
    "\telif n%2 != 0 or n == 0:\n",
    "\t\treturn False\n",
    "\t\n",
    "\t#recursive function call\n",
    "\treturn powerof2(n/2)\n",
    "\n",
    "# Driver Code\n",
    "if __name__ == \"__main__\":\n",
    "\n",
    "    print(powerof2(64)) #True\n",
    "    print(powerof2(12)) #False\n",
    "\n",
    "#code contributed by Moukthik a.k.a rowdyninja\n"
   ]
  },
  {
   "cell_type": "code",
   "execution_count": 88,
   "metadata": {},
   "outputs": [
    {
     "output_type": "stream",
     "name": "stdout",
     "text": [
      "True\nTrue\nTrue\nFalse\nTrue\n"
     ]
    }
   ],
   "source": [
    "n=32\n",
    "n1=16\n",
    "n2=8\n",
    "n3=6\n",
    "n4=4\n",
    "print(n & (n - 1) == 0)\n",
    "print(n1 & (n1 - 1) == 0)\n",
    "print(n2 & (n2 - 1) == 0)\n",
    "print(n3 & (n3 - 1) == 0)\n",
    "print(n4 & (n4 - 1) == 0)"
   ]
  },
  {
   "source": [
    "## **Conversion**"
   ],
   "cell_type": "markdown",
   "metadata": {}
  },
  {
   "cell_type": "code",
   "execution_count": 94,
   "metadata": {},
   "outputs": [
    {
     "output_type": "execute_result",
     "data": {
      "text/plain": [
       "3"
      ]
     },
     "metadata": {},
     "execution_count": 94
    }
   ],
   "source": [
    "def bit_swap_required(a: int, b: int) -> int:\n",
    "    count, c = 0, a ^ b\n",
    "    while c:\n",
    "        count, c = count + 1, c & (c - 1)\n",
    "    return count\n",
    "\n",
    "bit_swap_required(12, 16)"
   ]
  },
  {
   "source": [
    "## **Pairwise Swap**"
   ],
   "cell_type": "markdown",
   "metadata": {}
  },
  {
   "cell_type": "code",
   "execution_count": 108,
   "metadata": {},
   "outputs": [
    {
     "output_type": "stream",
     "name": "stdout",
     "text": [
      "2\n21\n"
     ]
    },
    {
     "output_type": "execute_result",
     "data": {
      "text/plain": [
       "43"
      ]
     },
     "metadata": {},
     "execution_count": 108
    }
   ],
   "source": [
    "def pairwise_swap(number):\n",
    "    mask_10 = 0xAAAAAAAA  # 32 bits\n",
    "    mask_01 = 0x55555555  # 32 bits\n",
    "    num_evn = number & mask_10\n",
    "    num_odd = number & mask_01\n",
    "    print(num_evn)\n",
    "    print(num_odd)\n",
    "    swp_num = (num_evn >> 1) | (num_odd << 1)\n",
    "    return swp_num\n",
    "\n",
    "pairwise_swap(23)"
   ]
  },
  {
   "cell_type": "code",
   "execution_count": 109,
   "metadata": {},
   "outputs": [
    {
     "output_type": "stream",
     "name": "stdout",
     "text": [
      "43\n"
     ]
    }
   ],
   "source": [
    "# Python 3 program to swap even\n",
    "# and odd bits of a given number\n",
    "\n",
    "# Function for swapping even\n",
    "# and odd bits\n",
    "def swapBits(x) :\n",
    "\t\n",
    "\t# Get all even bits of x\n",
    "\teven_bits = x & 0xAAAAAAAA\n",
    "\n",
    "\t# Get all odd bits of x\n",
    "\todd_bits = x & 0x55555555\n",
    "\t\n",
    "\t# Right shift even bits\n",
    "\teven_bits >>= 1\n",
    "\t\n",
    "\t# Left shift odd bits\n",
    "\todd_bits <<= 1\n",
    "\n",
    "\t# Combine even and odd bits\n",
    "\treturn (even_bits | odd_bits)\n",
    "\n",
    "\n",
    "# Driver program\n",
    "# 00010111\n",
    "x = 23\n",
    "\n",
    "# Output is 43 (00101011)\n",
    "print(swapBits(x))\n",
    "\n",
    "\n",
    "# This code is contributed\n",
    "# by Nikita Tiwari.\n"
   ]
  },
  {
   "source": [
    "## **Draw A Line**"
   ],
   "cell_type": "markdown",
   "metadata": {}
  },
  {
   "cell_type": "code",
   "execution_count": 110,
   "metadata": {},
   "outputs": [],
   "source": [
    "def draw_line(screen: bytearray, width: int, x1: int, x2: int, y: int) -> None:\n",
    "    left_byte, right_byte = (y * width + x1) // 8, (y * width + x2) // 8\n",
    "    left_mask, right_mask = 0xFF >> x1 % 8, (0xFF >> x2 % 8 + 1) ^ 0xFF\n",
    "    if left_byte == right_byte:\n",
    "        screen[left_byte] |= left_mask & right_mask\n",
    "    else:\n",
    "        screen[left_byte] |= left_mask\n",
    "        for i in range(left_byte + 1, right_byte):\n",
    "            screen[i] = 0xFF\n",
    "        screen[right_byte] |= right_mask\n",
    "\n",
    "screen = [0b11111111, 0b11111111]\n",
    "draw_line(screen, width=16, x1=0, x2=15, y=0)"
   ]
  },
  {
   "source": [
    "# **Solutions to Math and Logic Puzzles**"
   ],
   "cell_type": "markdown",
   "metadata": {}
  },
  {
   "source": [
    "## **SieveOfEratosthenes (Prime Nubmer)**"
   ],
   "cell_type": "markdown",
   "metadata": {}
  },
  {
   "cell_type": "code",
   "execution_count": 24,
   "metadata": {},
   "outputs": [
    {
     "output_type": "stream",
     "name": "stdout",
     "text": [
      "Following are the prime numbers smaller\nthan or equal to 12\n2\n3\n5\n7\n11\n"
     ]
    }
   ],
   "source": [
    "# Python program to print all primes smaller than or equal to\n",
    "# n using Sieve of Eratosthenes\n",
    "\n",
    "def SieveOfEratosthenes(n):\n",
    "\t\n",
    "\t# Create a boolean array \"prime[0..n]\" and initialize\n",
    "\t# all entries it as true. A value in prime[i] will\n",
    "\t# finally be false if i is Not a prime, else true.\n",
    "\tprime = [True for i in range(n + 1)]\n",
    "\tp = 2\n",
    "\twhile (p * p <= n):\n",
    "\t\t\n",
    "\t\t# If prime[p] is not changed, then it is a prime\n",
    "\t\tif (prime[p] == True):\n",
    "\t\t\t\n",
    "\t\t\t# Update all multiples of p\n",
    "\t\t\tfor i in range(p * 2, n + 1, p):\n",
    "\t\t\t\tprime[i] = False\n",
    "\t\tp += 1\n",
    "\tprime[0]= False\n",
    "\tprime[1]= False\n",
    "\t# Print all prime numbers\n",
    "\tfor p in range(n + 1):\n",
    "\t\tif prime[p]:\n",
    "\t\t\tprint (p), #Use print(p) for python 3\n",
    "\n",
    "# driver program\n",
    "if __name__=='__main__':\n",
    "\tn = 12\n",
    "\tprint (\"Following are the prime numbers smaller\",)\n",
    "\t#Use print(\"Following are the prime numbers smaller\") for Python 3\n",
    "\tprint (\"than or equal to\", n)\n",
    "\t#Use print(\"than or equal to\", n) for Python 3\n",
    "\tSieveOfEratosthenes(n)\n"
   ]
  },
  {
   "source": [
    "## **GCD and LCM**"
   ],
   "cell_type": "markdown",
   "metadata": {}
  },
  {
   "cell_type": "code",
   "execution_count": 42,
   "metadata": {},
   "outputs": [
    {
     "output_type": "stream",
     "name": "stdout",
     "text": [
      "360\n"
     ]
    },
    {
     "output_type": "execute_result",
     "data": {
      "text/plain": [
       "180.0"
      ]
     },
     "metadata": {},
     "execution_count": 42
    }
   ],
   "source": [
    "# GCD and LCM are not in math module.  They are in gmpy, but these are simple enough:\n",
    "\n",
    "def gcd(a,b):\n",
    "    \"\"\"Compute the greatest common divisor of a and b\"\"\"\n",
    "    while b > 0:\n",
    "        a, b = b, a % b\n",
    "    return a\n",
    "    \n",
    "def lcm(a, b):\n",
    "    \"\"\"Compute the lowest common multiple of a and b\"\"\"\n",
    "    print(a * b)\n",
    "    return a * b / gcd(a, b)\n",
    "\n",
    "lcm(36, 10)"
   ]
  },
  {
   "cell_type": "code",
   "execution_count": 39,
   "metadata": {},
   "outputs": [
    {
     "output_type": "stream",
     "name": "stdout",
     "text": [
      "The gcd of 60 and 48 is : 12\n"
     ]
    }
   ],
   "source": [
    "# Python code to demonstrate naive\n",
    "# method to compute gcd ( recursion )\n",
    "\n",
    "def hcfnaive(a,b):\n",
    "\tif(b==0):\n",
    "\t\treturn a\n",
    "\telse:\n",
    "\t\treturn hcfnaive(b,a%b)\n",
    "\n",
    "a = 60\n",
    "b= 48\n",
    "\n",
    "# prints 12\n",
    "print (\"The gcd of 60 and 48 is : \",end=\"\")\n",
    "print (hcfnaive(60,48))\n"
   ]
  },
  {
   "cell_type": "code",
   "execution_count": 40,
   "metadata": {},
   "outputs": [
    {
     "output_type": "stream",
     "name": "stdout",
     "text": [
      "LCM of 15 and 20 is 60.0\n"
     ]
    }
   ],
   "source": [
    "# Python program to find LCM of two numbers\n",
    "\n",
    "# Recursive function to return gcd of a and b\n",
    "def gcd(a,b):\n",
    "\tif a == 0:\n",
    "\t\treturn b\n",
    "\treturn gcd(b % a, a)\n",
    "\n",
    "# Function to return LCM of two numbers\n",
    "def lcm(a,b):\n",
    "\treturn (a / gcd(a,b))* b\n",
    "\n",
    "# Driver program to test above function\n",
    "a = 15\n",
    "b = 20\n",
    "print('LCM of', a, 'and', b, 'is', lcm(a, b))\n",
    "\n",
    "# This code is contributed by Danish Raza\n"
   ]
  },
  {
   "source": [
    "## **Probability**"
   ],
   "cell_type": "markdown",
   "metadata": {}
  },
  {
   "cell_type": "code",
   "execution_count": 44,
   "metadata": {},
   "outputs": [],
   "source": [
    "def independence(a, b, list_ab):\n",
    "    count_a = list_ab.count(a)\n",
    "    count_b = list_ab.count(b)\n",
    "    return (count_a/len(list_ab)) * (count_b/len(list_ab))\n",
    "\n",
    "\n",
    "def mutual_exclusivity(a, b, list_ab):\n",
    "    count_a = list_ab.count(a)\n",
    "    count_b = list_ab.count(b)\n",
    "    return (count_a/len(list_ab)) + (count_b/len(list_ab))\n",
    "\n",
    "\n",
    "def b_when_a(a,b,list_ab):\n",
    "    count_b = list_ab.count(b)\n",
    "    return independence(a,b,list_ab) / (count_b/len(list_ab))\n",
    "\n",
    "\n",
    "def p_and(a,b, list_ab):\n",
    "    count_a = list_ab.count(a)\n",
    "    return b_when_a(a,b, list_ab) * (count_a/len(list_ab))\n",
    "\n",
    "\n",
    "def p_or(a,b, list_ab):\n",
    "    count_a = list_ab.count(a)\n",
    "    count_b = list_ab.count(b)\n",
    "    return (count_a/len(list_ab)) + (count_b/len(list_ab)) - independence(a,b,list_ab)\n",
    "\n"
   ]
  },
  {
   "cell_type": "code",
   "execution_count": 49,
   "metadata": {},
   "outputs": [
    {
     "output_type": "execute_result",
     "data": {
      "text/plain": [
       "0.3055555555555555"
      ]
     },
     "metadata": {},
     "execution_count": 49
    }
   ],
   "source": [
    "dice = [1,2,3,4,5,6,1,2,3,4,5,6]\n",
    "a = 3\n",
    "b = 2\n",
    "\n",
    "p_or(a,b, dice)"
   ]
  },
  {
   "source": [
    "## **The Apocalypse**"
   ],
   "cell_type": "markdown",
   "metadata": {}
  },
  {
   "cell_type": "code",
   "execution_count": 51,
   "metadata": {},
   "outputs": [
    {
     "output_type": "execute_result",
     "data": {
      "text/plain": [
       "0.5"
      ]
     },
     "metadata": {},
     "execution_count": 51
    }
   ],
   "source": [
    "import enum\n",
    "import random\n",
    "\n",
    "\n",
    "class Gender(enum.Enum):\n",
    "    BOY = enum.auto()\n",
    "    GIRL = enum.auto()\n",
    "\n",
    "\n",
    "def simulate_child() -> Gender:\n",
    "    return random.choice([Gender.BOY, Gender.GIRL])\n",
    "\n",
    "\n",
    "class Family:\n",
    "    def __init__(self, num_boys: int, num_girls: int) -> None:\n",
    "        self.num_boys = num_boys\n",
    "        self.num_girls = num_girls\n",
    "\n",
    "\n",
    "def simulate_family() -> Family:\n",
    "    num_boys = sum(1 for _ in iter(simulate_child, Gender.GIRL))\n",
    "    return Family(num_boys=num_boys, num_girls=1)\n",
    "\n",
    "\n",
    "def simulate_apocalypse(num_families: int) -> float:\n",
    "    total_boys = total_girls = 0\n",
    "    for _ in range(num_families):\n",
    "        family = simulate_family()\n",
    "        total_boys += family.num_boys\n",
    "        total_girls += family.num_girls\n",
    "    return total_boys / (total_boys + total_girls)\n",
    "\n",
    "\n",
    "n = 6\n",
    "simulate_apocalypse(n)"
   ]
  },
  {
   "source": [
    "## **Egg Drop Problem**"
   ],
   "cell_type": "markdown",
   "metadata": {}
  },
  {
   "cell_type": "code",
   "execution_count": 61,
   "metadata": {},
   "outputs": [
    {
     "output_type": "stream",
     "name": "stdout",
     "text": [
      "Minimum number of trials in worst case with 2 eggs and 10 floors is 4\n"
     ]
    }
   ],
   "source": [
    "import sys\n",
    "\n",
    "# Function to get minimum number of trials\n",
    "# needed in worst case with n eggs and k floors\n",
    "def eggDrop(n, k):\n",
    "\n",
    "\t# If there are no floors, then no trials\n",
    "\t# needed. OR if there is one floor, one\n",
    "\t# trial needed.\n",
    "\tif (k == 1 or k == 0):\n",
    "\t\treturn k\n",
    "\n",
    "\t# We need k trials for one egg\n",
    "\t# and k floors\n",
    "\tif (n == 1):\n",
    "\t\treturn k\n",
    "\n",
    "\tmin = sys.maxsize\n",
    "\n",
    "\t# Consider all droppings from 1st\n",
    "\t# floor to kth floor and return\n",
    "\t# the minimum of these values plus 1.\n",
    "\tfor x in range(1, k + 1):\n",
    "\n",
    "\t\tres = max(eggDrop(n - 1, x - 1),\n",
    "\t\t\t\teggDrop(n, k - x))\n",
    "\t\tif (res < min):\n",
    "\t\t\tmin = res\n",
    "\n",
    "\treturn min + 1\n",
    "\n",
    "# Driver Code\n",
    "if __name__ == \"__main__\":\n",
    "\n",
    "\tn = 2\n",
    "\tk = 10\n",
    "\tprint(\"Minimum number of trials in worst case with\",\n",
    "\t\tn, \"eggs and\", k, \"floors is\", eggDrop(n, k))\n",
    "\n",
    "# This code is contributed by ita_c\n"
   ]
  },
  {
   "source": [
    "## **Poison Bottle**"
   ],
   "cell_type": "markdown",
   "metadata": {}
  },
  {
   "cell_type": "code",
   "execution_count": 59,
   "metadata": {},
   "outputs": [
    {
     "output_type": "execute_result",
     "data": {
      "text/plain": [
       "522"
      ]
     },
     "metadata": {},
     "execution_count": 59
    }
   ],
   "source": [
    "import random\n",
    "from typing import List, Optional\n",
    "\n",
    "DAYS_FOR_RESULT = 7\n",
    "\n",
    "\n",
    "class World:\n",
    "    def __init__(\n",
    "        self, num_test_strips: int, num_bottles: int, poisoned_bottle_num: int\n",
    "    ) -> None:\n",
    "        self._num_test_strips = num_test_strips\n",
    "        self._test_strips = [_TestStrip() for i in range(num_test_strips)]\n",
    "        self._num_bottles = num_bottles\n",
    "        self._poisoned_bottle_num = poisoned_bottle_num\n",
    "        self._day = 0\n",
    "\n",
    "    @property\n",
    "    def num_bottles(self) -> int:\n",
    "        return self._num_bottles\n",
    "\n",
    "    @property\n",
    "    def num_test_strips(self) -> int:\n",
    "        return self._num_test_strips\n",
    "\n",
    "    @property\n",
    "    def day(self) -> int:\n",
    "        return self._day\n",
    "\n",
    "    @day.setter\n",
    "    def day(self, day: int) -> None:\n",
    "        if day < self._day:\n",
    "            raise ValueError(\"day cannot be decreased\")\n",
    "        self._day = day\n",
    "\n",
    "    def add_drop(self, bottle_num: int, test_strip_num: int) -> None:\n",
    "        test_strip = self._test_strips[test_strip_num]\n",
    "        if bottle_num == self._poisoned_bottle_num and not test_strip.has_poison:\n",
    "            test_strip.has_poison, test_strip.day_poisoned = True, self.day\n",
    "\n",
    "    def positive_test_strips(self) -> List[int]:\n",
    "        res: List[int] = []\n",
    "        for test_strip_num, test_strip in enumerate(self._test_strips):\n",
    "            if (\n",
    "                test_strip.has_poison\n",
    "                and self.day - test_strip.day_poisoned >= DAYS_FOR_RESULT\n",
    "            ):\n",
    "                res.append(test_strip_num)\n",
    "        return res\n",
    "\n",
    "\n",
    "\n",
    "def find_poison(world: World) -> int:\n",
    "    for i in range(world.num_bottles):\n",
    "        for j in range(world.num_test_strips):\n",
    "            if i & (1 << j):\n",
    "                world.add_drop(bottle_num=i, test_strip_num=j)\n",
    "    world.day += DAYS_FOR_RESULT\n",
    "    return sum(1 << i for i in world.positive_test_strips())\n",
    "\n",
    "\n",
    "poisoned_bottle_num = random.randrange(1000)\n",
    "world = World(num_bottles=1000, num_test_strips=10, poisoned_bottle_num=poisoned_bottle_num)\n",
    "find_poison(world)\n",
    "#print(\"Found poison in bottle number\", poisoned_bottle_num, \"in\", days, \"days.\")"
   ]
  },
  {
   "source": [
    "# **Object Oriented Design**"
   ],
   "cell_type": "markdown",
   "metadata": {}
  },
  {
   "source": [
    "## **Deck of Cards**"
   ],
   "cell_type": "markdown",
   "metadata": {}
  },
  {
   "cell_type": "code",
   "execution_count": 63,
   "metadata": {},
   "outputs": [
    {
     "output_type": "stream",
     "name": "stdout",
     "text": [
      "You got:\n6 of Spade\n1 of Spade\n4 of Diamond\n10 of Heart\n7 of Spade\n"
     ]
    }
   ],
   "source": [
    "# Python program to shuffle a deck of card\n",
    "\n",
    "# importing modules\n",
    "import itertools, random\n",
    "\n",
    "# make a deck of cards\n",
    "deck = list(itertools.product(range(1,14),['Spade','Heart','Diamond','Club']))\n",
    "\n",
    "# shuffle the cards\n",
    "random.shuffle(deck)\n",
    "\n",
    "# draw five cards\n",
    "print(\"You got:\")\n",
    "for i in range(5):\n",
    "   print(deck[i][0], \"of\", deck[i][1])"
   ]
  },
  {
   "cell_type": "code",
   "execution_count": 88,
   "metadata": {},
   "outputs": [
    {
     "output_type": "stream",
     "name": "stdout",
     "text": [
      "\n Player 1 Cards: \n ['A of Hearts', '2 of Hearts', '3 of Hearts', '4 of Hearts', '5 of Hearts', '6 of Hearts', '7 of Hearts', '8 of Hearts', '9 of Hearts', '10 of Hearts', 'J of Hearts', 'Q of Hearts', 'K of Hearts', 'A of Diamonds', '2 of Diamonds', '3 of Diamonds', '4 of Diamonds', '5 of Diamonds', '6 of Diamonds', '7 of Diamonds', '8 of Diamonds', '9 of Diamonds', '10 of Diamonds', 'J of Diamonds', 'Q of Diamonds', 'K of Diamonds', 'A of Clubs', '2 of Clubs', '3 of Clubs', '4 of Clubs', '5 of Clubs', '6 of Clubs', '7 of Clubs', '8 of Clubs', '9 of Clubs', '10 of Clubs', 'J of Clubs', 'Q of Clubs', 'K of Clubs', 'A of Spades', '2 of Spades', '3 of Spades', '4 of Spades', '5 of Spades', '6 of Spades', '7 of Spades', '8 of Spades', '9 of Spades', '10 of Spades', 'J of Spades', 'Q of Spades', 'K of Spades']\n\n Player 2 Cards: \n ['2 of Spades', '3 of Diamonds', '9 of Spades', '6 of Hearts', '4 of Spades', '7 of Diamonds', '8 of Spades', 'K of Spades', '7 of Clubs', 'A of Diamonds', 'J of Diamonds', 'Q of Spades', 'K of Diamonds', '2 of Diamonds', '8 of Clubs', '5 of Spades', 'K of Clubs', '6 of Spades', 'J of Clubs', '5 of Hearts', '6 of Diamonds', '2 of Clubs', '10 of Diamonds', '8 of Hearts', 'J of Spades', '10 of Spades', '2 of Hearts', 'A of Clubs', '9 of Diamonds', 'Q of Diamonds', '4 of Clubs', 'A of Spades', '9 of Hearts', 'K of Hearts', '3 of Clubs', '4 of Hearts', '3 of Hearts', '7 of Spades', '4 of Diamonds', '10 of Clubs', '8 of Diamonds', '6 of Clubs', 'Q of Clubs', '3 of Spades', 'Q of Hearts', '10 of Hearts', '5 of Clubs', 'J of Hearts', '7 of Hearts', '5 of Diamonds', 'A of Hearts', '9 of Clubs']\n\n Removing a card from the deck: 9 of Clubs\n\n Removing another card from the deck: A of Hearts\n"
     ]
    }
   ],
   "source": [
    "# Import required modules\n",
    "from random import shuffle\n",
    "\n",
    "\n",
    "# Define a class to create\n",
    "# all type of cards\n",
    "class Cards:\n",
    "\tglobal suites, values\n",
    "\tsuites = ['Hearts', 'Diamonds', 'Clubs', 'Spades']\n",
    "\tvalues = ['A', '2', '3', '4', '5', '6', '7', '8', '9', '10', 'J', 'Q', 'K']\n",
    "\n",
    "\tdef __init__(self):\n",
    "\t\tpass\n",
    "\n",
    "\n",
    "# Define a class to categorize each card\n",
    "class Deck(Cards):\n",
    "\tdef __init__(self):\n",
    "\t\tCards.__init__(self)\n",
    "\t\tself.mycardset = []\n",
    "\t\tfor n in suites:\n",
    "\t\t\tfor c in values:\n",
    "\t\t\t\tself.mycardset.append((c)+\" \"+\"of\"+\" \"+n)\n",
    "\n",
    "\t# Method to remove a card from the deck\n",
    "\tdef popCard(self):\n",
    "\t\tif len(self.mycardset) == 0:\n",
    "\t\t\treturn \"NO CARDS CAN BE POPPED FURTHER\"\n",
    "\t\telse:\n",
    "\t\t\tcardpopped = self.mycardset.pop()\n",
    "\t\t\tprint(\"Card removed is\", cardpopped)\n",
    "\n",
    "\n",
    "# Define a class gto shuffle the deck of cards\n",
    "class ShuffleCards(Deck):\n",
    "\n",
    "\t# Constructor\n",
    "\tdef __init__(self):\n",
    "\t\tDeck.__init__(self)\n",
    "\n",
    "\t# Method to shuffle cards\n",
    "\tdef shuffle(self):\n",
    "\t\tif len(self.mycardset) < 52:\n",
    "\t\t\tprint(\"cannot shuffle the cards\")\n",
    "\t\telse:\n",
    "\t\t\tshuffle(self.mycardset)\n",
    "\t\t\treturn self.mycardset\n",
    "\n",
    "\t# Method to remove a card from the deck\n",
    "\tdef popCard(self):\n",
    "\t\tif len(self.mycardset) == 0:\n",
    "\t\t\treturn \"NO CARDS CAN BE POPPED FURTHER\"\n",
    "\t\telse:\n",
    "\t\t\tcardpopped = self.mycardset.pop()\n",
    "\t\t\treturn (cardpopped)\n",
    "\n",
    "\n",
    "# Driver Code\n",
    "# Creating objects\n",
    "objCards = Cards()\n",
    "objDeck = Deck()\n",
    "\n",
    "# Player 1\n",
    "player1Cards = objDeck.mycardset\n",
    "print('\\n Player 1 Cards: \\n', player1Cards)\n",
    "\n",
    "# Creating object\n",
    "objShuffleCards = ShuffleCards()\n",
    "\n",
    "# Player 2\n",
    "player2Cards = objShuffleCards.shuffle()\n",
    "print('\\n Player 2 Cards: \\n', player2Cards)\n",
    "\n",
    "# Remove some cards\n",
    "print('\\n Removing a card from the deck:', objShuffleCards.popCard())\n",
    "print('\\n Removing another card from the deck:', objShuffleCards.popCard())\n"
   ]
  },
  {
   "source": [
    "## **Dog Pet OOP**"
   ],
   "cell_type": "markdown",
   "metadata": {}
  },
  {
   "cell_type": "code",
   "execution_count": 93,
   "metadata": {},
   "outputs": [
    {
     "output_type": "stream",
     "name": "stdout",
     "text": [
      "Tom is walking!\nFletcher is walking!\nLarry is walking!\n"
     ]
    }
   ],
   "source": [
    "#Tom sedang berjalan!\n",
    "#Fletcher sedang berjalan!\n",
    "#Larry sedang berjalan!\n",
    "# Parent class\n",
    "class Pets:\n",
    "    Dogs = []\n",
    "    def __init__(self, Dogs):\n",
    "        self.Dogs = Dogs\n",
    "    def walk(self):\n",
    "        for Dog in self.Dogs:\n",
    "            print(Dog.walk())\n",
    "# Parent class\n",
    "class Dog:\n",
    "    # class attribute\n",
    "    species = 'mammal'\n",
    "    is_hungry = True\n",
    "# Initializer / instance attributes\n",
    "    def __init__(self, name, age):\n",
    "        self.name = name\n",
    "        self.age = age\n",
    "# Instance method\n",
    "    def description(self):\n",
    "        return self.name, self.age\n",
    "# Instance method\n",
    "    def speak(self, sound):\n",
    "        return \"%s says %s\" % (self.name, sound)\n",
    "# Instance method\n",
    "    def eat(self):\n",
    "        self.is_hungry = False\n",
    "    def walk(self):\n",
    "        return \"%s is walking!\" % (self.name)\n",
    "# Child class (inherits from Dog class)\n",
    "class RussellTerrier(Dog):\n",
    "    def run(self, speed):\n",
    "        return \"%s runs %s\" % (self.name, speed)\n",
    "# Child class (inherits from Dog class)\n",
    "class BullDog(Dog):\n",
    "    def run(self, speed):\n",
    "        return \"%s runs %s\" % (self.name, speed)\n",
    "# Create instances of Dogs\n",
    "my_Dogs = [\n",
    "    BullDog(\"Tom\", 6), \n",
    "    RussellTerrier(\"Fletcher\", 7), \n",
    "    Dog(\"Larry\", 9)\n",
    "]\n",
    "# Instantiate the Pet class\n",
    "my_pets = Pets(my_Dogs)\n",
    "# Output\n",
    "my_pets.walk()"
   ]
  },
  {
   "source": [
    "## **Call Center**"
   ],
   "cell_type": "markdown",
   "metadata": {}
  },
  {
   "cell_type": "code",
   "execution_count": 87,
   "metadata": {},
   "outputs": [
    {
     "output_type": "stream",
     "name": "stdout",
     "text": [
      "Employee is busy, escalating the call to the Manager\nThe manager is answering your call\n"
     ]
    }
   ],
   "source": [
    "from abc import ABCMeta, abstractmethod\n",
    "from random import random\n",
    "\n",
    "\n",
    "class CallCenter(metaclass=ABCMeta):\n",
    "    \"\"\"\n",
    "    A call center class that will be inherited from by the director\n",
    "\n",
    "    Attributes:\n",
    "        name: Name of the employee\n",
    "        number: Mobile phone number of the employee\n",
    "        level: Define level of the employee - respondent, manager or director\n",
    "    \"\"\"\n",
    "\n",
    "    @classmethod\n",
    "    def dispatchCall(self, cls):\n",
    "        return cls.answerCall()\n",
    "\n",
    "\n",
    "class Employee(metaclass=ABCMeta):\n",
    "\n",
    "    def __init__(self, name, number, level):\n",
    "        self.name = name\n",
    "        self.number = number\n",
    "        self.level = level\n",
    "\n",
    "    def canEmployeeHandle(self):\n",
    "        canHandle = random()\n",
    "        if canHandle > 0.5:\n",
    "            return True\n",
    "        else:\n",
    "            return False\n",
    "\n",
    "    def isEmployeeBusy(self):\n",
    "        busy = True if random() <= 0.5 else False\n",
    "        return busy\n",
    "\n",
    "\n",
    "    @abstractmethod\n",
    "    def answerCall(self):\n",
    "        \"\"\"Print a string indicating that this employee is currently\n",
    "        answering the call or propogate up the chain\"\"\"\n",
    "        pass\n",
    "\n",
    "\n",
    "\n",
    "class Director(Employee):\n",
    "    \"\"\"\n",
    "    A class definition for the director who will be the third in chain\n",
    "    to answer the call\n",
    "    \"\"\"\n",
    "\n",
    "    def answerCall(self):\n",
    "        print(\"The director is now on call with you\")\n",
    "\n",
    "\n",
    "class Manager(Director):\n",
    "    \"\"\"\n",
    "    A class definition for the manager who will be the second in chain to\n",
    "    answer the call\n",
    "    \"\"\"\n",
    "\n",
    "    def answerCall(self):\n",
    "        if not self.isEmployeeBusy() and self.canEmployeeHandle():\n",
    "            print(\"The manager is answering your call\")\n",
    "        else:\n",
    "            print(\"Manager is busy, escalating the call to the Director\")\n",
    "            super(Manager, self).answerCall()\n",
    "\n",
    "\n",
    "class Respondent(Manager):\n",
    "    canHandle = random()  # class variable to check if respondent can handle call\n",
    "    \"\"\"\n",
    "    A class definition for the respondent who will be the first in chain\n",
    "    to answer the call\n",
    "    \"\"\"\n",
    "\n",
    "    def answerCall(self):\n",
    "        if not self.isEmployeeBusy() and self.canEmployeeHandle():\n",
    "            print(\"The respondent is answering your call\")\n",
    "        else:\n",
    "            print(\"Employee is busy, escalating the call to the Manager\")\n",
    "            super(Respondent, self).answerCall()\n",
    "\n",
    "\n",
    "if __name__ == \"__main__\":\n",
    "    director = Director(\"Alex\", \"+17654736791\", \"director\")\n",
    "    manager = Manager(\"Unai\", \"+331577285782\", \"manager\")\n",
    "    respondent = Respondent(\"Mark\", \"+16574872817\", \"respondent\")\n",
    "    CallCenter.dispatchCall(respondent)"
   ]
  },
  {
   "source": [
    "## **Parking Lot**"
   ],
   "cell_type": "markdown",
   "metadata": {}
  },
  {
   "cell_type": "code",
   "execution_count": 75,
   "metadata": {},
   "outputs": [
    {
     "output_type": "stream",
     "name": "stdout",
     "text": [
      "Vehicle is not parked\nSuzuki Access  has been parked.\nToken:  6337 , Space available  9\nVehicle is parked\nSuzuki Access has been deparked\nSpace Available:  10\nVehicle is not parked\nVehicle is not parked\nHonda Jazz  has been parked.\nToken:  8686 , Space available  5\nVehicle is parked\nHonda Jazz has been deparked\nSpace Available:  10\nVehicle is not parked\nVolvo  has been parked.\nToken:  4582 , Space available  5\nHonda Activa  has been parked.\nToken:  8167 , Space available  4\n------Parked Vehicles------\nVolvo 5 AN657\nHonda Activa 1 GI653\n"
     ]
    }
   ],
   "source": [
    "import unittest\n",
    "from random import randrange\n",
    "\n",
    "\n",
    "class Vehicle:\n",
    "    types = []\n",
    "\n",
    "    def __init__(self, model, size, number):\n",
    "        self.model = model\n",
    "        self.size = size\n",
    "        self.number = number\n",
    "        self.parked = False\n",
    "\n",
    "    def is_parked(self):\n",
    "        if self.parked:\n",
    "            print(\"Vehicle is parked\")\n",
    "            return True\n",
    "\n",
    "        print(\"Vehicle is not parked\")\n",
    "        return False\n",
    "\n",
    "\n",
    "class Bike(Vehicle):\n",
    "    pass\n",
    "\n",
    "\n",
    "class Scooter(Vehicle):\n",
    "    pass\n",
    "\n",
    "\n",
    "class Car(Vehicle):\n",
    "    pass\n",
    "\n",
    "\n",
    "class Bus(Vehicle):\n",
    "    pass\n",
    "\n",
    "\n",
    "class ParkZone:\n",
    "    def __init__(self):\n",
    "        self.space_available = 10\n",
    "        self.parked = {}\n",
    "\n",
    "    def park(self, vehicle):\n",
    "        if self.is_space_available(vehicle.size):\n",
    "            token = self.register(vehicle)\n",
    "            self.space_available -= vehicle.size\n",
    "            vehicle.parked = True\n",
    "            print(vehicle.model, \" has been parked.\")\n",
    "            print(\"Token: \", token, \", Space available \", self.space_available)\n",
    "            return token\n",
    "        print(\"No space available\")\n",
    "        return None\n",
    "\n",
    "    def is_space_available(self, size):\n",
    "        return (self.space_available - size) >= 0\n",
    "\n",
    "    def register(self, vehicle):\n",
    "        token = self.generate_token()\n",
    "        while token in self.parked:\n",
    "            token = self.generate_token()\n",
    "        self.parked[token] = vehicle\n",
    "        return token\n",
    "\n",
    "    def generate_token(self):\n",
    "        return randrange(1111, 9999)\n",
    "\n",
    "    def depark(self, token):\n",
    "        if token in self.parked:\n",
    "            parked_vehicle = self.parked[token]\n",
    "            parked_vehicle.parked = False\n",
    "            self.space_available += parked_vehicle.size\n",
    "            print(parked_vehicle.model, \"has been deparked\")\n",
    "            print(\"Space Available: \", self.space_available)\n",
    "            return self.parked.pop(token)\n",
    "        raise ValueError(\"Invalid token or vehicle not found\")\n",
    "\n",
    "    def list_parked_vehicles(self):\n",
    "        print(\"------Parked Vehicles------\")\n",
    "        for vehicle in self.parked.values():\n",
    "            print(vehicle.model, vehicle.size, vehicle.number)\n",
    "\n",
    "\n",
    "if __name__ == \"__main__\":\n",
    "    bike = Bike(\"Suzuki Access\", 1, \"MH14AB1234\")\n",
    "    bike.is_parked()\n",
    "    park_zone = ParkZone()\n",
    "    token = park_zone.park(bike)\n",
    "    bike.is_parked()\n",
    "    park_zone.depark(token) == bike\n",
    "    bike.is_parked()\n",
    "\n",
    "    car = Car(\"Honda Jazz\", 5, \"MU268A\")\n",
    "    car.is_parked()\n",
    "    car_token = park_zone.park(car)\n",
    "    car.is_parked()\n",
    "    #park_zone.depark(car_token)\n",
    "\n",
    "    park_zone.depark(car_token) == car\n",
    "    car.is_parked()\n",
    "\n",
    "    bus = Bus(\"Volvo\", 5, \"AN657\")\n",
    "    park_zone.park(bus)\n",
    "\n",
    "    scooter = Scooter(\"Honda Activa\", 1, \"GI653\")\n",
    "    park_zone.park(scooter)\n",
    "    park_zone.list_parked_vehicles()"
   ]
  },
  {
   "source": [
    "## **Circular Array**"
   ],
   "cell_type": "markdown",
   "metadata": {}
  },
  {
   "cell_type": "code",
   "execution_count": 94,
   "metadata": {},
   "outputs": [
    {
     "output_type": "stream",
     "name": "stdout",
     "text": [
      "D E F A B C "
     ]
    }
   ],
   "source": [
    "# Python3 program to demonstrate use of\n",
    "# circular array using extra memory space\n",
    "\n",
    "def prints(a, n, ind):\n",
    "\t\n",
    "\t# Create an auxiliary array of twice size.\n",
    "\tb = [None]*2*n\n",
    "\ti = 0\n",
    "\t\n",
    "\t# Copy a[] to b[] two times\n",
    "\twhile i < n:\n",
    "\t\tb[i] = b[n + i] = a[i]\n",
    "\t\ti = i + 1\n",
    "\t\n",
    "\ti = ind\n",
    "\n",
    "\t# print from ind-th index to (n+i)th index.\n",
    "\twhile i < n + ind :\n",
    "\t\tprint(b[i], end = \" \");\n",
    "\t\ti = i + 1\n",
    "\n",
    "# Driver Code\n",
    "a = ['A', 'B', 'C', 'D', 'E', 'F']\n",
    "n = len(a);\n",
    "prints(a, n, 3);\n",
    "\n",
    "#This code is contributed by rishabh_jain\n"
   ]
  },
  {
   "cell_type": "code",
   "execution_count": 95,
   "metadata": {},
   "outputs": [
    {
     "output_type": "stream",
     "name": "stdout",
     "text": [
      "D E F A B C "
     ]
    }
   ],
   "source": [
    "# Python3 program to demonstrate the use of\n",
    "# circular array without using extra memory space\n",
    "\n",
    "# function to print circular list starting\n",
    "# from given index ind.\n",
    "def prints(a, n, ind):\n",
    "\ti = ind\n",
    "\t\n",
    "\t# print from ind-th index to (n+i)th index.\n",
    "\twhile i < n + ind :\n",
    "\t\tprint(a[(i % n)], end = \" \")\n",
    "\t\ti = i + 1\n",
    "\n",
    "# Driver Code\n",
    "a = ['A', 'B', 'C', 'D', 'E', 'F']\n",
    "n = len(a);\n",
    "prints(a, n, 3);\n",
    "\n",
    "# This code is contributed by rishabh_jain\n"
   ]
  },
  {
   "source": [
    "# **Recursion and Dynamic Programming**"
   ],
   "cell_type": "markdown",
   "metadata": {}
  },
  {
   "source": [
    "## **Memoization**"
   ],
   "cell_type": "markdown",
   "metadata": {}
  },
  {
   "cell_type": "code",
   "execution_count": 9,
   "metadata": {},
   "outputs": [
    {
     "output_type": "stream",
     "name": "stdout",
     "text": [
      "89\n55\n34\n"
     ]
    }
   ],
   "source": [
    "class Memoize(object):\n",
    "    def __init__(self, func):\n",
    "        self.func = func\n",
    "        self.cache = {}\n",
    "    def __call__(self, *args):\n",
    "        if args in self.cache:\n",
    "            return self.cache[args]\n",
    "        ret = self.func(*args)\n",
    "        self.cache[args] = ret\n",
    "        return ret\n",
    "\n",
    "@Memoize\n",
    "def fib(n):\n",
    "    if n < 2:\n",
    "        return 1\n",
    "    return fib(n-2) + fib(n-1)\n",
    "\n",
    "print(fib(10))\n",
    "print(fib(9))\n",
    "print(fib(8))"
   ]
  },
  {
   "source": [
    "## **Triple Step**"
   ],
   "cell_type": "markdown",
   "metadata": {}
  },
  {
   "cell_type": "code",
   "execution_count": 12,
   "metadata": {},
   "outputs": [
    {
     "output_type": "execute_result",
     "data": {
      "text/plain": [
       "1"
      ]
     },
     "metadata": {},
     "execution_count": 12
    }
   ],
   "source": [
    "def countWays(x):\n",
    "    memo = [-1] * (x + 1)\n",
    "    return triple_hop_recursive(x, memo)\n",
    "\n",
    "\n",
    "def triple_hop_recursive(x, memo):\n",
    "    if x < 0:\n",
    "        return 0\n",
    "    memo[0] = 1\n",
    "    if x >= 1:\n",
    "        memo[1] = 1\n",
    "    if x >= 2:\n",
    "        memo[2] = memo[1] + memo[0]\n",
    "    if x > 2:\n",
    "        for i in range(3, x + 1):\n",
    "            memo[i] = memo[i - 1] + memo[i - 2] + memo[i - 3]\n",
    "    return memo[x]\n",
    "\n",
    "countWays(0)"
   ]
  },
  {
   "source": [
    "## **Robot in a Grid**"
   ],
   "cell_type": "markdown",
   "metadata": {}
  },
  {
   "cell_type": "code",
   "execution_count": 23,
   "metadata": {},
   "outputs": [
    {
     "output_type": "stream",
     "name": "stdout",
     "text": [
      "3\n[(0, 0), (1, 0), (2, 0), (2, 1), (2, 2)]\n"
     ]
    }
   ],
   "source": [
    "def get_path_memoized(maze):\n",
    "    if not maze:\n",
    "        return None\n",
    "    path = []\n",
    "    failed_points = set()\n",
    "    if is_path_memoized(maze, len(maze) - 1, len(maze[0]) - 1, path, failed_points):\n",
    "        return path\n",
    "    return None\n",
    "\n",
    "\n",
    "def is_path_memoized(maze, row, col, path, failed_points):\n",
    "    # If out of bounds or not availabe, return\n",
    "    if col < 0 or row < 0 or not maze[row][col]:\n",
    "        return False\n",
    "\n",
    "    point = (row, col)\n",
    "\n",
    "    # if we've already visisted this cell, return\n",
    "    if point in failed_points:\n",
    "        return False\n",
    "\n",
    "    is_at_origin = (row == 0) and (col == 0)\n",
    "\n",
    "    # If there's a path from start to my current location, add my location\n",
    "    if (\n",
    "        is_at_origin\n",
    "        or is_path_memoized(maze, row, col - 1, path, failed_points)\n",
    "        or is_path_memoized(maze, row - 1, col, path, failed_points)\n",
    "    ):\n",
    "        path.append(point)\n",
    "        return True\n",
    "\n",
    "    failed_points.add(point)\n",
    "    return False\n",
    "\n",
    "\n",
    "\n",
    "print(get_path_memoized([[True, True,True], [True, False,True],[True, True,True]]))"
   ]
  },
  {
   "source": [
    "## **Magic Index**"
   ],
   "cell_type": "markdown",
   "metadata": {}
  },
  {
   "cell_type": "code",
   "execution_count": 30,
   "metadata": {},
   "outputs": [
    {
     "output_type": "stream",
     "name": "stdout",
     "text": [
      "[0, 4, 9]\n[5, 7, 9]\n[5, 5, 6]\n"
     ]
    },
    {
     "output_type": "execute_result",
     "data": {
      "text/plain": [
       "5"
      ]
     },
     "metadata": {},
     "execution_count": 30
    }
   ],
   "source": [
    "NOT_FOUND = -1\n",
    "\n",
    "\n",
    "def magic_index(array, min_index=0, max_index=None):\n",
    "    if max_index is None:\n",
    "        max_index = len(array) - 1\n",
    "\n",
    "    if max_index < min_index:\n",
    "        return NOT_FOUND\n",
    "\n",
    "    \n",
    "\n",
    "    mid = (max_index + min_index) // 2\n",
    "    print([min_index, mid, max_index])\n",
    "\n",
    "\n",
    "    if array[mid] == mid:\n",
    "        return mid\n",
    "    if array[mid] < mid:\n",
    "        return magic_index(array, mid + 1, max_index)\n",
    "    if array[mid] > mid:\n",
    "        return magic_index(array, min_index, mid - 1)\n",
    "\n",
    "arr = [-14, -12, 0, 1, 2, 5, 9, 10, 23, 25]\n",
    "magic_index(arr)"
   ]
  },
  {
   "source": [
    "## **Power Set**"
   ],
   "cell_type": "markdown",
   "metadata": {}
  },
  {
   "cell_type": "code",
   "execution_count": 33,
   "metadata": {},
   "outputs": [
    {
     "output_type": "stream",
     "name": "stdout",
     "text": [
      "\na\nb\nab\nc\nac\nbc\nabc\nd\nad\nbd\nabd\ncd\nacd\nbcd\nabcd\n"
     ]
    }
   ],
   "source": [
    "# python3 program for power set\n",
    "\n",
    "import math;\n",
    "\n",
    "def printPowerSet(set,set_size):\n",
    "\t\n",
    "\t# set_size of power set of a set\n",
    "\t# with set_size n is (2**n -1)\n",
    "\tpow_set_size = (int) (math.pow(2, set_size));\n",
    "\tcounter = 0;\n",
    "\tj = 0;\n",
    "\t\n",
    "\t# Run from counter 000..0 to 111..1\n",
    "\tfor counter in range(0, pow_set_size):\n",
    "\t\tfor j in range(0, set_size):\n",
    "\t\t\t\n",
    "\t\t\t# Check if jth bit in the\n",
    "\t\t\t# counter is set If set then\n",
    "\t\t\t# print jth element from set\n",
    "\t\t\tif((counter & (1 << j)) > 0):\n",
    "\t\t\t\tprint(set[j], end = \"\");\n",
    "\t\tprint(\"\");\n",
    "\n",
    "# Driver program to test printPowerSet\n",
    "set = ['a', 'b', 'c', 'd'];\n",
    "printPowerSet(set, 4);\n",
    "\n",
    "# This code is contributed by mits.\n"
   ]
  },
  {
   "cell_type": "code",
   "execution_count": 32,
   "metadata": {},
   "outputs": [
    {
     "output_type": "stream",
     "name": "stdout",
     "text": [
      "\na\nb\nc\nab\nac\nbc\nabc\n"
     ]
    }
   ],
   "source": [
    "#Python program to find powerset\n",
    "from itertools import combinations\n",
    "def print_powerset(string):\n",
    "\tfor i in range(0,len(string)+1):\n",
    "\t\tfor element in combinations(string,i):\n",
    "\t\t\tprint(''.join(element))\n",
    "string=['a','b','c']\n",
    "print_powerset(string)\n"
   ]
  },
  {
   "source": [
    "## **Recursive Multiply**"
   ],
   "cell_type": "markdown",
   "metadata": {}
  },
  {
   "cell_type": "code",
   "execution_count": 34,
   "metadata": {},
   "outputs": [
    {
     "output_type": "stream",
     "name": "stdout",
     "text": [
      "10\n"
     ]
    }
   ],
   "source": [
    "# Python3 to find Product of\n",
    "# 2 Numbers using Recursion\n",
    "\n",
    "# recursive function to calculate\n",
    "# multiplication of two numbers\n",
    "def product( x , y ):\n",
    "\t# if x is less than y swap\n",
    "\t# the numbers\n",
    "\tif x < y:\n",
    "\t\treturn product(y, x)\n",
    "\t\n",
    "\t# iteratively calculate y\n",
    "\t# times sum of x\n",
    "\telif y != 0:\n",
    "\t\treturn (x + product(x, y - 1))\n",
    "\t\n",
    "\t# if any of the two numbers is\n",
    "\t# zero return zero\n",
    "\telse:\n",
    "\t\treturn 0\n",
    "\n",
    "# Driver code\n",
    "x = 5\n",
    "y = 2\n",
    "print( product(x, y))\n",
    "\n",
    "# This code is contributed\n",
    "# by Abhishek Sharma44.\n"
   ]
  },
  {
   "cell_type": "code",
   "execution_count": 35,
   "metadata": {},
   "outputs": [
    {
     "output_type": "execute_result",
     "data": {
      "text/plain": [
       "10"
      ]
     },
     "metadata": {},
     "execution_count": 35
    }
   ],
   "source": [
    "def multiply_bit_based(a, b):\n",
    "    b_bin = bin(b)\n",
    "    b_bin = b_bin[2:]\n",
    "    prod = 0\n",
    "    for i in range(len(b_bin)):  # O(len_b)\n",
    "        if int(b_bin[-i - 1]):\n",
    "            prod = prod + (a << i)\n",
    "\n",
    "    return prod\n",
    "\n",
    "multiply_bit_based(5,2)"
   ]
  },
  {
   "source": [
    "## **Towers of Hanoi**"
   ],
   "cell_type": "markdown",
   "metadata": {}
  },
  {
   "cell_type": "code",
   "execution_count": 38,
   "metadata": {},
   "outputs": [
    {
     "output_type": "stream",
     "name": "stdout",
     "text": [
      "Move disk 1 from source A to destination B\nMove disk 2 from source A to destination C\nMove disk 1 from source B to destination C\nMove disk 3 from source A to destination B\nMove disk 1 from source C to destination A\nMove disk 2 from source C to destination B\nMove disk 1 from source A to destination B\nMove disk 4 from source A to destination C\nMove disk 1 from source B to destination C\nMove disk 2 from source B to destination A\nMove disk 1 from source C to destination A\nMove disk 3 from source B to destination C\nMove disk 1 from source A to destination B\nMove disk 2 from source A to destination C\nMove disk 1 from source B to destination C\n"
     ]
    }
   ],
   "source": [
    "# Recursive Python function to solve the tower of hanoi\n",
    "\n",
    "def TowerOfHanoi(n , source, destination, auxiliary):\n",
    "\tif n==1:\n",
    "\t\tprint (\"Move disk 1 from source\",source,\"to destination\",destination)\n",
    "\t\treturn\n",
    "\tTowerOfHanoi(n-1, source, auxiliary, destination)\n",
    "\tprint (\"Move disk\",n,\"from source\",source,\"to destination\",destination)\n",
    "\tTowerOfHanoi(n-1, auxiliary, destination, source)\n",
    "\t\t\n",
    "# Driver code\n",
    "n = 4\n",
    "TowerOfHanoi(n,'A','C','B')\n",
    "# A, C, B are the name of rods\n",
    "\n",
    "# Contributed By Dilip Jain\n"
   ]
  },
  {
   "source": [
    "## **Permutations Without Dups**"
   ],
   "cell_type": "markdown",
   "metadata": {}
  },
  {
   "cell_type": "code",
   "execution_count": 40,
   "metadata": {},
   "outputs": [
    {
     "output_type": "execute_result",
     "data": {
      "text/plain": [
       "[' str', ' srt', ' tsr', ' trs', ' rst', ' rts']"
      ]
     },
     "metadata": {},
     "execution_count": 40
    }
   ],
   "source": [
    "def get_perms_2(string):\n",
    "    result = []\n",
    "    get_perms_inner_2(\" \", string, result)\n",
    "    return result\n",
    "\n",
    "\n",
    "def get_perms_inner_2(prefix, remainder, result):\n",
    "    if len(remainder) == 0:\n",
    "        result.append(prefix)\n",
    "    length = len(remainder)\n",
    "    for i in range(length):\n",
    "        before = remainder[:i]\n",
    "        after = remainder[i + 1 :]\n",
    "        c = remainder[i]\n",
    "        get_perms_inner_2(prefix + c, before + after, result)\n",
    "\n",
    "get_perms_2('str')"
   ]
  },
  {
   "cell_type": "code",
   "execution_count": 41,
   "metadata": {},
   "outputs": [
    {
     "output_type": "execute_result",
     "data": {
      "text/plain": [
       "['str ', 'tsr ', 'trs ', 'srt ', 'rst ', 'rts ']"
      ]
     },
     "metadata": {},
     "execution_count": 41
    }
   ],
   "source": [
    "def get_perms(string):\n",
    "    permutations = []\n",
    "    if string is None:\n",
    "        return None\n",
    "    if len(string) == 0:\n",
    "        # base case\n",
    "        permutations.append(\" \")\n",
    "        return permutations\n",
    "    first = string[0]  # get first letter in string\n",
    "    remainder = string[1:]\n",
    "    words = get_perms(remainder)\n",
    "    for word in words:\n",
    "        index = 0\n",
    "        for _ in word:\n",
    "            s = insert_char_at(word, first, index)\n",
    "            permutations.append(s)\n",
    "            index += 1\n",
    "    return permutations\n",
    "\n",
    "\n",
    "def insert_char_at(word, char, i):\n",
    "    start = word[:i]\n",
    "    end = word[i:]\n",
    "    return start + char + end\n",
    "\n",
    "get_perms('str')"
   ]
  },
  {
   "cell_type": "code",
   "execution_count": null,
   "metadata": {},
   "outputs": [],
   "source": []
  },
  {
   "cell_type": "code",
   "execution_count": 43,
   "metadata": {},
   "outputs": [
    {
     "output_type": "stream",
     "name": "stdout",
     "text": [
      "str\nsrt\ntsr\ntrs\nrts\nrst\n"
     ]
    }
   ],
   "source": [
    "# Python3 program to distinct\n",
    "# permutations of the string\n",
    "\n",
    "# Returns true if str[curr] does not\n",
    "# matches with any of the characters\n",
    "# after str[start]\n",
    "def shouldSwap(string, start, curr):\n",
    "\n",
    "\tfor i in range(start, curr):\n",
    "\t\tif string[i] == string[curr]:\n",
    "\t\t\treturn 0\n",
    "\treturn 1\n",
    "\n",
    "# Prints all distinct permutations\n",
    "# in str[0..n-1]\n",
    "def findPermutations(string, index, n):\n",
    "\n",
    "\tif index >= n:\n",
    "\t\tprint(''.join(string))\n",
    "\t\treturn\n",
    "\n",
    "\tfor i in range(index, n):\n",
    "\n",
    "\t\t# Proceed further for str[i] only\n",
    "\t\t# if it doesn't match with any of\n",
    "\t\t# the characters after str[index]\n",
    "\t\tcheck = shouldSwap(string, index, i)\n",
    "\t\tif check:\n",
    "\t\t\tstring[index], string[i] = string[i], string[index]\n",
    "\t\t\tfindPermutations(string, index + 1, n)\n",
    "\t\t\tstring[index], string[i] = string[i], string[index]\n",
    "\n",
    "# Driver code\n",
    "if __name__ == \"__main__\":\n",
    "\n",
    "\tstring = list(\"str\")\n",
    "\tn = len(string)\n",
    "\tfindPermutations(string, 0, n)\n",
    "\t\n",
    "# This code is contributed by Rituraj Jain\n"
   ]
  },
  {
   "source": [
    "## **Permutations with Dups**"
   ],
   "cell_type": "markdown",
   "metadata": {}
  },
  {
   "cell_type": "code",
   "execution_count": 47,
   "metadata": {},
   "outputs": [
    {
     "output_type": "stream",
     "name": "stdout",
     "text": [
      "['aaf', 'afa', 'faa']\n"
     ]
    }
   ],
   "source": [
    "def print_perms(string):\n",
    "    result = []\n",
    "    letter_count_map = build_freq_table(string)\n",
    "    print_perms_inner(letter_count_map, \"\", len(string), result)\n",
    "    return result\n",
    "\n",
    "\n",
    "# returns dictionary <string, integer>\n",
    "def build_freq_table(string):\n",
    "    letter_count_map = {}\n",
    "    for letter in string:\n",
    "        if letter not in letter_count_map:\n",
    "            letter_count_map[letter] = 0\n",
    "        letter_count_map[letter] += 1\n",
    "    return letter_count_map\n",
    "\n",
    "\n",
    "def print_perms_inner(letter_count_map, prefix, remaining, result):\n",
    "    # base case Permutation has been completed\n",
    "    if remaining == 0:\n",
    "        result.append(prefix)\n",
    "        return\n",
    "    # try remaining letter for next char, and generate remaining permutations\n",
    "    for character in letter_count_map:\n",
    "        count = letter_count_map[character]\n",
    "        if count > 0:\n",
    "            letter_count_map[character] -= 1\n",
    "            print_perms_inner(\n",
    "                letter_count_map, prefix + character, remaining - 1, result\n",
    "            )\n",
    "            letter_count_map[character] = count\n",
    "\n",
    "\n",
    "print(print_perms(\"aaf\"))"
   ]
  },
  {
   "source": [
    "## **Parens**"
   ],
   "cell_type": "markdown",
   "metadata": {}
  },
  {
   "cell_type": "code",
   "execution_count": 52,
   "metadata": {},
   "outputs": [
    {
     "output_type": "execute_result",
     "data": {
      "text/plain": [
       "['((()))', '(()())', '(())()', '()(())', '()()()']"
      ]
     },
     "metadata": {},
     "execution_count": 52
    }
   ],
   "source": [
    "def add_paren(arr, left_rem, right_rem, string_arr, idx):\n",
    "    if left_rem < 0 or right_rem < left_rem:  # invalid\n",
    "        return\n",
    "    if left_rem == 0 and right_rem == 0:  # out of left and right parentheses\n",
    "        elem = \"\".join(string_arr)\n",
    "        arr.append(elem)\n",
    "\n",
    "    else:\n",
    "        string_arr[idx] = \"(\"  # add left and recurse\n",
    "        add_paren(arr, left_rem - 1, right_rem, string_arr, idx + 1)\n",
    "\n",
    "        string_arr[idx] = \")\"  # add right and recurse\n",
    "        add_paren(arr, left_rem, right_rem - 1, string_arr, idx + 1)\n",
    "\n",
    "def generate_parentheses_permutations_recursive_2(n):\n",
    "    results = []\n",
    "    string_arr = [\"*\"] * n * 2\n",
    "    add_paren(results, n, n, string_arr, 0)\n",
    "    return results\n",
    "\n",
    "generate_parentheses_permutations_recursive_2(3)"
   ]
  },
  {
   "cell_type": "code",
   "execution_count": 53,
   "metadata": {},
   "outputs": [
    {
     "output_type": "execute_result",
     "data": {
      "text/plain": [
       "['((()))', '(()())', '(())()', '()(())', '()()()']"
      ]
     },
     "metadata": {},
     "execution_count": 53
    }
   ],
   "source": [
    "def generate_parentheses_permutations_recursive_1(n):\n",
    "    def helper(\n",
    "        open_parentheses_remaining, closed_parentheses_remaining, current_string\n",
    "    ):\n",
    "        if len(current_string) == n * 2:\n",
    "            result.append(current_string)\n",
    "        if open_parentheses_remaining > 0:\n",
    "            helper(\n",
    "                open_parentheses_remaining - 1,\n",
    "                closed_parentheses_remaining,\n",
    "                current_string + \"(\",\n",
    "            )\n",
    "        if closed_parentheses_remaining > open_parentheses_remaining:\n",
    "            helper(\n",
    "                open_parentheses_remaining,\n",
    "                closed_parentheses_remaining - 1,\n",
    "                current_string + \")\",\n",
    "            )\n",
    "\n",
    "    result = []\n",
    "    helper(n, n, \"\")\n",
    "    return result\n",
    "\n",
    "generate_parentheses_permutations_recursive_1(3)"
   ]
  },
  {
   "source": [
    "## **Paint Fill**"
   ],
   "cell_type": "markdown",
   "metadata": {}
  },
  {
   "cell_type": "code",
   "execution_count": 62,
   "metadata": {},
   "outputs": [
    {
     "output_type": "execute_result",
     "data": {
      "text/plain": [
       "[[1, 3, 5], [3, 3, 4], [3, 8, 6]]"
      ]
     },
     "metadata": {},
     "execution_count": 62
    }
   ],
   "source": [
    "def flood_fill(screen, i: int, j: int, color: int, new_color: int):\n",
    "    if (\n",
    "        i < 0\n",
    "        or i >= len(screen)\n",
    "        or j < 0\n",
    "        or j >= len(screen[0])\n",
    "        or screen[i][j] != color\n",
    "    ):\n",
    "        return\n",
    "    screen[i][j] = new_color\n",
    "    flood_fill(screen, i + 1, j, color, new_color)\n",
    "    flood_fill(screen, i - 1, j, color, new_color)\n",
    "    flood_fill(screen, i, j + 1, color, new_color)\n",
    "    flood_fill(screen, i, j - 1, color, new_color)\n",
    "\n",
    "\n",
    "def paint_fill(\n",
    "    screen, r: int, c: int, new_color: int\n",
    "):\n",
    "    if not screen:\n",
    "        return None\n",
    "\n",
    "    color = screen[r][c]\n",
    "    flood_fill(screen, r, c, color, new_color)\n",
    "    return screen\n",
    "\n",
    "sc = [[1, 2, 5], [2, 2, 4], [2, 8, 6]]\n",
    "r = 1\n",
    "c = 1\n",
    "new = 3\n",
    "paint_fill(sc, r, c, new)"
   ]
  },
  {
   "source": [
    "## **Coins**"
   ],
   "cell_type": "markdown",
   "metadata": {}
  },
  {
   "cell_type": "code",
   "execution_count": 63,
   "metadata": {},
   "outputs": [
    {
     "output_type": "stream",
     "name": "stdout",
     "text": [
      "497\n497\n"
     ]
    }
   ],
   "source": [
    "STANDARD_COIN_SIZES = [1, 5, 10, 20, 25]\n",
    "\n",
    "\n",
    "def coin_combinations(amount, coin_sizes=None):\n",
    "    if amount == 0:\n",
    "        return 1\n",
    "    if amount < 0:\n",
    "        return 0\n",
    "    if coin_sizes is None:\n",
    "        coin_sizes = STANDARD_COIN_SIZES\n",
    "\n",
    "    if len(coin_sizes) == 0:\n",
    "        return 0\n",
    "    m = len(coin_sizes)\n",
    "    return coin_combinations(amount, coin_sizes[: m - 1]) + coin_combinations(\n",
    "        amount - coin_sizes[m - 1], coin_sizes\n",
    "    )\n",
    "\n",
    "\n",
    "def coin_combinations_iterative(amount, coin_sizes=None):\n",
    "    table = [0] * (amount + 1)\n",
    "    # first case 0 value\n",
    "    table[0] = 1\n",
    "\n",
    "    if coin_sizes is None:\n",
    "        coin_sizes = STANDARD_COIN_SIZES\n",
    "    for i in range(0, len(coin_sizes)):\n",
    "        for j in range(coin_sizes[i], amount + 1):\n",
    "            table[j] += table[j - coin_sizes[i]]\n",
    "    return table[amount]\n",
    "\n",
    "\n",
    "if __name__ == \"__main__\":\n",
    "    print(coin_combinations(100))\n",
    "    print(coin_combinations_iterative(100))"
   ]
  },
  {
   "cell_type": "code",
   "execution_count": 67,
   "metadata": {},
   "outputs": [],
   "source": [
    "import copy\n",
    "\n",
    "def position_is_valid(row, col, board):\n",
    "\n",
    "    # Check if there are any queens in the rows above this position\n",
    "    for cur_row in range(row):\n",
    "        if board[cur_row][col] == \"Q\":\n",
    "            return False\n",
    "\n",
    "    # Check if there are any queens in the cols along this position\n",
    "    # This is a sanity check since our main function shouldn't add more than\n",
    "    # one queen at any row\n",
    "    for cur_col in range(len(board[row])):\n",
    "        if board[row][cur_col] == \"Q\":\n",
    "            return False\n",
    "\n",
    "    # Check if there is a queen in the upper left diagonal\n",
    "    cur_row = row\n",
    "    cur_col = col\n",
    "    while cur_row >= 0 and cur_col >= 0:\n",
    "        if board[cur_row][cur_col] == \"Q\":\n",
    "            return False\n",
    "        cur_row -= 1\n",
    "        cur_col -= 1\n",
    "\n",
    "    # Check if there is a queen in the upper right diagonal\n",
    "    cur_row = row\n",
    "    cur_col = col\n",
    "    while cur_row >= 0 and cur_col < len(board[row]):\n",
    "        if board[cur_row][cur_col] == \"Q\":\n",
    "            return False\n",
    "        cur_row -= 1\n",
    "        cur_col += 1\n",
    "    return True\n",
    "\n",
    "\n",
    "def queens(n=8):\n",
    "    def helper(row, board):\n",
    "        if row == n:\n",
    "            arrangements.append(copy.deepcopy(board))\n",
    "            # print('$'*20)\n",
    "            # pprint.pprint(board)\n",
    "            # print('$'*20)\n",
    "        else:\n",
    "            for col in range(len(board[row])):\n",
    "                if position_is_valid(row, col, board):\n",
    "                    board[row][col] = \"Q\"\n",
    "                    helper(row + 1, copy.deepcopy(board))\n",
    "                    board[row][col] = \".\"\n",
    "                    # pprint.pprint(board)\n",
    "\n",
    "    arrangements = []\n",
    "    helper(0, [[\".\" for _ in range(8)] for _ in range(8)])\n",
    "    return arrangements"
   ]
  },
  {
   "cell_type": "code",
   "execution_count": 70,
   "metadata": {},
   "outputs": [
    {
     "output_type": "execute_result",
     "data": {
      "text/plain": [
       " '.', 'Q'],\n",
       "  ['.', '.', '.', '.', '.', 'Q', '.', '.'],\n",
       "  ['Q', '.', '.', '.', '.', '.', '.', '.'],\n",
       "  ['.', '.', 'Q', '.', '.', '.', '.', '.'],\n",
       "  ['.', '.', '.', '.', 'Q', '.', '.', '.'],\n",
       "  ['.', '.', '.', '.', '.', '.', 'Q', '.']],\n",
       " [['.', '.', '.', 'Q', '.', '.', '.', '.'],\n",
       "  ['.', '.', '.', '.', '.', 'Q', '.', '.'],\n",
       "  ['Q', '.', '.', '.', '.', '.', '.', '.'],\n",
       "  ['.', '.', '.', '.', 'Q', '.', '.', '.'],\n",
       "  ['.', 'Q', '.', '.', '.', '.', '.', '.'],\n",
       "  ['.', '.', '.', '.', '.', '.', '.', 'Q'],\n",
       "  ['.', '.', 'Q', '.', '.', '.', '.', '.'],\n",
       "  ['.', '.', '.', '.', '.', '.', 'Q', '.']],\n",
       " [['.', '.', '.', 'Q', '.', '.', '.', '.'],\n",
       "  ['.', '.', '.', '.', '.', 'Q', '.', '.'],\n",
       "  ['.', '.', '.', '.', '.', '.', '.', 'Q'],\n",
       "  ['.', 'Q', '.', '.', '.', '.', '.', '.'],\n",
       "  ['.', '.', '.', '.', '.', '.', 'Q', '.'],\n",
       "  ['Q', '.', '.', '.', '.', '.', '.', '.'],\n",
       "  ['.', '.', 'Q', '.', '.', '.', '.', '.'],\n",
       "  ['.', '.', '.', '.', 'Q', '.', '.', '.']],\n",
       " [['.', '.', '.', 'Q', '.', '.', '.', '.'],\n",
       "  ['.', '.', '.', '.', '.', 'Q', '.', '.'],\n",
       "  ['.', '.', '.', '.', '.', '.', '.', 'Q'],\n",
       "  ['.', '.', 'Q', '.', '.', '.', '.', '.'],\n",
       "  ['Q', '.', '.', '.', '.', '.', '.', '.'],\n",
       "  ['.', '.', '.', '.', '.', '.', 'Q', '.'],\n",
       "  ['.', '.', '.', '.', 'Q', '.', '.', '.'],\n",
       "  ['.', 'Q', '.', '.', '.', '.', '.', '.']],\n",
       " [['.', '.', '.', 'Q', '.', '.', '.', '.'],\n",
       "  ['.', '.', '.', '.', '.', '.', 'Q', '.'],\n",
       "  ['Q', '.', '.', '.', '.', '.', '.', '.'],\n",
       "  ['.', '.', '.', '.', '.', '.', '.', 'Q'],\n",
       "  ['.', '.', '.', '.', 'Q', '.', '.', '.'],\n",
       "  ['.', 'Q', '.', '.', '.', '.', '.', '.'],\n",
       "  ['.', '.', '.', '.', '.', 'Q', '.', '.'],\n",
       "  ['.', '.', 'Q', '.', '.', '.', '.', '.']],\n",
       " [['.', '.', '.', 'Q', '.', '.', '.', '.'],\n",
       "  ['.', '.', '.', '.', '.', '.', 'Q', '.'],\n",
       "  ['.', '.', 'Q', '.', '.', '.', '.', '.'],\n",
       "  ['.', '.', '.', '.', '.', '.', '.', 'Q'],\n",
       "  ['.', 'Q', '.', '.', '.', '.', '.', '.'],\n",
       "  ['.', '.', '.', '.', 'Q', '.', '.', '.'],\n",
       "  ['Q', '.', '.', '.', '.', '.', '.', '.'],\n",
       "  ['.', '.', '.', '.', '.', 'Q', '.', '.']],\n",
       " [['.', '.', '.', 'Q', '.', '.', '.', '.'],\n",
       "  ['.', '.', '.', '.', '.', '.', 'Q', '.'],\n",
       "  ['.', '.', '.', '.', 'Q', '.', '.', '.'],\n",
       "  ['.', 'Q', '.', '.', '.', '.', '.', '.'],\n",
       "  ['.', '.', '.', '.', '.', 'Q', '.', '.'],\n",
       "  ['Q', '.', '.', '.', '.', '.', '.', '.'],\n",
       "  ['.', '.', 'Q', '.', '.', '.', '.', '.'],\n",
       "  ['.', '.', '.', '.', '.', '.', '.', 'Q']],\n",
       " [['.', '.', '.', 'Q', '.', '.', '.', '.'],\n",
       "  ['.', '.', '.', '.', '.', '.', 'Q', '.'],\n",
       "  ['.', '.', '.', '.', 'Q', '.', '.', '.'],\n",
       "  ['.', '.', 'Q', '.', '.', '.', '.', '.'],\n",
       "  ['Q', '.', '.', '.', '.', '.', '.', '.'],\n",
       "  ['.', '.', '.', '.', '.', 'Q', '.', '.'],\n",
       "  ['.', '.', '.', '.', '.', '.', '.', 'Q'],\n",
       "  ['.', 'Q', '.', '.', '.', '.', '.', '.']],\n",
       " [['.', '.', '.', 'Q', '.', '.', '.', '.'],\n",
       "  ['.', '.', '.', '.', '.', '.', '.', 'Q'],\n",
       "  ['Q', '.', '.', '.', '.', '.', '.', '.'],\n",
       "  ['.', '.', 'Q', '.', '.', '.', '.', '.'],\n",
       "  ['.', '.', '.', '.', '.', 'Q', '.', '.'],\n",
       "  ['.', 'Q', '.', '.', '.', '.', '.', '.'],\n",
       "  ['.', '.', '.', '.', '.', '.', 'Q', '.'],\n",
       "  ['.', '.', '.', '.', 'Q', '.', '.', '.']],\n",
       " [['.', '.', '.', 'Q', '.', '.', '.', '.'],\n",
       "  ['.', '.', '.', '.', '.', '.', '.', 'Q'],\n",
       "  ['Q', '.', '.', '.', '.', '.', '.', '.'],\n",
       "  ['.', '.', '.', '.', 'Q', '.', '.', '.'],\n",
       "  ['.', '.', '.', '.', '.', '.', 'Q', '.'],\n",
       "  ['.', 'Q', '.', '.', '.', '.', '.', '.'],\n",
       "  ['.', '.', '.', '.', '.', 'Q', '.', '.'],\n",
       "  ['.', '.', 'Q', '.', '.', '.', '.', '.']],\n",
       " [['.', '.', '.', 'Q', '.', '.', '.', '.'],\n",
       "  ['.', '.', '.', '.', '.', '.', '.', 'Q'],\n",
       "  ['.', '.', '.', '.', 'Q', '.', '.', '.'],\n",
       "  ['.', '.', 'Q', '.', '.', '.', '.', '.'],\n",
       "  ['Q', '.', '.', '.', '.', '.', '.', '.'],\n",
       "  ['.', '.', '.', '.', '.', '.', 'Q', '.'],\n",
       "  ['.', 'Q', '.', '.', '.', '.', '.', '.'],\n",
       "  ['.', '.', '.', '.', '.', 'Q', '.', '.']],\n",
       " [['.', '.', '.', '.', 'Q', '.', '.', '.'],\n",
       "  ['Q', '.', '.', '.', '.', '.', '.', '.'],\n",
       "  ['.', '.', '.', 'Q', '.', '.', '.', '.'],\n",
       "  ['.', '.', '.', '.', '.', 'Q', '.', '.'],\n",
       "  ['.', '.', '.', '.', '.', '.', '.', 'Q'],\n",
       "  ['.', 'Q', '.', '.', '.', '.', '.', '.'],\n",
       "  ['.', '.', '.', '.', '.', '.', 'Q', '.'],\n",
       "  ['.', '.', 'Q', '.', '.', '.', '.', '.']],\n",
       " [['.', '.', '.', '.', 'Q', '.', '.', '.'],\n",
       "  ['Q', '.', '.', '.', '.', '.', '.', '.'],\n",
       "  ['.', '.', '.', '.', '.', '.', '.', 'Q'],\n",
       "  ['.', '.', '.', 'Q', '.', '.', '.', '.'],\n",
       "  ['.', 'Q', '.', '.', '.', '.', '.', '.'],\n",
       "  ['.', '.', '.', '.', '.', '.', 'Q', '.'],\n",
       "  ['.', '.', 'Q', '.', '.', '.', '.', '.'],\n",
       "  ['.', '.', '.', '.', '.', 'Q', '.', '.']],\n",
       " [['.', '.', '.', '.', 'Q', '.', '.', '.'],\n",
       "  ['Q', '.', '.', '.', '.', '.', '.', '.'],\n",
       "  ['.', '.', '.', '.', '.', '.', '.', 'Q'],\n",
       "  ['.', '.', '.', '.', '.', 'Q', '.', '.'],\n",
       "  ['.', '.', 'Q', '.', '.', '.', '.', '.'],\n",
       "  ['.', '.', '.', '.', '.', '.', 'Q', '.'],\n",
       "  ['.', 'Q', '.', '.', '.', '.', '.', '.'],\n",
       "  ['.', '.', '.', 'Q', '.', '.', '.', '.']],\n",
       " [['.', '.', '.', '.', 'Q', '.', '.', '.'],\n",
       "  ['.', 'Q', '.', '.', '.', '.', '.', '.'],\n",
       "  ['.', '.', '.', 'Q', '.', '.', '.', '.'],\n",
       "  ['.', '.', '.', '.', '.', 'Q', '.', '.'],\n",
       "  ['.', '.', '.', '.', '.', '.', '.', 'Q'],\n",
       "  ['.', '.', 'Q', '.', '.', '.', '.', '.'],\n",
       "  ['Q', '.', '.', '.', '.', '.', '.', '.'],\n",
       "  ['.', '.', '.', '.', '.', '.', 'Q', '.']],\n",
       " [['.', '.', '.', '.', 'Q', '.', '.', '.'],\n",
       "  ['.', 'Q', '.', '.', '.', '.', '.', '.'],\n",
       "  ['.', '.', '.', 'Q', '.', '.', '.', '.'],\n",
       "  ['.', '.', '.', '.', '.', '.', 'Q', '.'],\n",
       "  ['.', '.', 'Q', '.', '.', '.', '.', '.'],\n",
       "  ['.', '.', '.', '.', '.', '.', '.', 'Q'],\n",
       "  ['.', '.', '.', '.', '.', 'Q', '.', '.'],\n",
       "  ['Q', '.', '.', '.', '.', '.', '.', '.']],\n",
       " [['.', '.', '.', '.', 'Q', '.', '.', '.'],\n",
       "  ['.', 'Q', '.', '.', '.', '.', '.', '.'],\n",
       "  ['.', '.', '.', '.', '.', 'Q', '.', '.'],\n",
       "  ['Q', '.', '.', '.', '.', '.', '.', '.'],\n",
       "  ['.', '.', '.', '.', '.', '.', 'Q', '.'],\n",
       "  ['.', '.', '.', 'Q', '.', '.', '.', '.'],\n",
       "  ['.', '.', '.', '.', '.', '.', '.', 'Q'],\n",
       "  ['.', '.', 'Q', '.', '.', '.', '.', '.']],\n",
       " [['.', '.', '.', '.', 'Q', '.', '.', '.'],\n",
       "  ['.', 'Q', '.', '.', '.', '.', '.', '.'],\n",
       "  ['.', '.', '.', '.', '.', '.', '.', 'Q'],\n",
       "  ['Q', '.', '.', '.', '.', '.', '.', '.'],\n",
       "  ['.', '.', '.', 'Q', '.', '.', '.', '.'],\n",
       "  ['.', '.', '.', '.', '.', '.', 'Q', '.'],\n",
       "  ['.', '.', 'Q', '.', '.', '.', '.', '.'],\n",
       "  ['.', '.', '.', '.', '.', 'Q', '.', '.']],\n",
       " [['.', '.', '.', '.', 'Q', '.', '.', '.'],\n",
       "  ['.', '.', 'Q', '.', '.', '.', '.', '.'],\n",
       "  ['Q', '.', '.', '.', '.', '.', '.', '.'],\n",
       "  ['.', '.', '.', '.', '.', 'Q', '.', '.'],\n",
       "  ['.', '.', '.', '.', '.', '.', '.', 'Q'],\n",
       "  ['.', 'Q', '.', '.', '.', '.', '.', '.'],\n",
       "  ['.', '.', '.', 'Q', '.', '.', '.', '.'],\n",
       "  ['.', '.', '.', '.', '.', '.', 'Q', '.']],\n",
       " [['.', '.', '.', '.', 'Q', '.', '.', '.'],\n",
       "  ['.', '.', 'Q', '.', '.', '.', '.', '.'],\n",
       "  ['Q', '.', '.', '.', '.', '.', '.', '.'],\n",
       "  ['.', '.', '.', '.', '.', '.', 'Q', '.'],\n",
       "  ['.', 'Q', '.', '.', '.', '.', '.', '.'],\n",
       "  ['.', '.', '.', '.', '.', '.', '.', 'Q'],\n",
       "  ['.', '.', '.', '.', '.', 'Q', '.', '.'],\n",
       "  ['.', '.', '.', 'Q', '.', '.', '.', '.']],\n",
       " [['.', '.', '.', '.', 'Q', '.', '.', '.'],\n",
       "  ['.', '.', 'Q', '.', '.', '.', '.', '.'],\n",
       "  ['.', '.', '.', '.', '.', '.', '.', 'Q'],\n",
       "  ['.', '.', '.', 'Q', '.', '.', '.', '.'],\n",
       "  ['.', '.', '.', '.', '.', '.', 'Q', '.'],\n",
       "  ['Q', '.', '.', '.', '.', '.', '.', '.'],\n",
       "  ['.', '.', '.', '.', '.', 'Q', '.', '.'],\n",
       "  ['.', 'Q', '.', '.', '.', '.', '.', '.']],\n",
       " [['.', '.', '.', '.', 'Q', '.', '.', '.'],\n",
       "  ['.', '.', '.', '.', '.', '.', 'Q', '.'],\n",
       "  ['Q', '.', '.', '.', '.', '.', '.', '.'],\n",
       "  ['.', '.', 'Q', '.', '.', '.', '.', '.'],\n",
       "  ['.', '.', '.', '.', '.', '.', '.', 'Q'],\n",
       "  ['.', '.', '.', '.', '.', 'Q', '.', '.'],\n",
       "  ['.', '.', '.', 'Q', '.', '.', '.', '.'],\n",
       "  ['.', 'Q', '.', '.', '.', '.', '.', '.']],\n",
       " [['.', '.', '.', '.', 'Q', '.', '.', '.'],\n",
       "  ['.', '.', '.', '.', '.', '.', 'Q', '.'],\n",
       "  ['Q', '.', '.', '.', '.', '.', '.', '.'],\n",
       "  ['.', '.', '.', 'Q', '.', '.', '.', '.'],\n",
       "  ['.', 'Q', '.', '.', '.', '.', '.', '.'],\n",
       "  ['.', '.', '.', '.', '.', '.', '.', 'Q'],\n",
       "  ['.', '.', '.', '.', '.', 'Q', '.', '.'],\n",
       "  ['.', '.', 'Q', '.', '.', '.', '.', '.']],\n",
       " [['.', '.', '.', '.', 'Q', '.', '.', '.'],\n",
       "  ['.', '.', '.', '.', '.', '.', 'Q', '.'],\n",
       "  ['.', 'Q', '.', '.', '.', '.', '.', '.'],\n",
       "  ['.', '.', '.', 'Q', '.', '.', '.', '.'],\n",
       "  ['.', '.', '.', '.', '.', '.', '.', 'Q'],\n",
       "  ['Q', '.', '.', '.', '.', '.', '.', '.'],\n",
       "  ['.', '.', 'Q', '.', '.', '.', '.', '.'],\n",
       "  ['.', '.', '.', '.', '.', 'Q', '.', '.']],\n",
       " [['.', '.', '.', '.', 'Q', '.', '.', '.'],\n",
       "  ['.', '.', '.', '.', '.', '.', 'Q', '.'],\n",
       "  ['.', 'Q', '.', '.', '.', '.', '.', '.'],\n",
       "  ['.', '.', '.', '.', '.', 'Q', '.', '.'],\n",
       "  ['.', '.', 'Q', '.', '.', '.', '.', '.'],\n",
       "  ['Q', '.', '.', '.', '.', '.', '.', '.'],\n",
       "  ['.', '.', '.', 'Q', '.', '.', '.', '.'],\n",
       "  ['.', '.', '.', '.', '.', '.', '.', 'Q']],\n",
       " [['.', '.', '.', '.', 'Q', '.', '.', '.'],\n",
       "  ['.', '.', '.', '.', '.', '.', 'Q', '.'],\n",
       "  ['.', 'Q', '.', '.', '.', '.', '.', '.'],\n",
       "  ['.', '.', '.', '.', '.', 'Q', '.', '.'],\n",
       "  ['.', '.', 'Q', '.', '.', '.', '.', '.'],\n",
       "  ['Q', '.', '.', '.', '.', '.', '.', '.'],\n",
       "  ['.', '.', '.', '.', '.', '.', '.', 'Q'],\n",
       "  ['.', '.', '.', 'Q', '.', '.', '.', '.']],\n",
       " [['.', '.', '.', '.', 'Q', '.', '.', '.'],\n",
       "  ['.', '.', '.', '.', '.', '.', 'Q', '.'],\n",
       "  ['.', '.', '.', 'Q', '.', '.', '.', '.'],\n",
       "  ['Q', '.', '.', '.', '.', '.', '.', '.'],\n",
       "  ['.', '.', 'Q', '.', '.', '.', '.', '.'],\n",
       "  ['.', '.', '.', '.', '.', '.', '.', 'Q'],\n",
       "  ['.', '.', '.', '.', '.', 'Q', '.', '.'],\n",
       "  ['.', 'Q', '.', '.', '.', '.', '.', '.']],\n",
       " [['.', '.', '.', '.', 'Q', '.', '.', '.'],\n",
       "  ['.', '.', '.', '.', '.', '.', '.', 'Q'],\n",
       "  ['.', '.', '.', 'Q', '.', '.', '.', '.'],\n",
       "  ['Q', '.', '.', '.', '.', '.', '.', '.'],\n",
       "  ['.', '.', 'Q', '.', '.', '.', '.', '.'],\n",
       "  ['.', '.', '.', '.', '.', 'Q', '.', '.'],\n",
       "  ['.', 'Q', '.', '.', '.', '.', '.', '.'],\n",
       "  ['.', '.', '.', '.', '.', '.', 'Q', '.']],\n",
       " [['.', '.', '.', '.', 'Q', '.', '.', '.'],\n",
       "  ['.', '.', '.', '.', '.', '.', '.', 'Q'],\n",
       "  ['.', '.', '.', 'Q', '.', '.', '.', '.'],\n",
       "  ['Q', '.', '.', '.', '.', '.', '.', '.'],\n",
       "  ['.', '.', '.', '.', '.', '.', 'Q', '.'],\n",
       "  ['.', 'Q', '.', '.', '.', '.', '.', '.'],\n",
       "  ['.', '.', '.', '.', '.', 'Q', '.', '.'],\n",
       "  ['.', '.', 'Q', '.', '.', '.', '.', '.']],\n",
       " [['.', '.', '.', '.', '.', 'Q', '.', '.'],\n",
       "  ['Q', '.', '.', '.', '.', '.', '.', '.'],\n",
       "  ['.', '.', '.', '.', 'Q', '.', '.', '.'],\n",
       "  ['.', 'Q', '.', '.', '.', '.', '.', '.'],\n",
       "  ['.', '.', '.', '.', '.', '.', '.', 'Q'],\n",
       "  ['.', '.', 'Q', '.', '.', '.', '.', '.'],\n",
       "  ['.', '.', '.', '.', '.', '.', 'Q', '.'],\n",
       "  ['.', '.', '.', 'Q', '.', '.', '.', '.']],\n",
       " [['.', '.', '.', '.', '.', 'Q', '.', '.'],\n",
       "  ['.', 'Q', '.', '.', '.', '.', '.', '.'],\n",
       "  ['.', '.', '.', '.', '.', '.', 'Q', '.'],\n",
       "  ['Q', '.', '.', '.', '.', '.', '.', '.'],\n",
       "  ['.', '.', 'Q', '.', '.', '.', '.', '.'],\n",
       "  ['.', '.', '.', '.', 'Q', '.', '.', '.'],\n",
       "  ['.', '.', '.', '.', '.', '.', '.', 'Q'],\n",
       "  ['.', '.', '.', 'Q', '.', '.', '.', '.']],\n",
       " [['.', '.', '.', '.', '.', 'Q', '.', '.'],\n",
       "  ['.', 'Q', '.', '.', '.', '.', '.', '.'],\n",
       "  ['.', '.', '.', '.', '.', '.', 'Q', '.'],\n",
       "  ['Q', '.', '.', '.', '.', '.', '.', '.'],\n",
       "  ['.', '.', '.', 'Q', '.', '.', '.', '.'],\n",
       "  ['.', '.', '.', '.', '.', '.', '.', 'Q'],\n",
       "  ['.', '.', '.', '.', 'Q', '.', '.', '.'],\n",
       "  ['.', '.', 'Q', '.', '.', '.', '.', '.']],\n",
       " [['.', '.', '.', '.', '.', 'Q', '.', '.'],\n",
       "  ['.', '.', 'Q', '.', '.', '.', '.', '.'],\n",
       "  ['Q', '.', '.', '.', '.', '.', '.', '.'],\n",
       "  ['.', '.', '.', '.', '.', '.', 'Q', '.'],\n",
       "  ['.', '.', '.', '.', 'Q', '.', '.', '.'],\n",
       "  ['.', '.', '.', '.', '.', '.', '.', 'Q'],\n",
       "  ['.', 'Q', '.', '.', '.', '.', '.', '.'],\n",
       "  ['.', '.', '.', 'Q', '.', '.', '.', '.']],\n",
       " [['.', '.', '.', '.', '.', 'Q', '.', '.'],\n",
       "  ['.', '.', 'Q', '.', '.', '.', '.', '.'],\n",
       "  ['Q', '.', '.', '.', '.', '.', '.', '.'],\n",
       "  ['.', '.', '.', '.', '.', '.', '.', 'Q'],\n",
       "  ['.', '.', '.', 'Q', '.', '.', '.', '.'],\n",
       "  ['.', 'Q', '.', '.', '.', '.', '.', '.'],\n",
       "  ['.', '.', '.', '.', '.', '.', 'Q', '.'],\n",
       "  ['.', '.', '.', '.', 'Q', '.', '.', '.']],\n",
       " [['.', '.', '.', '.', '.', 'Q', '.', '.'],\n",
       "  ['.', '.', 'Q', '.', '.', '.', '.', '.'],\n",
       "  ['Q', '.', '.', '.', '.', '.', '.', '.'],\n",
       "  ['.', '.', '.', '.', '.', '.', '.', 'Q'],\n",
       "  ['.', '.', '.', '.', 'Q', '.', '.', '.'],\n",
       "  ['.', 'Q', '.', '.', '.', '.', '.', '.'],\n",
       "  ['.', '.', '.', 'Q', '.', '.', '.', '.'],\n",
       "  ['.', '.', '.', '.', '.', '.', 'Q', '.']],\n",
       " [['.', '.', '.', '.', '.', 'Q', '.', '.'],\n",
       "  ['.', '.', 'Q', '.', '.', '.', '.', '.'],\n",
       "  ['.', '.', '.', '.', 'Q', '.', '.', '.'],\n",
       "  ['.', '.', '.', '.', '.', '.', 'Q', '.'],\n",
       "  ['Q', '.', '.', '.', '.', '.', '.', '.'],\n",
       "  ['.', '.', '.', 'Q', '.', '.', '.', '.'],\n",
       "  ['.', 'Q', '.', '.', '.', '.', '.', '.'],\n",
       "  ['.', '.', '.', '.', '.', '.', '.', 'Q']],\n",
       " [['.', '.', '.', '.', '.', 'Q', '.', '.'],\n",
       "  ['.', '.', 'Q', '.', '.', '.', '.', '.'],\n",
       "  ['.', '.', '.', '.', 'Q', '.', '.', '.'],\n",
       "  ['.', '.', '.', '.', '.', '.', '.', 'Q'],\n",
       "  ['Q', '.', '.', '.', '.', '.', '.', '.'],\n",
       "  ['.', '.', '.', 'Q', '.', '.', '.', '.'],\n",
       "  ['.', 'Q', '.', '.', '.', '.', '.', '.'],\n",
       "  ['.', '.', '.', '.', '.', '.', 'Q', '.']],\n",
       " [['.', '.', '.', '.', '.', 'Q', '.', '.'],\n",
       "  ['.', '.', 'Q', '.', '.', '.', '.', '.'],\n",
       "  ['.', '.', '.', '.', '.', '.', 'Q', '.'],\n",
       "  ['.', 'Q', '.', '.', '.', '.', '.', '.'],\n",
       "  ['.', '.', '.', 'Q', '.', '.', '.', '.'],\n",
       "  ['.', '.', '.', '.', '.', '.', '.', 'Q'],\n",
       "  ['Q', '.', '.', '.', '.', '.', '.', '.'],\n",
       "  ['.', '.', '.', '.', 'Q', '.', '.', '.']],\n",
       " [['.', '.', '.', '.', '.', 'Q', '.', '.'],\n",
       "  ['.', '.', 'Q', '.', '.', '.', '.', '.'],\n",
       "  ['.', '.', '.', '.', '.', '.', 'Q', '.'],\n",
       "  ['.', 'Q', '.', '.', '.', '.', '.', '.'],\n",
       "  ['.', '.', '.', '.', '.', '.', '.', 'Q'],\n",
       "  ['.', '.', '.', '.', 'Q', '.', '.', '.'],\n",
       "  ['Q', '.', '.', '.', '.', '.', '.', '.'],\n",
       "  ['.', '.', '.', 'Q', '.', '.', '.', '.']],\n",
       " [['.', '.', '.', '.', '.', 'Q', '.', '.'],\n",
       "  ['.', '.', 'Q', '.', '.', '.', '.', '.'],\n",
       "  ['.', '.', '.', '.', '.', '.', 'Q', '.'],\n",
       "  ['.', '.', '.', 'Q', '.', '.', '.', '.'],\n",
       "  ['Q', '.', '.', '.', '.', '.', '.', '.'],\n",
       "  ['.', '.', '.', '.', '.', '.', '.', 'Q'],\n",
       "  ['.', 'Q', '.', '.', '.', '.', '.', '.'],\n",
       "  ['.', '.', '.', '.', 'Q', '.', '.', '.']],\n",
       " [['.', '.', '.', '.', '.', 'Q', '.', '.'],\n",
       "  ['.', '.', '.', 'Q', '.', '.', '.', '.'],\n",
       "  ['Q', '.', '.', '.', '.', '.', '.', '.'],\n",
       "  ['.', '.', '.', '.', 'Q', '.', '.', '.'],\n",
       "  ['.', '.', '.', '.', '.', '.', '.', 'Q'],\n",
       "  ['.', 'Q', '.', '.', '.', '.', '.', '.'],\n",
       "  ['.', '.', '.', '.', '.', '.', 'Q', '.'],\n",
       "  ['.', '.', 'Q', '.', '.', '.', '.', '.']],\n",
       " [['.', '.', '.', '.', '.', 'Q', '.', '.'],\n",
       "  ['.', '.', '.', 'Q', '.', '.', '.', '.'],\n",
       "  ['.', 'Q', '.', '.', '.', '.', '.', '.'],\n",
       "  ['.', '.', '.', '.', '.', '.', '.', 'Q'],\n",
       "  ['.', '.', '.', '.', 'Q', '.', '.', '.'],\n",
       "  ['.', '.', '.', '.', '.', '.', 'Q', '.'],\n",
       "  ['Q', '.', '.', '.', '.', '.', '.', '.'],\n",
       "  ['.', '.', 'Q', '.', '.', '.', '.', '.']],\n",
       " [['.', '.', '.', '.', '.', 'Q', '.', '.'],\n",
       "  ['.', '.', '.', 'Q', '.', '.', '.', '.'],\n",
       "  ['.', '.', '.', '.', '.', '.', 'Q', '.'],\n",
       "  ['Q', '.', '.', '.', '.', '.', '.', '.'],\n",
       "  ['.', '.', 'Q', '.', '.', '.', '.', '.'],\n",
       "  ['.', '.', '.', '.', 'Q', '.', '.', '.'],\n",
       "  ['.', 'Q', '.', '.', '.', '.', '.', '.'],\n",
       "  ['.', '.', '.', '.', '.', '.', '.', 'Q']],\n",
       " [['.', '.', '.', '.', '.', 'Q', '.', '.'],\n",
       "  ['.', '.', '.', 'Q', '.', '.', '.', '.'],\n",
       "  ['.', '.', '.', '.', '.', '.', 'Q', '.'],\n",
       "  ['Q', '.', '.', '.', '.', '.', '.', '.'],\n",
       "  ['.', '.', '.', '.', '.', '.', '.', 'Q'],\n",
       "  ['.', 'Q', '.', '.', '.', '.', '.', '.'],\n",
       "  ['.', '.', '.', '.', 'Q', '.', '.', '.'],\n",
       "  ['.', '.', 'Q', '.', '.', '.', '.', '.']],\n",
       " [['.', '.', '.', '.', '.', 'Q', '.', '.'],\n",
       "  ['.', '.', '.', '.', '.', '.', '.', 'Q'],\n",
       "  ['.', 'Q', '.', '.', '.', '.', '.', '.'],\n",
       "  ['.', '.', '.', 'Q', '.', '.', '.', '.'],\n",
       "  ['Q', '.', '.', '.', '.', '.', '.', '.'],\n",
       "  ['.', '.', '.', '.', '.', '.', 'Q', '.'],\n",
       "  ['.', '.', '.', '.', 'Q', '.', '.', '.'],\n",
       "  ['.', '.', 'Q', '.', '.', '.', '.', '.']],\n",
       " [['.', '.', '.', '.', '.', '.', 'Q', '.'],\n",
       "  ['Q', '.', '.', '.', '.', '.', '.', '.'],\n",
       "  ['.', '.', 'Q', '.', '.', '.', '.', '.'],\n",
       "  ['.', '.', '.', '.', '.', '.', '.', 'Q'],\n",
       "  ['.', '.', '.', '.', '.', 'Q', '.', '.'],\n",
       "  ['.', '.', '.', 'Q', '.', '.', '.', '.'],\n",
       "  ['.', 'Q', '.', '.', '.', '.', '.', '.'],\n",
       "  ['.', '.', '.', '.', 'Q', '.', '.', '.']],\n",
       " [['.', '.', '.', '.', '.', '.', 'Q', '.'],\n",
       "  ['.', 'Q', '.', '.', '.', '.', '.', '.'],\n",
       "  ['.', '.', '.', 'Q', '.', '.', '.', '.'],\n",
       "  ['Q', '.', '.', '.', '.', '.', '.', '.'],\n",
       "  ['.', '.', '.', '.', '.', '.', '.', 'Q'],\n",
       "  ['.', '.', '.', '.', 'Q', '.', '.', '.'],\n",
       "  ['.', '.', 'Q', '.', '.', '.', '.', '.'],\n",
       "  ['.', '.', '.', '.', '.', 'Q', '.', '.']],\n",
       " [['.', '.', '.', '.', '.', '.', 'Q', '.'],\n",
       "  ['.', 'Q', '.', '.', '.', '.', '.', '.'],\n",
       "  ['.', '.', '.', '.', '.', 'Q', '.', '.'],\n",
       "  ['.', '.', 'Q', '.', '.', '.', '.', '.'],\n",
       "  ['Q', '.', '.', '.', '.', '.', '.', '.'],\n",
       "  ['.', '.', '.', 'Q', '.', '.', '.', '.'],\n",
       "  ['.', '.', '.', '.', '.', '.', '.', 'Q'],\n",
       "  ['.', '.', '.', '.', 'Q', '.', '.', '.']],\n",
       " [['.', '.', '.', '.', '.', '.', 'Q', '.'],\n",
       "  ['.', '.', 'Q', '.', '.', '.', '.', '.'],\n",
       "  ['Q', '.', '.', '.', '.', '.', '.', '.'],\n",
       "  ['.', '.', '.', '.', '.', 'Q', '.', '.'],\n",
       "  ['.', '.', '.', '.', '.', '.', '.', 'Q'],\n",
       "  ['.', '.', '.', '.', 'Q', '.', '.', '.'],\n",
       "  ['.', 'Q', '.', '.', '.', '.', '.', '.'],\n",
       "  ['.', '.', '.', 'Q', '.', '.', '.', '.']],\n",
       " [['.', '.', '.', '.', '.', '.', 'Q', '.'],\n",
       "  ['.', '.', 'Q', '.', '.', '.', '.', '.'],\n",
       "  ['.', '.', '.', '.', '.', '.', '.', 'Q'],\n",
       "  ['.', 'Q', '.', '.', '.', '.', '.', '.'],\n",
       "  ['.', '.', '.', '.', 'Q', '.', '.', '.'],\n",
       "  ['Q', '.', '.', '.', '.', '.', '.', '.'],\n",
       "  ['.', '.', '.', '.', '.', 'Q', '.', '.'],\n",
       "  ['.', '.', '.', 'Q', '.', '.', '.', '.']],\n",
       " [['.', '.', '.', '.', '.', '.', 'Q', '.'],\n",
       "  ['.', '.', '.', 'Q', '.', '.', '.', '.'],\n",
       "  ['.', 'Q', '.', '.', '.', '.', '.', '.'],\n",
       "  ['.', '.', '.', '.', 'Q', '.', '.', '.'],\n",
       "  ['.', '.', '.', '.', '.', '.', '.', 'Q'],\n",
       "  ['Q', '.', '.', '.', '.', '.', '.', '.'],\n",
       "  ['.', '.', 'Q', '.', '.', '.', '.', '.'],\n",
       "  ['.', '.', '.', '.', '.', 'Q', '.', '.']],\n",
       " [['.', '.', '.', '.', '.', '.', 'Q', '.'],\n",
       "  ['.', '.', '.', 'Q', '.', '.', '.', '.'],\n",
       "  ['.', 'Q', '.', '.', '.', '.', '.', '.'],\n",
       "  ['.', '.', '.', '.', '.', '.', '.', 'Q'],\n",
       "  ['.', '.', '.', '.', '.', 'Q', '.', '.'],\n",
       "  ['Q', '.', '.', '.', '.', '.', '.', '.'],\n",
       "  ['.', '.', 'Q', '.', '.', '.', '.', '.'],\n",
       "  ['.', '.', '.', '.', 'Q', '.', '.', '.']],\n",
       " [['.', '.', '.', '.', '.', '.', 'Q', '.'],\n",
       "  ['.', '.', '.', '.', 'Q', '.', '.', '.'],\n",
       "  ['.', '.', 'Q', '.', '.', '.', '.', '.'],\n",
       "  ['Q', '.', '.', '.', '.', '.', '.', '.'],\n",
       "  ['.', '.', '.', '.', '.', 'Q', '.', '.'],\n",
       "  ['.', '.', '.', '.', '.', '.', '.', 'Q'],\n",
       "  ['.', 'Q', '.', '.', '.', '.', '.', '.'],\n",
       "  ['.', '.', '.', 'Q', '.', '.', '.', '.']],\n",
       " [['.', '.', '.', '.', '.', '.', '.', 'Q'],\n",
       "  ['.', 'Q', '.', '.', '.', '.', '.', '.'],\n",
       "  ['.', '.', '.', 'Q', '.', '.', '.', '.'],\n",
       "  ['Q', '.', '.', '.', '.', '.', '.', '.'],\n",
       "  ['.', '.', '.', '.', '.', '.', 'Q', '.'],\n",
       "  ['.', '.', '.', '.', 'Q', '.', '.', '.'],\n",
       "  ['.', '.', 'Q', '.', '.', '.', '.', '.'],\n",
       "  ['.', '.', '.', '.', '.', 'Q', '.', '.']],\n",
       " [['.', '.', '.', '.', '.', '.', '.', 'Q'],\n",
       "  ['.', 'Q', '.', '.', '.', '.', '.', '.'],\n",
       "  ['.', '.', '.', '.', 'Q', '.', '.', '.'],\n",
       "  ['.', '.', 'Q', '.', '.', '.', '.', '.'],\n",
       "  ['Q', '.', '.', '.', '.', '.', '.', '.'],\n",
       "  ['.', '.', '.', '.', '.', '.', 'Q', '.'],\n",
       "  ['.', '.', '.', 'Q', '.', '.', '.', '.'],\n",
       "  ['.', '.', '.', '.', '.', 'Q', '.', '.']],\n",
       " [['.', '.', '.', '.', '.', '.', '.', 'Q'],\n",
       "  ['.', '.', 'Q', '.', '.', '.', '.', '.'],\n",
       "  ['Q', '.', '.', '.', '.', '.', '.', '.'],\n",
       "  ['.', '.', '.', '.', '.', 'Q', '.', '.'],\n",
       "  ['.', 'Q', '.', '.', '.', '.', '.', '.'],\n",
       "  ['.', '.', '.', '.', 'Q', '.', '.', '.'],\n",
       "  ['.', '.', '.', '.', '.', '.', 'Q', '.'],\n",
       "  ['.', '.', '.', 'Q', '.', '.', '.', '.']],\n",
       " [['.', '.', '.', '.', '.', '.', '.', 'Q'],\n",
       "  ['.', '.', '.', 'Q', '.', '.', '.', '.'],\n",
       "  ['Q', '.', '.', '.', '.', '.', '.', '.'],\n",
       "  ['.', '.', 'Q', '.', '.', '.', '.', '.'],\n",
       "  ['.', '.', '.', '.', '.', 'Q', '.', '.'],\n",
       "  ['.', 'Q', '.', '.', '.', '.', '.', '.'],\n",
       "  ['.', '.', '.', '.', '.', '.', 'Q', '.'],\n",
       "  ['.', '.', '.', '.', 'Q', '.', '.', '.']]]"
      ]
     },
     "metadata": {},
     "execution_count": 70
    }
   ],
   "source": [
    "queens()"
   ]
  },
  {
   "source": [
    "## **Stack of Boxes**"
   ],
   "cell_type": "markdown",
   "metadata": {}
  },
  {
   "cell_type": "code",
   "execution_count": 73,
   "metadata": {},
   "outputs": [],
   "source": [
    "from functools import reduce\n",
    "\n",
    "\n",
    "def tallest_stack(boxes):\n",
    "    boxes.sort(reverse=True)\n",
    "\n",
    "    def tallest_for_bottom(cur_stack, cur_box_idx):\n",
    "        if cur_box_idx == len(boxes):\n",
    "            return reduce(lambda x, y: x + y.height, cur_stack, 0)\n",
    "\n",
    "        if (\n",
    "            cur_stack[-1].height > boxes[cur_box_idx].height\n",
    "            and cur_stack[-1].width > boxes[cur_box_idx].width\n",
    "            and cur_stack[-1].depth > boxes[cur_box_idx].depth\n",
    "        ):\n",
    "            return tallest_for_bottom(cur_stack + [boxes[cur_box_idx]], cur_box_idx + 1)\n",
    "\n",
    "        return tallest_for_bottom(cur_stack, cur_box_idx + 1)\n",
    "\n",
    "    largest_height = 0\n",
    "    for i, box in enumerate(boxes):\n",
    "        largest_height = max(largest_height, tallest_for_bottom([box], i + 1))\n",
    "    return largest_height\n",
    "\n",
    "\n",
    "class Box:\n",
    "    def __init__(self, height, width, depth):\n",
    "        self.height = height\n",
    "        self.width = width\n",
    "        self.depth = depth\n",
    "\n",
    "    def __lt__(self, other):\n",
    "        return self.height < other.height\n",
    "\n",
    "    def __eq__(self, other):\n",
    "        return self.height == other.height"
   ]
  },
  {
   "cell_type": "code",
   "execution_count": 74,
   "metadata": {},
   "outputs": [
    {
     "output_type": "execute_result",
     "data": {
      "text/plain": [
       "9"
      ]
     },
     "metadata": {},
     "execution_count": 74
    }
   ],
   "source": [
    "tallest_stack([Box(3, 2, 1), Box(6, 5, 4)])"
   ]
  },
  {
   "source": [
    "## **Boolean Evaluation**"
   ],
   "cell_type": "markdown",
   "metadata": {}
  },
  {
   "cell_type": "code",
   "execution_count": 78,
   "metadata": {},
   "outputs": [
    {
     "output_type": "execute_result",
     "data": {
      "text/plain": [
       "5"
      ]
     },
     "metadata": {},
     "execution_count": 78
    }
   ],
   "source": [
    "def string_to_bool(s: str) -> bool:\n",
    "    return s == \"1\"\n",
    "\n",
    "\n",
    "def count_ways(exp: str, result: bool, memo) -> int:\n",
    "    if len(exp) == 0:\n",
    "        return 0\n",
    "    if len(exp) == 1:\n",
    "        return 1 if string_to_bool(exp) == result else 0\n",
    "\n",
    "    if exp + str(result) in memo:\n",
    "        return memo[exp + str(result)]\n",
    "\n",
    "    ways = 0\n",
    "    for i in range(1, len(exp), 2):\n",
    "        left = exp[:i]\n",
    "        right = exp[i + 1 :]\n",
    "\n",
    "        left_true = count_ways(left, True, memo)\n",
    "        left_false = count_ways(left, False, memo)\n",
    "        right_true = count_ways(right, True, memo)\n",
    "        right_false = count_ways(right, False, memo)\n",
    "\n",
    "        total = (left_true + left_false) * (right_true + right_false)\n",
    "\n",
    "        total_true = 0\n",
    "        if exp[i] == \"|\":\n",
    "            total_true = (\n",
    "                left_true * right_true\n",
    "                + left_false * right_true\n",
    "                + left_true * right_false\n",
    "            )\n",
    "        elif exp[i] == \"&\":\n",
    "            total_true = left_true * right_true\n",
    "        elif exp[i] == \"^\":\n",
    "            total_true = left_true * right_false + left_false * right_true\n",
    "\n",
    "        subways = total_true if result else (total - total_true)\n",
    "        ways += subways\n",
    "\n",
    "    memo[exp + str(result)] = ways\n",
    "    return ways\n",
    "\n",
    "\n",
    "def evaluate(exp: str, result: bool) -> int:\n",
    "    memo = {}\n",
    "    return count_ways(exp, result, memo)\n",
    "\n",
    "exp = \"1^0|0&1\"\n",
    "results = True\n",
    "evaluate(exp,results)"
   ]
  },
  {
   "source": [
    "# **Sorting and Searching**"
   ],
   "cell_type": "markdown",
   "metadata": {}
  },
  {
   "source": [
    "# **Sorted Merge**"
   ],
   "cell_type": "markdown",
   "metadata": {}
  },
  {
   "cell_type": "code",
   "execution_count": 140,
   "metadata": {},
   "outputs": [
    {
     "output_type": "stream",
     "name": "stdout",
     "text": [
      "8\n4\n3\n"
     ]
    },
    {
     "output_type": "execute_result",
     "data": {
      "text/plain": [
       "[5, 7, 8, 9, 10, 11, 11, 12, 13]"
      ]
     },
     "metadata": {},
     "execution_count": 140
    }
   ],
   "source": [
    "def sorted_merge(a, b):\n",
    "    index = len(a) - 1\n",
    "    index_b = len(b) - 1\n",
    "    index_a = len(a) - len(b) - 1\n",
    "    print(index)\n",
    "    print(index_a)\n",
    "    print(index_b)\n",
    "\n",
    "    while index_b >= 0:\n",
    "        if index_a >= 0 and a[index_a] > b[index_b]:\n",
    "            a[index] = a[index_a]\n",
    "            index_a -= 1\n",
    "        else:\n",
    "            a[index] = b[index_b]\n",
    "            index_b -= 1\n",
    "        if index > 0:\n",
    "            index -= 1\n",
    "    return a\n",
    "\n",
    "a = [9, 10, 11, 12, 13, 0, 0, 0, 0]\n",
    "b = [5, 7, 8, 11]\n",
    "sorted_merge(a, b)"
   ]
  },
  {
   "source": [
    "## **Group Anagrams**"
   ],
   "cell_type": "markdown",
   "metadata": {}
  },
  {
   "cell_type": "code",
   "execution_count": 146,
   "metadata": {},
   "outputs": [
    {
     "output_type": "stream",
     "name": "stdout",
     "text": [
      "The original list : ['lump', 'eat', 'me', 'tea', 'em', 'plum']\nThe grouped Anagrams : [['lump', 'plum'], ['eat', 'tea'], ['me', 'em']]\n"
     ]
    }
   ],
   "source": [
    "# Python3 code to demonstrate\n",
    "# Grouping Anagrams\n",
    "# using defaultdict() + sorted() + values()\n",
    "from collections import defaultdict\n",
    "\n",
    "# initializing list\n",
    "test_list = ['lump', 'eat', 'me', 'tea', 'em', 'plum']\n",
    "\n",
    "# printing original list\n",
    "print(\"The original list : \" + str(test_list))\n",
    "\n",
    "# using defaultdict() + sorted() + values()\n",
    "# Grouping Anagrams\n",
    "temp = defaultdict(list)\n",
    "for ele in test_list:\n",
    "\ttemp[str(sorted(ele))].append(ele)\n",
    "res = list(temp.values())\n",
    "\n",
    "# print result\n",
    "print(\"The grouped Anagrams : \" + str(res))\n"
   ]
  },
  {
   "cell_type": "code",
   "execution_count": 145,
   "metadata": {},
   "outputs": [
    {
     "output_type": "stream",
     "name": "stdout",
     "text": [
      "The original list : ['lump', 'eat', 'me', 'tea', 'em', 'plum']\nThe grouped Anagrams : [['eat', 'tea'], ['me', 'em'], ['lump', 'plum']]\n"
     ]
    }
   ],
   "source": [
    "# Python3 code to demonstrate\n",
    "# Grouping Anagrams\n",
    "# using list comprehension + sorted() + lambda + groupby()\n",
    "from itertools import groupby\n",
    "\n",
    "# initializing list\n",
    "test_list = ['lump', 'eat', 'me', 'tea', 'em', 'plum']\n",
    "\n",
    "# printing original list\n",
    "print(\"The original list : \" + str(test_list))\n",
    "\n",
    "# using list comprehension + sorted() + lambda + groupby()\n",
    "# Grouping Anagrams\n",
    "temp = lambda test_list: sorted(test_list)\n",
    "res = [list(val) for key, val in groupby(sorted(test_list, key = temp), temp)]\n",
    "\n",
    "# print result\n",
    "print(\"The grouped Anagrams : \" + str(res))\n"
   ]
  },
  {
   "source": [
    "## **Searched in Rotated Array**"
   ],
   "cell_type": "markdown",
   "metadata": {}
  },
  {
   "cell_type": "code",
   "execution_count": 147,
   "metadata": {},
   "outputs": [
    {
     "output_type": "stream",
     "name": "stdout",
     "text": [
      "Index:  2\n"
     ]
    }
   ],
   "source": [
    "# Search an element in sorted and rotated array using\n",
    "# single pass of Binary Search\n",
    "\n",
    "# Returns index of key in arr[l..h] if key is present,\n",
    "# otherwise returns -1\n",
    "def search (arr, l, h, key):\n",
    "\tif l > h:\n",
    "\t\treturn -1\n",
    "\t\n",
    "\tmid = (l + h) // 2\n",
    "\tif arr[mid] == key:\n",
    "\t\treturn mid\n",
    "\n",
    "\t# If arr[l...mid] is sorted\n",
    "\tif arr[l] <= arr[mid]:\n",
    "\n",
    "\t\t# As this subarray is sorted, we can quickly\n",
    "\t\t# check if key lies in half or other half\n",
    "\t\tif key >= arr[l] and key <= arr[mid]:\n",
    "\t\t\treturn search(arr, l, mid-1, key)\n",
    "\t\treturn search(arr, mid + 1, h, key)\n",
    "\n",
    "\t# If arr[l..mid] is not sorted, then arr[mid... r]\n",
    "\t# must be sorted\n",
    "\tif key >= arr[mid] and key <= arr[h]:\n",
    "\t\treturn search(a, mid + 1, h, key)\n",
    "\treturn search(arr, l, mid-1, key)\n",
    "\n",
    "# Driver program\n",
    "arr = [4, 5, 6, 7, 8, 9, 1, 2, 3]\n",
    "key = 6\n",
    "i = search(arr, 0, len(arr)-1, key)\n",
    "if i != -1:\n",
    "\tprint (\"Index: % d\"% i)\n",
    "else:\n",
    "\tprint (\"Key not found\")\n",
    "\n",
    "# This code is contributed by Shreyanshi Arun\n"
   ]
  },
  {
   "source": [
    "## **Sorted Seach, No Size**"
   ],
   "cell_type": "markdown",
   "metadata": {}
  },
  {
   "cell_type": "code",
   "execution_count": 149,
   "metadata": {},
   "outputs": [
    {
     "output_type": "execute_result",
     "data": {
      "text/plain": [
       "3"
      ]
     },
     "metadata": {},
     "execution_count": 149
    }
   ],
   "source": [
    "def sorted_nosize_search(listy, num):\n",
    "    # Adapted to work with a Python sorted\n",
    "    # array and handle the index error exception\n",
    "    exp_backoff = index = 0\n",
    "    limit = False\n",
    "    while not limit:\n",
    "        try:\n",
    "            temp = listy[index]\n",
    "            if temp > num:\n",
    "                limit = True\n",
    "            else:\n",
    "                index = 2 ** exp_backoff\n",
    "                exp_backoff += 1\n",
    "        except IndexError:\n",
    "            limit = True\n",
    "    return bi_search(listy, num, index // 2, index)\n",
    "\n",
    "\n",
    "def bi_search(listy, num, low, high):\n",
    "    while low <= high:\n",
    "        middle = (high + low) // 2\n",
    "\n",
    "        try:\n",
    "            value_at = listy[middle]\n",
    "        except IndexError:\n",
    "            value_at = -1\n",
    "\n",
    "        if num < value_at or value_at == -1:\n",
    "            high = middle - 1\n",
    "        elif num > value_at:\n",
    "            low = middle + 1\n",
    "        else:\n",
    "            return middle\n",
    "    return -1\n",
    "\n",
    "list_a = [1, 2, 3, 4, 5, 6, 7, 8, 9]\n",
    "num_a  = 4\n",
    "sorted_nosize_search(list_a, num_a)"
   ]
  },
  {
   "cell_type": "code",
   "execution_count": 156,
   "metadata": {},
   "outputs": [
    {
     "output_type": "stream",
     "name": "stdout",
     "text": [
      "Element found at index 4\n"
     ]
    }
   ],
   "source": [
    "# Python Program to demonstrate working of an algorithm that finds\n",
    "# an element in an array of infinite size\n",
    "\n",
    "# Binary search algorithm implementation\n",
    "def binary_search(arr,l,r,x):\n",
    "\n",
    "\tif r >= l:\n",
    "\t\tmid = l+(r-l)//2\n",
    "\n",
    "\t\tif arr[mid] == x:\n",
    "\t\t\treturn mid\n",
    "\n",
    "\t\tif arr[mid] > x:\n",
    "\t\t\treturn binary_search(arr,l,mid-1,x)\n",
    "\n",
    "\t\treturn binary_search(arr,mid+1,r,x)\n",
    "\n",
    "\treturn -1\n",
    "\n",
    "# function takes an infinite size array and a key to be\n",
    "# searched and returns its position if found else -1.\n",
    "# We don't know size of a[] and we can assume size to be\n",
    "# infinite in this function.\n",
    "# NOTE THAT THIS FUNCTION ASSUMES a[] TO BE OF INFINITE SIZE\n",
    "# THEREFORE, THERE IS NO INDEX OUT OF BOUND CHECKING\n",
    "def findPos(a, key):\n",
    "\n",
    "\tl, h, val = 0, 1, arr[0]\n",
    "\n",
    "\t# Find h to do binary search\n",
    "\twhile val < key:\n",
    "\t\tl = h\t\t #store previous high\n",
    "\t\th = 2*h\t\t #double high index\n",
    "\t\tval = arr[h]\t #update new val\n",
    "\n",
    "\t# at this point we have updated low and high indices,\n",
    "\t# thus use binary search between them\n",
    "\treturn binary_search(a, l, h, key)\n",
    "\n",
    "# Driver function\n",
    "arr = [3, 5, 7, 9, 10, 90, 100, 130, 140, 160, 170]\n",
    "ans = findPos(arr,10)\n",
    "if ans == -1:\n",
    "\tprint(\"Element not found\")\n",
    "else:\n",
    "\tprint(\"Element found at index\",ans)\n",
    "\n",
    "# This code is contributed by __Devesh Agrawal__\n"
   ]
  },
  {
   "source": [
    "## **Sparse Search**"
   ],
   "cell_type": "markdown",
   "metadata": {}
  },
  {
   "cell_type": "code",
   "execution_count": 157,
   "metadata": {},
   "outputs": [
    {
     "output_type": "execute_result",
     "data": {
      "text/plain": [
       "5"
      ]
     },
     "metadata": {},
     "execution_count": 157
    }
   ],
   "source": [
    "def sparse_search(arr, item):\n",
    "    def inner_search(arr, item, low, high):\n",
    "        middle = ((high - low) // 2) + low\n",
    "\n",
    "        if arr[middle] == \"\":\n",
    "            left = middle - 1\n",
    "            right = middle + 1\n",
    "            while True:\n",
    "                if left < low and right > high:\n",
    "                    return None\n",
    "                elif right <= high and arr[right] != \"\":\n",
    "                    middle = right\n",
    "                    break\n",
    "                elif left >= low and arr[left] != \"\":\n",
    "                    middle = left\n",
    "                    break\n",
    "                left -= 1\n",
    "                right += 1\n",
    "\n",
    "        if arr[middle] == item:\n",
    "            return middle\n",
    "        if arr[middle] > item:\n",
    "            return inner_search(arr, item, low, middle - 1)\n",
    "        if arr[middle] < item:\n",
    "            return inner_search(arr, item, middle + 1, high)\n",
    "\n",
    "    return inner_search(arr, item, 0, len(arr) - 1)\n",
    "\n",
    "arr_a = [\"\", \"at\", \"\", \"\", \"\", \"ball\", \"\", \"\", \"car\", \"\", \"\", \"dad\", \"\", \"\"]\n",
    "item_a = \"ball\" \n",
    "sparse_search(arr_a, item_a)"
   ]
  },
  {
   "cell_type": "code",
   "execution_count": 159,
   "metadata": {},
   "outputs": [
    {
     "output_type": "stream",
     "name": "stdout",
     "text": [
      "Found string geeks at index 4\n"
     ]
    }
   ],
   "source": [
    "# Python3 program to implement binary search\n",
    "# in a sparse array\n",
    "\n",
    "def sparseSearch(arr , key , low , high):\n",
    "\n",
    "\tleft = 0; right = 0\n",
    "\n",
    "\twhile low <= high:\n",
    "\n",
    "\t\t\tmid = low + (high - low) // 2\n",
    "\n",
    "\t\t\tif arr[mid] == '':\n",
    "\t\t\t\tleft = mid - 1\n",
    "\t\t\t\tright = mid + 1\n",
    "\n",
    "\t\t\t\twhile True:\n",
    "\n",
    "\t\t\t\t\t# Check for out of bounds\n",
    "\t\t\t\t\tif left < low and right > high:\n",
    "\t\t\t\t\t\treturn -1\n",
    "\n",
    "\t\t\t\t\telif left >= low and arr[left] != '':\n",
    "\t\t\t\t\t\t# Search left\n",
    "\t\t\t\t\t\tmid = left\n",
    "\t\t\t\t\t\tbreak\n",
    "\n",
    "\t\t\t\t\telif right <= high and arr[right] != '':\n",
    "\t\t\t\t\t\t# Search right\n",
    "\t\t\t\t\t\tmid = right\n",
    "\t\t\t\t\t\tbreak\n",
    "\n",
    "\t\t\t\t\tleft -= 1\n",
    "\t\t\t\t\tright += 1\n",
    "\n",
    "\t\t\tif arr[mid] == key:\n",
    "\t\t\t\tprint('Found string {} at index {}'.format\n",
    "\t\t\t\t\t(arr[mid] , mid))\n",
    "\t\t\t\treturn mid\n",
    "\n",
    "\t\t\t# Classical Binary search\n",
    "\t\t\t# search left\n",
    "\t\t\telif arr[mid] > key:\n",
    "\t\t\t\thigh = mid - 1\n",
    "\n",
    "\t\t\t# search right\n",
    "\t\t\telif arr[mid] < key:\n",
    "\t\t\t\tlow = mid + 1\n",
    "\n",
    "\treturn -1\n",
    "\n",
    "if __name__ == '__main__':\n",
    "\n",
    "\tarr = [\"for\", \"\", \"\", \"\", \"geeks\", \"\", \"ide\",\n",
    "\t\t\"practice\", \"\", \"\", \"\", \"quiz\"]\t\t\t\t\n",
    "\tkey = 'geeks'\n",
    "\n",
    "\tlow = 0\n",
    "\thigh = len(arr) - 1\n",
    "\n",
    "\tsparseSearch(arr , key , low , high)\n",
    "\n",
    "# This is Code contributed by\n",
    "# Ashwin Viswanathan\n",
    "# Additional Updates by Meghna Natraj\n"
   ]
  },
  {
   "source": [
    "## **Sort Big File**"
   ],
   "cell_type": "markdown",
   "metadata": {}
  },
  {
   "source": [
    "External Sort"
   ],
   "cell_type": "markdown",
   "metadata": {}
  },
  {
   "source": [
    "## **Missing Int**"
   ],
   "cell_type": "markdown",
   "metadata": {}
  },
  {
   "source": [
    "There are a total of 232, or 4 billion, distinct integers possible and 231 non-negative integers. Therefore, we\n",
    "know the input file (assuming it is ints rather than longs)contains some duplicates.\n",
    "We have 1 GB of memory, or 8 billion bits. Thus, with 8 billion bits, we can map all possible integers to a\n",
    "distinct bit with the available memory. The logic is as follows:"
   ],
   "cell_type": "markdown",
   "metadata": {}
  },
  {
   "source": [
    "1. Create a bit vector (BV) with 4 billion bits. Recall that a bit vector is an array that compactly stores\n",
    "boolean values by using an array of ints (or another data type). Each int represents 32 boolean values.\n",
    "2. Initialize BV with all Os.\n",
    "3. Scan all numbers (num) from the file and call BV. set (num, 1) .\n",
    "4. Now scan again BV from the 0th index.\n",
    "5. Return the first index which has a value of 0."
   ],
   "cell_type": "markdown",
   "metadata": {}
  },
  {
   "source": [
    "## **Find Duplicates**"
   ],
   "cell_type": "markdown",
   "metadata": {}
  },
  {
   "source": [
    "BitVector"
   ],
   "cell_type": "markdown",
   "metadata": {}
  },
  {
   "cell_type": "code",
   "execution_count": 160,
   "metadata": {},
   "outputs": [
    {
     "output_type": "stream",
     "name": "stdout",
     "text": [
      "The original list : [5, 6, 2, 5, 3, 3, 6, 5, 5, 6, 5]\nThe list after sorting and removal : [2, 3, 6, 5]\n"
     ]
    }
   ],
   "source": [
    "# Python3 code to demonstrate\n",
    "# sorting and removal of duplicates\n",
    "# Using sorted() + set() + count()\n",
    "\n",
    "# initializing list\n",
    "test_list = [5, 6, 2, 5, 3, 3, 6, 5, 5, 6, 5]\n",
    "\n",
    "# printing original list\n",
    "print(\"The original list : \" + str(test_list))\n",
    "\n",
    "# using sorted() + set() + count()\n",
    "# sorting and removal of duplicates\n",
    "res = sorted(set(test_list), key = lambda ele: test_list.count(ele))\n",
    "\n",
    "# print result\n",
    "print(\"The list after sorting and removal : \" + str(res))\n"
   ]
  },
  {
   "source": [
    "## **Sorted Matrix Search**"
   ],
   "cell_type": "markdown",
   "metadata": {}
  },
  {
   "cell_type": "code",
   "execution_count": 166,
   "metadata": {},
   "outputs": [
    {
     "output_type": "stream",
     "name": "stdout",
     "text": [
      "Element found at ( 2 , 1 )\n"
     ]
    },
    {
     "output_type": "execute_result",
     "data": {
      "text/plain": [
       "1"
      ]
     },
     "metadata": {},
     "execution_count": 166
    }
   ],
   "source": [
    "# Python program to search an element in row-wise\n",
    "# and column-wise sorted matrix\n",
    "\n",
    "# Searches the element x in mat[][]. If the\n",
    "# element is found, then prints its position\n",
    "# and returns true, otherwise prints \"not found\"\n",
    "# and returns false\n",
    "def search(mat, n, x):\n",
    "\tif(n == 0):\n",
    "\t\treturn -1\n",
    "\t\n",
    "\t# Traverse through the matrix\n",
    "\tfor i in range(n):\n",
    "\t\tfor j in range(n):\n",
    "\t\t\t\n",
    "\t\t\t# If the element is found\n",
    "\t\t\tif(mat[i][j] == x):\n",
    "\t\t\t\tprint(\"Element found at (\", i, \",\", j, \")\")\n",
    "\t\t\t\treturn 1\n",
    "\t\n",
    "\tprint(\" Element not found\")\n",
    "\treturn 0\n",
    "\n",
    "# Driver code\n",
    "mat = [[10, 20, 30, 40], \n",
    "       [15, 25, 35, 45],\n",
    "       [27, 29, 37, 48],\n",
    "       [32, 33, 39, 50]]\n",
    "search(mat, 4, 29)\n",
    "\n",
    "# This code is contributed by rag2127\n"
   ]
  },
  {
   "cell_type": "code",
   "execution_count": 165,
   "metadata": {},
   "outputs": [
    {
     "output_type": "stream",
     "name": "stdout",
     "text": [
      "n Found at  3 ,  2\n"
     ]
    },
    {
     "output_type": "execute_result",
     "data": {
      "text/plain": [
       "1"
      ]
     },
     "metadata": {},
     "execution_count": 165
    }
   ],
   "source": [
    "# Python3 program to search an element\n",
    "# in row-wise and column-wise sorted matrix\n",
    "\n",
    "# Searches the element x in mat[][]. If the\n",
    "# element is found, then prints its position\n",
    "# and returns true, otherwise prints \"not found\"\n",
    "# and returns false\n",
    "def search(mat, n, x):\n",
    "\n",
    "\ti = 0\n",
    "\t\n",
    "\t# set indexes for top right element\n",
    "\tj = n - 1\n",
    "\twhile ( i < n and j >= 0 ):\n",
    "\t\n",
    "\t\tif (mat[i][j] == x ):\n",
    "\t\n",
    "\t\t\tprint(\"n Found at \", i, \", \", j)\n",
    "\t\t\treturn 1\n",
    "\t\n",
    "\t\tif (mat[i][j] > x ):\n",
    "\t\t\tj -= 1\n",
    "\t\t\t\n",
    "\t\t# if mat[i][j] < x\n",
    "\t\telse:\n",
    "\t\t\ti += 1\n",
    "\t\n",
    "\tprint(\"Element not found\")\n",
    "\treturn 0 # if (i == n || j == -1 )\n",
    "\n",
    "# Driver Code\n",
    "mat = [ [10, 20, 30, 40],\n",
    "\t\t[15, 25, 35, 45],\n",
    "\t\t[27, 29, 37, 48],\n",
    "\t\t[32, 33, 39, 50] ]\n",
    "search(mat, 4, 39)\n",
    "\n",
    "# This code is contributed by Anant Agarwal.\n"
   ]
  },
  {
   "source": [
    "## **Rank from Stream**"
   ],
   "cell_type": "markdown",
   "metadata": {}
  },
  {
   "cell_type": "code",
   "execution_count": 167,
   "metadata": {},
   "outputs": [
    {
     "output_type": "stream",
     "name": "stdout",
     "text": [
      "Rank of 4 in stream is: 3\nRank of 13 in stream is: 8\nRank of 8 in stream is: -1\n"
     ]
    }
   ],
   "source": [
    "# Python3 program to find rank of an\n",
    "# element in a stream.\n",
    "\n",
    "class newNode:\n",
    "\tdef __init__(self, data):\n",
    "\t\tself.data = data\n",
    "\t\tself.left = self.right = None\n",
    "\t\tself.leftSize = 0\n",
    "\n",
    "# Inserting a new Node.\n",
    "def insert(root, data):\n",
    "\tif root is None:\n",
    "\t\treturn newNode(data)\n",
    "\n",
    "\t# Updating size of left subtree.\n",
    "\tif data <= root.data:\n",
    "\t\troot.left = insert(root.left, data)\n",
    "\t\troot.leftSize += 1\n",
    "\telse:\n",
    "\t\troot.right = insert(root.right, data)\n",
    "\treturn root\n",
    "\n",
    "# Function to get Rank of a Node x.\n",
    "def getRank(root, x):\n",
    "\t\n",
    "\t# Step 1.\n",
    "\tif root.data == x:\n",
    "\t\treturn root.leftSize\n",
    "\n",
    "\t# Step 2.\n",
    "\tif x < root.data:\n",
    "\t\tif root.left is None:\n",
    "\t\t\treturn -1\n",
    "\t\telse:\n",
    "\t\t\treturn getRank(root.left, x)\n",
    "\n",
    "\t# Step 3.\n",
    "\telse:\n",
    "\t\tif root.right is None:\n",
    "\t\t\treturn -1\n",
    "\t\telse:\n",
    "\t\t\trightSize = getRank(root.right, x)\n",
    "\t\t\tif rightSize == -1:\n",
    "\t\t\t\t# x not found in right sub tree, i.e. not found in stream\n",
    "\t\t\t\treturn -1\n",
    "\t\t\telse:\n",
    "\t\t\t\treturn root.leftSize + 1 + rightSize\n",
    "\n",
    "# Driver code\n",
    "if __name__ == '__main__':\n",
    "\tarr = [5, 1, 4, 4, 5, 9, 7, 13, 3]\n",
    "\tn = len(arr)\n",
    "\tx = 4\n",
    "\n",
    "\troot = None\n",
    "\tfor i in range(n):\n",
    "\t\troot = insert(root, arr[i])\n",
    "\n",
    "\tprint(\"Rank of\", x, \"in stream is:\",\n",
    "\t\t\t\t\tgetRank(root, x))\n",
    "\tx = 13\n",
    "\tprint(\"Rank of\", x, \"in stream is:\",\n",
    "\t\t\t\t\tgetRank(root, x))\n",
    "\tx = 8\n",
    "\tprint(\"Rank of\", x, \"in stream is:\",\n",
    "\t\t\t\t\tgetRank(root, x))\n",
    "\t\t\n",
    "# This code is contributed by PranchalK\n"
   ]
  },
  {
   "cell_type": "code",
   "execution_count": 168,
   "metadata": {},
   "outputs": [
    {
     "output_type": "stream",
     "name": "stdout",
     "text": [
      "Rank of 20 in stream is: 8\n"
     ]
    }
   ],
   "source": [
    "# Python3 program to find rank of an\n",
    "# element in a stream.\n",
    "\n",
    "# Driver code\n",
    "if __name__ == '__main__':\n",
    "\ta = [5, 1, 14, 4, 15,\n",
    "\t\t\t9, 7, 20, 11]\n",
    "\tkey = 20\n",
    "\tarraySize = len(a)\n",
    "\tcount = 0\n",
    "\tfor i in range(arraySize):\n",
    "\t\tif a[i] <= key:\n",
    "\t\t\tcount += 1\n",
    "\t\t\t\n",
    "\tprint(\"Rank of\", key,\n",
    "\t\t\"in stream is:\", count - 1)\n",
    "\n",
    "# This code is contributed by PranchalK\n"
   ]
  },
  {
   "source": [
    "## **Peaks and Valleys**"
   ],
   "cell_type": "markdown",
   "metadata": {}
  },
  {
   "cell_type": "code",
   "execution_count": 169,
   "metadata": {},
   "outputs": [
    {
     "output_type": "stream",
     "name": "stdout",
     "text": [
      "The original list is : [1, 2, 4, 2, 6, 7, 8, 3]\nPeaks and Valleys count : 3\n"
     ]
    }
   ],
   "source": [
    "# initializing list\n",
    "test_list = [1, 2, 4, 2, 6, 7, 8, 3]\n",
    "\n",
    "# printing original list\n",
    "print(\"The original list is : \" + str(test_list))\n",
    "\n",
    "res = 0\n",
    "for idx in range(1, len(test_list) - 1):\n",
    "\tif test_list[idx + 1] > test_list[idx] < test_list[idx - 1] or test_list[idx + 1] < test_list[idx] > test_list[idx - 1]:\n",
    "\t\tres += 1\n",
    "\n",
    "# printing result\n",
    "print(\"Peaks and Valleys count : \" + str(res))\n"
   ]
  },
  {
   "cell_type": "code",
   "execution_count": 170,
   "metadata": {},
   "outputs": [
    {
     "output_type": "stream",
     "name": "stdout",
     "text": [
      "The original list is : [1, 2, 4, 2, 6, 7, 8, 3]\nPeaks and Valleys count : 3\n"
     ]
    }
   ],
   "source": [
    "# initializing list\n",
    "test_list = [1, 2, 4, 2, 6, 7, 8, 3]\n",
    "\n",
    "# printing original list\n",
    "print(\"The original list is : \" + str(test_list))\n",
    "\n",
    "# one-liner alternative\n",
    "res = len([test_list[idx] for idx in range(1, len(test_list) - 1) if test_list[idx + 1] >\n",
    "\t\ttest_list[idx] < test_list[idx - 1] or test_list[idx + 1] < test_list[idx] > test_list[idx - 1]])\n",
    "\n",
    "# printing result\n",
    "print(\"Peaks and Valleys count : \" + str(res))\n"
   ]
  },
  {
   "source": [
    "# **Hard**"
   ],
   "cell_type": "markdown",
   "metadata": {}
  },
  {
   "cell_type": "code",
   "execution_count": 79,
   "metadata": {},
   "outputs": [
    {
     "output_type": "stream",
     "name": "stdout",
     "text": [
      "47\n"
     ]
    }
   ],
   "source": [
    "# Python3 Program to add two numbers\n",
    "# without using arithmetic operator\n",
    "def Add(x, y):\n",
    "\n",
    "\t# Iterate till there is no carry\n",
    "\twhile (y != 0):\n",
    "\t\n",
    "\t\t# carry now contains common\n",
    "\t\t# set bits of x and y\n",
    "\t\tcarry = x & y\n",
    "\n",
    "\t\t# Sum of bits of x and y where at\n",
    "\t\t# least one of the bits is not set\n",
    "\t\tx = x ^ y\n",
    "\n",
    "\t\t# Carry is shifted by one so that\n",
    "\t\t# adding it to x gives the required sum\n",
    "\t\ty = carry << 1\n",
    "\t\n",
    "\treturn x\n",
    "\n",
    "print(Add(15, 32))\n",
    "\n",
    "# This code is contributed by\n",
    "# Smitha Dinesh Semwal\n",
    "\n"
   ]
  },
  {
   "cell_type": "code",
   "execution_count": 110,
   "metadata": {},
   "outputs": [],
   "source": [
    "def staircase(n):\n",
    "    if(1<= n <=100):\n",
    "        for i in range(1,n+1):\n",
    "            print((\" \"* (n-i)), (\"#\" * i))\n",
    "    else :\n",
    "        return False"
   ]
  },
  {
   "cell_type": "code",
   "execution_count": 111,
   "metadata": {},
   "outputs": [
    {
     "output_type": "stream",
     "name": "stdout",
     "text": [
      "     #\n    ##\n   ###\n  ####\n #####\n"
     ]
    }
   ],
   "source": [
    "staircase(5)"
   ]
  },
  {
   "cell_type": "code",
   "execution_count": 92,
   "metadata": {},
   "outputs": [
    {
     "output_type": "stream",
     "name": "stdout",
     "text": [
      "###\n"
     ]
    }
   ],
   "source": [
    "n = 3\n",
    "print(\"#\" * 3)"
   ]
  },
  {
   "cell_type": "code",
   "execution_count": 103,
   "metadata": {},
   "outputs": [
    {
     "output_type": "stream",
     "name": "stdout",
     "text": [
      "range(1, 3)\n"
     ]
    }
   ],
   "source": [
    "print(range(1,3))"
   ]
  },
  {
   "cell_type": "code",
   "execution_count": 117,
   "metadata": {},
   "outputs": [
    {
     "output_type": "stream",
     "name": "stdout",
     "text": [
      "    #\n   ##\n  ###\n ####\n#####\n"
     ]
    }
   ],
   "source": [
    "def staircase(n):\n",
    "    if(1<= n <=100):\n",
    "        for i in range(1,n+1):\n",
    "            if(i == n):\n",
    "                print(\"#\" * i)\n",
    "            else :\n",
    "                print((\" \"* (n-i-1)), (\"#\" * i))\n",
    "    else :\n",
    "        return False\n",
    "\n",
    "if __name__ == '__main__':\n",
    "    N = int(input())\n",
    "    staircase(N)"
   ]
  },
  {
   "cell_type": "code",
   "execution_count": 131,
   "metadata": {},
   "outputs": [
    {
     "output_type": "stream",
     "name": "stdout",
     "text": [
      "5\n5\n4\n3\n2\n1\n15\n"
     ]
    }
   ],
   "source": [
    "def addingNnumber(n):\n",
    "    print(len(n))\n",
    "    print(*n, sep = \"\\n\")\n",
    "    print(sum(n))\n",
    "\n",
    "\n",
    "if __name__ == '__main__':\n",
    "    N = int(input())\n",
    "    n_list = []\n",
    "    for i in range(0, N):\n",
    "        x = int(input())\n",
    "        n_list.append(x)\n",
    "    addingNnumber(n_list)"
   ]
  },
  {
   "cell_type": "code",
   "execution_count": null,
   "metadata": {},
   "outputs": [],
   "source": []
  }
 ]
}